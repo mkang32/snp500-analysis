{
 "cells": [
  {
   "cell_type": "markdown",
   "metadata": {},
   "source": [
    "# Past Values and Past Errors: The ARMA Model\n",
    "\n",
    "* Limitations of AR or MA models \n",
    "\n",
    "  * Both AR and MA have residuals that is not white noise. This means neither of them is suitable for fitting price return data. \n",
    "  * AR limitation: fail to adjust quickly to unexpected shocks --> need MA aspects to smooth out prediction\n",
    "  * MA limitation:  need a baseline to perform well --> need to use previous values (AR) \n",
    "  * AR + MA: solves the issues each one has individually \n",
    "\n",
    "* Definition \n",
    "\n",
    "  * Equation ARMA(1) \n",
    "    $$\n",
    "    r_t = c + \\varphi_1r_{t-1} + \\theta_1\\epsilon_{t-1} + \\epsilon_t\n",
    "    $$\n",
    "\n",
    "    * $r_t$, $r_{t-1}$: The values of \"r\" in the current period and 1 period ago respectively\n",
    "    * $\\epsilon_t$, $\\epsilon_{t-1}$ : Residuals for the current period and the 1 period ago respectively\n",
    "    * $c$: Baseline constant factor \n",
    "    * $\\varphi_1$: The part of the value last period is relevant in explaining the current one, $|\\varphi_n|<1$ to prevent compounded effects exploding in magnitude\n",
    "    * $\\theta_1$: The part of the value last period is relevant in explaining the current one, $|\\theta_n|<1$ to prevent compounded effects exploding in magnitude \n",
    "\n",
    "  * ARMA(p, q)\n",
    "\n",
    "    * p: number of lagged values (AR order)\n",
    "    * q: number of lagged errors (MA order)\n",
    "    * p and q don't have to be the same value  \n",
    "    * Actual - prediction -> how foar off our predictions were -> calibrate expections on the go "
   ]
  },
  {
   "cell_type": "code",
   "execution_count": null,
   "metadata": {},
   "outputs": [],
   "source": []
  }
 ],
 "metadata": {
  "kernelspec": {
   "display_name": "venv-snp",
   "language": "python",
   "name": "venv-snp"
  },
  "language_info": {
   "codemirror_mode": {
    "name": "ipython",
    "version": 3
   },
   "file_extension": ".py",
   "mimetype": "text/x-python",
   "name": "python",
   "nbconvert_exporter": "python",
   "pygments_lexer": "ipython3",
   "version": "3.9.1"
  }
 },
 "nbformat": 4,
 "nbformat_minor": 4
}

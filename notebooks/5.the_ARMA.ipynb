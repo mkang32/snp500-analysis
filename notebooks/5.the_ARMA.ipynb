{
 "cells": [
  {
   "cell_type": "markdown",
   "metadata": {},
   "source": [
    "# Past Values and Past Errors: The ARMA Model\n",
    "\n",
    "* Limitations of AR or MA models \n",
    "\n",
    "  * Both AR and MA have residuals that is not white noise. This means neither of them is suitable for fitting price return data. \n",
    "  * AR limitation: fail to adjust quickly to unexpected shocks --> need MA aspects to smooth out prediction\n",
    "  * MA limitation:  need a baseline to perform well --> need to use previous values (AR) \n",
    "  * AR + MA: solves the issues each one has individually \n",
    "\n",
    "* Definition \n",
    "\n",
    "  * Equation ARMA(1) \n",
    "    $$\n",
    "    r_t = c + \\varphi_1r_{t-1} + \\theta_1\\epsilon_{t-1} + \\epsilon_t\n",
    "    $$\n",
    "\n",
    "    * $r_t$, $r_{t-1}$: The values of \"r\" in the current period and 1 period ago respectively\n",
    "    * $\\epsilon_t$, $\\epsilon_{t-1}$ : Residuals for the current period and the 1 period ago respectively\n",
    "    * $c$: Baseline constant factor \n",
    "    * $\\varphi_1$: The part of the value last period is relevant in explaining the current one, $|\\varphi_n|<1$ to prevent compounded effects exploding in magnitude\n",
    "    * $\\theta_1$: The part of the value last period is relevant in explaining the current one, $|\\theta_n|<1$ to prevent compounded effects exploding in magnitude \n",
    "\n",
    "  * ARMA(p, q)\n",
    "\n",
    "    * p: number of lagged values (AR order)\n",
    "    * q: number of lagged errors (MA order)\n",
    "    * p and q don't have to be the same value  \n",
    "    * Actual - prediction -> how foar off our predictions were -> calibrate expections on the go "
   ]
  },
  {
   "cell_type": "code",
   "execution_count": 1,
   "metadata": {},
   "outputs": [],
   "source": [
    "import pandas as pd \n",
    "import matplotlib.pyplot as plt\n",
    "import statsmodels.tsa.stattools as sts\n",
    "import statsmodels.graphics.tsaplots as sgt\n",
    "from statsmodels.tsa.arima_model import ARMA\n",
    "from scipy.stats.distributions import chi2\n",
    "import seaborn as sns\n",
    "sns.set()\n",
    "\n",
    "import warnings\n",
    "warnings.filterwarnings('ignore')"
   ]
  },
  {
   "cell_type": "code",
   "execution_count": 2,
   "metadata": {},
   "outputs": [],
   "source": [
    "raw_data = pd.read_csv('../data/Index2018.csv')\n",
    "df_comp = raw_data.copy()\n",
    "df_comp.date = pd.to_datetime(df_comp.date, dayfirst=True)\n",
    "df_comp.set_index(\"date\", inplace=True)\n",
    "df_comp = df_comp.asfreq('b')\n",
    "df_comp = df_comp.fillna(method='ffill')"
   ]
  },
  {
   "cell_type": "code",
   "execution_count": 3,
   "metadata": {},
   "outputs": [],
   "source": [
    "df_comp['market_value'] = df_comp.ftse\n",
    "del df_comp['spx']\n",
    "del df_comp['dax']\n",
    "del df_comp['ftse']\n",
    "del df_comp['nikkei']\n",
    "\n",
    "size = int(len(df_comp)*0.8)\n",
    "df, df_test = df_comp.iloc[:size].copy(), df_comp.iloc[size:].copy()"
   ]
  },
  {
   "cell_type": "code",
   "execution_count": 4,
   "metadata": {},
   "outputs": [],
   "source": [
    "df['returns'] = df.market_value.pct_change(1).mul(100)"
   ]
  },
  {
   "cell_type": "code",
   "execution_count": 5,
   "metadata": {},
   "outputs": [],
   "source": [
    "def LLR_test(mod_1, mod_2, DF=1):\n",
    "    # DF: degrees of freedom\n",
    "    \n",
    "    # log likelihood\n",
    "    L1 = mod_1.fit().llf\n",
    "    L2 = mod_2.fit().llf\n",
    "    \n",
    "    # test statistic\n",
    "    LR = (2 * (L2 - L1))\n",
    "    p = chi2.sf(LR, DF).round(3)\n",
    "    \n",
    "    return p"
   ]
  },
  {
   "cell_type": "markdown",
   "metadata": {},
   "source": [
    "# ARMA(1, 1)"
   ]
  },
  {
   "cell_type": "code",
   "execution_count": 6,
   "metadata": {},
   "outputs": [
    {
     "data": {
      "text/html": [
       "<table class=\"simpletable\">\n",
       "<caption>ARMA Model Results</caption>\n",
       "<tr>\n",
       "  <th>Dep. Variable:</th>      <td>returns</td>     <th>  No. Observations:  </th>   <td>5020</td>   \n",
       "</tr>\n",
       "<tr>\n",
       "  <th>Model:</th>            <td>ARMA(1, 1)</td>    <th>  Log Likelihood     </th> <td>-7916.500</td>\n",
       "</tr>\n",
       "<tr>\n",
       "  <th>Method:</th>             <td>css-mle</td>     <th>  S.D. of innovations</th>   <td>1.171</td>  \n",
       "</tr>\n",
       "<tr>\n",
       "  <th>Date:</th>          <td>Thu, 28 Jan 2021</td> <th>  AIC                </th> <td>15841.000</td>\n",
       "</tr>\n",
       "<tr>\n",
       "  <th>Time:</th>              <td>23:22:31</td>     <th>  BIC                </th> <td>15867.085</td>\n",
       "</tr>\n",
       "<tr>\n",
       "  <th>Sample:</th>           <td>01-10-1994</td>    <th>  HQIC               </th> <td>15850.140</td>\n",
       "</tr>\n",
       "<tr>\n",
       "  <th></th>                 <td>- 04-05-2013</td>   <th>                     </th>     <td> </td>    \n",
       "</tr>\n",
       "</table>\n",
       "<table class=\"simpletable\">\n",
       "<tr>\n",
       "        <td></td>           <th>coef</th>     <th>std err</th>      <th>z</th>      <th>P>|z|</th>  <th>[0.025</th>    <th>0.975]</th>  \n",
       "</tr>\n",
       "<tr>\n",
       "  <th>const</th>         <td>    0.0189</td> <td>    0.013</td> <td>    1.446</td> <td> 0.148</td> <td>   -0.007</td> <td>    0.045</td>\n",
       "</tr>\n",
       "<tr>\n",
       "  <th>ar.L1.returns</th> <td>    0.7649</td> <td>    0.067</td> <td>   11.349</td> <td> 0.000</td> <td>    0.633</td> <td>    0.897</td>\n",
       "</tr>\n",
       "<tr>\n",
       "  <th>ma.L1.returns</th> <td>   -0.8141</td> <td>    0.061</td> <td>  -13.406</td> <td> 0.000</td> <td>   -0.933</td> <td>   -0.695</td>\n",
       "</tr>\n",
       "</table>\n",
       "<table class=\"simpletable\">\n",
       "<caption>Roots</caption>\n",
       "<tr>\n",
       "    <td></td>   <th>            Real</th>  <th>         Imaginary</th> <th>         Modulus</th>  <th>        Frequency</th>\n",
       "</tr>\n",
       "<tr>\n",
       "  <th>AR.1</th> <td>           1.3074</td> <td>          +0.0000j</td> <td>           1.3074</td> <td>           0.0000</td>\n",
       "</tr>\n",
       "<tr>\n",
       "  <th>MA.1</th> <td>           1.2284</td> <td>          +0.0000j</td> <td>           1.2284</td> <td>           0.0000</td>\n",
       "</tr>\n",
       "</table>"
      ],
      "text/plain": [
       "<class 'statsmodels.iolib.summary.Summary'>\n",
       "\"\"\"\n",
       "                              ARMA Model Results                              \n",
       "==============================================================================\n",
       "Dep. Variable:                returns   No. Observations:                 5020\n",
       "Model:                     ARMA(1, 1)   Log Likelihood               -7916.500\n",
       "Method:                       css-mle   S.D. of innovations              1.171\n",
       "Date:                Thu, 28 Jan 2021   AIC                          15841.000\n",
       "Time:                        23:22:31   BIC                          15867.085\n",
       "Sample:                    01-10-1994   HQIC                         15850.140\n",
       "                         - 04-05-2013                                         \n",
       "=================================================================================\n",
       "                    coef    std err          z      P>|z|      [0.025      0.975]\n",
       "---------------------------------------------------------------------------------\n",
       "const             0.0189      0.013      1.446      0.148      -0.007       0.045\n",
       "ar.L1.returns     0.7649      0.067     11.349      0.000       0.633       0.897\n",
       "ma.L1.returns    -0.8141      0.061    -13.406      0.000      -0.933      -0.695\n",
       "                                    Roots                                    \n",
       "=============================================================================\n",
       "                  Real          Imaginary           Modulus         Frequency\n",
       "-----------------------------------------------------------------------------\n",
       "AR.1            1.3074           +0.0000j            1.3074            0.0000\n",
       "MA.1            1.2284           +0.0000j            1.2284            0.0000\n",
       "-----------------------------------------------------------------------------\n",
       "\"\"\""
      ]
     },
     "execution_count": 6,
     "metadata": {},
     "output_type": "execute_result"
    }
   ],
   "source": [
    "model_ret_ar_1_ma_1 = ARMA(df.returns[1:], order=(1,1))\n",
    "results_ret_ar_1_ma_1 = model_ret_ar_1_ma_1.fit()\n",
    "results_ret_ar_1_ma_1.summary()"
   ]
  },
  {
   "cell_type": "markdown",
   "metadata": {},
   "source": [
    "The p-value for constant is not significantly different from zero. As we are using returns, it is within reason for returns to be centered around zero. This is completely acceptible. \n",
    "\n",
    "The coefficient for past value is over 0.5 meaning there is a positive tendency between past and present values. In other words, returns move in trends of consecutive positive or negative. When translating it into prices, prices tends to consistently increase or decrease. \n",
    "\n",
    "The negative coefficient for the past error is slightly harder to interpret. We should be moving away from the past period (t-1) values. These pas error terms ensure we don't get a \"fool in the shower\" type of error.   \n",
    "\n",
    "We want to compare the ARMA(1, 1) with the AR(1) and MA(1) models using LLR test because they are nested in the ARMA(1, 1)."
   ]
  },
  {
   "cell_type": "code",
   "execution_count": 7,
   "metadata": {},
   "outputs": [
    {
     "name": "stdout",
     "output_type": "stream",
     "text": [
      "ARMA vs AR 0.0\n",
      "ARMA vs MA 0.0\n"
     ]
    }
   ],
   "source": [
    "# LLR Test \n",
    "model_ret_ar_1 = ARMA(df.returns[1:], order=(1,0))\n",
    "model_ret_ma_1 = ARMA(df.returns[1:], order=(0,1))\n",
    "\n",
    "\n",
    "print(\"ARMA vs AR\", LLR_test(model_ret_ar_1, model_ret_ar_1_ma_1))\n",
    "print(\"ARMA vs MA\", LLR_test(model_ret_ma_1, model_ret_ar_1_ma_1))"
   ]
  },
  {
   "cell_type": "markdown",
   "metadata": {},
   "source": [
    "This verifies that ARMA(1,1) is better than AR(1) and MA(1)."
   ]
  },
  {
   "cell_type": "markdown",
   "metadata": {},
   "source": [
    "# Higher-Lag ARMA Models"
   ]
  },
  {
   "cell_type": "markdown",
   "metadata": {},
   "source": [
    "Check ACF & PACF. They suggests AR(8) and MA(6). We could include all the important lags but it can be redundant and it might overfit. We could start with ARMA(3, 3) which is about half of the first guess."
   ]
  },
  {
   "cell_type": "code",
   "execution_count": 33,
   "metadata": {},
   "outputs": [
    {
     "data": {
      "image/png": "[encoded data removed]",
      "text/plain": [
       "<Figure size 432x288 with 1 Axes>"
      ]
     },
     "metadata": {},
     "output_type": "display_data"
    }
   ],
   "source": [
    "sgt.plot_acf(df.returns[1:], zero=False, lags=40)\n",
    "plt.show()"
   ]
  },
  {
   "cell_type": "code",
   "execution_count": 34,
   "metadata": {},
   "outputs": [
    {
     "data": {
      "image/png": "[encoded data removed]",
      "text/plain": [
       "<Figure size 432x288 with 1 Axes>"
      ]
     },
     "metadata": {},
     "output_type": "display_data"
    }
   ],
   "source": [
    "sgt.plot_pacf(df.returns[1:], zero=False, lags=40)\n",
    "plt.show()"
   ]
  },
  {
   "cell_type": "markdown",
   "metadata": {},
   "source": [
    "# ARMA(3, 3)\n",
    "\n",
    "We still want a complicated model. By reducing the order by 1 from ARMA(3, 3), we begin with the models that consist of five total orders. ARMA(3, 2) and ARMA(2, 3). It makes little difference which one we try first. So, let's start with ARMA(3, 2)."
   ]
  },
  {
   "cell_type": "code",
   "execution_count": 8,
   "metadata": {},
   "outputs": [],
   "source": [
    "model_ret_ar_3_ma_3 = ARMA(df.returns[1:], order=(3,3))\n",
    "results_ret_ar_3_ma_3 = model_ret_ar_3_ma_3.fit()"
   ]
  },
  {
   "cell_type": "code",
   "execution_count": 9,
   "metadata": {},
   "outputs": [
    {
     "data": {
      "text/html": [
       "<table class=\"simpletable\">\n",
       "<caption>ARMA Model Results</caption>\n",
       "<tr>\n",
       "  <th>Dep. Variable:</th>      <td>returns</td>     <th>  No. Observations:  </th>   <td>5020</td>   \n",
       "</tr>\n",
       "<tr>\n",
       "  <th>Model:</th>            <td>ARMA(3, 3)</td>    <th>  Log Likelihood     </th> <td>-7893.515</td>\n",
       "</tr>\n",
       "<tr>\n",
       "  <th>Method:</th>             <td>css-mle</td>     <th>  S.D. of innovations</th>   <td>1.166</td>  \n",
       "</tr>\n",
       "<tr>\n",
       "  <th>Date:</th>          <td>Thu, 28 Jan 2021</td> <th>  AIC                </th> <td>15803.030</td>\n",
       "</tr>\n",
       "<tr>\n",
       "  <th>Time:</th>              <td>23:22:37</td>     <th>  BIC                </th> <td>15855.199</td>\n",
       "</tr>\n",
       "<tr>\n",
       "  <th>Sample:</th>           <td>01-10-1994</td>    <th>  HQIC               </th> <td>15821.310</td>\n",
       "</tr>\n",
       "<tr>\n",
       "  <th></th>                 <td>- 04-05-2013</td>   <th>                     </th>     <td> </td>    \n",
       "</tr>\n",
       "</table>\n",
       "<table class=\"simpletable\">\n",
       "<tr>\n",
       "        <td></td>           <th>coef</th>     <th>std err</th>      <th>z</th>      <th>P>|z|</th>  <th>[0.025</th>    <th>0.975]</th>  \n",
       "</tr>\n",
       "<tr>\n",
       "  <th>const</th>         <td>    0.0189</td> <td>    0.014</td> <td>    1.395</td> <td> 0.163</td> <td>   -0.008</td> <td>    0.045</td>\n",
       "</tr>\n",
       "<tr>\n",
       "  <th>ar.L1.returns</th> <td>   -0.1898</td> <td>    0.104</td> <td>   -1.827</td> <td> 0.068</td> <td>   -0.393</td> <td>    0.014</td>\n",
       "</tr>\n",
       "<tr>\n",
       "  <th>ar.L2.returns</th> <td>   -0.2942</td> <td>    0.087</td> <td>   -3.389</td> <td> 0.001</td> <td>   -0.464</td> <td>   -0.124</td>\n",
       "</tr>\n",
       "<tr>\n",
       "  <th>ar.L3.returns</th> <td>    0.4459</td> <td>    0.138</td> <td>    3.225</td> <td> 0.001</td> <td>    0.175</td> <td>    0.717</td>\n",
       "</tr>\n",
       "<tr>\n",
       "  <th>ma.L1.returns</th> <td>    0.1707</td> <td>    0.099</td> <td>    1.726</td> <td> 0.084</td> <td>   -0.023</td> <td>    0.365</td>\n",
       "</tr>\n",
       "<tr>\n",
       "  <th>ma.L2.returns</th> <td>    0.2277</td> <td>    0.084</td> <td>    2.701</td> <td> 0.007</td> <td>    0.062</td> <td>    0.393</td>\n",
       "</tr>\n",
       "<tr>\n",
       "  <th>ma.L3.returns</th> <td>   -0.5432</td> <td>    0.127</td> <td>   -4.270</td> <td> 0.000</td> <td>   -0.793</td> <td>   -0.294</td>\n",
       "</tr>\n",
       "</table>\n",
       "<table class=\"simpletable\">\n",
       "<caption>Roots</caption>\n",
       "<tr>\n",
       "    <td></td>   <th>            Real</th>  <th>         Imaginary</th> <th>         Modulus</th>  <th>        Frequency</th>\n",
       "</tr>\n",
       "<tr>\n",
       "  <th>AR.1</th> <td>          -0.5168</td> <td>          -1.0283j</td> <td>           1.1508</td> <td>          -0.3241</td>\n",
       "</tr>\n",
       "<tr>\n",
       "  <th>AR.2</th> <td>          -0.5168</td> <td>          +1.0283j</td> <td>           1.1508</td> <td>           0.3241</td>\n",
       "</tr>\n",
       "<tr>\n",
       "  <th>AR.3</th> <td>           1.6932</td> <td>          -0.0000j</td> <td>           1.6932</td> <td>          -0.0000</td>\n",
       "</tr>\n",
       "<tr>\n",
       "  <th>MA.1</th> <td>          -0.5286</td> <td>          -0.9835j</td> <td>           1.1166</td> <td>          -0.3285</td>\n",
       "</tr>\n",
       "<tr>\n",
       "  <th>MA.2</th> <td>          -0.5286</td> <td>          +0.9835j</td> <td>           1.1166</td> <td>           0.3285</td>\n",
       "</tr>\n",
       "<tr>\n",
       "  <th>MA.3</th> <td>           1.4764</td> <td>          -0.0000j</td> <td>           1.4764</td> <td>          -0.0000</td>\n",
       "</tr>\n",
       "</table>"
      ],
      "text/plain": [
       "<class 'statsmodels.iolib.summary.Summary'>\n",
       "\"\"\"\n",
       "                              ARMA Model Results                              \n",
       "==============================================================================\n",
       "Dep. Variable:                returns   No. Observations:                 5020\n",
       "Model:                     ARMA(3, 3)   Log Likelihood               -7893.515\n",
       "Method:                       css-mle   S.D. of innovations              1.166\n",
       "Date:                Thu, 28 Jan 2021   AIC                          15803.030\n",
       "Time:                        23:22:37   BIC                          15855.199\n",
       "Sample:                    01-10-1994   HQIC                         15821.310\n",
       "                         - 04-05-2013                                         \n",
       "=================================================================================\n",
       "                    coef    std err          z      P>|z|      [0.025      0.975]\n",
       "---------------------------------------------------------------------------------\n",
       "const             0.0189      0.014      1.395      0.163      -0.008       0.045\n",
       "ar.L1.returns    -0.1898      0.104     -1.827      0.068      -0.393       0.014\n",
       "ar.L2.returns    -0.2942      0.087     -3.389      0.001      -0.464      -0.124\n",
       "ar.L3.returns     0.4459      0.138      3.225      0.001       0.175       0.717\n",
       "ma.L1.returns     0.1707      0.099      1.726      0.084      -0.023       0.365\n",
       "ma.L2.returns     0.2277      0.084      2.701      0.007       0.062       0.393\n",
       "ma.L3.returns    -0.5432      0.127     -4.270      0.000      -0.793      -0.294\n",
       "                                    Roots                                    \n",
       "=============================================================================\n",
       "                  Real          Imaginary           Modulus         Frequency\n",
       "-----------------------------------------------------------------------------\n",
       "AR.1           -0.5168           -1.0283j            1.1508           -0.3241\n",
       "AR.2           -0.5168           +1.0283j            1.1508            0.3241\n",
       "AR.3            1.6932           -0.0000j            1.6932           -0.0000\n",
       "MA.1           -0.5286           -0.9835j            1.1166           -0.3285\n",
       "MA.2           -0.5286           +0.9835j            1.1166            0.3285\n",
       "MA.3            1.4764           -0.0000j            1.4764           -0.0000\n",
       "-----------------------------------------------------------------------------\n",
       "\"\"\""
      ]
     },
     "execution_count": 9,
     "metadata": {},
     "output_type": "execute_result"
    }
   ],
   "source": [
    "results_ret_ar_3_ma_3.summary()"
   ]
  },
  {
   "cell_type": "markdown",
   "metadata": {},
   "source": [
    "The first coefficients for AR and MA are not significant.\n",
    "\n",
    "Is this better than ARMA(1,1)?"
   ]
  },
  {
   "cell_type": "code",
   "execution_count": 10,
   "metadata": {},
   "outputs": [
    {
     "name": "stdout",
     "output_type": "stream",
     "text": [
      "ARMA(1,1) vs ARMA(3,3): 0.0\n"
     ]
    }
   ],
   "source": [
    "print(\"ARMA(1,1) vs ARMA(3,3):\", LLR_test(model_ret_ar_1_ma_1, model_ret_ar_3_ma_3, 4))"
   ]
  },
  {
   "cell_type": "markdown",
   "metadata": {},
   "source": [
    "ARMA(3, 3) is better than ARMA(1, 1). But is ARMA(3, 3) optimal? The best fit would lie between ARMA(1, 1) and ARMA(3, 3). How can we find the best one though?"
   ]
  },
  {
   "cell_type": "markdown",
   "metadata": {},
   "source": [
    "# ARMA(3, 2)\n",
    "\n",
    "We still want a complicated model. By reducing the order by 1 from ARMA(3, 3), we begin with the models that consist of five total orders. ARMA(3, 2) and ARMA(2, 3). It makes little difference which one we try first. So, let's start with ARMA(3, 2)."
   ]
  },
  {
   "cell_type": "code",
   "execution_count": 15,
   "metadata": {},
   "outputs": [
    {
     "data": {
      "text/html": [
       "<table class=\"simpletable\">\n",
       "<caption>ARMA Model Results</caption>\n",
       "<tr>\n",
       "  <th>Dep. Variable:</th>      <td>returns</td>     <th>  No. Observations:  </th>   <td>5020</td>   \n",
       "</tr>\n",
       "<tr>\n",
       "  <th>Model:</th>            <td>ARMA(3, 2)</td>    <th>  Log Likelihood     </th> <td>-7895.747</td>\n",
       "</tr>\n",
       "<tr>\n",
       "  <th>Method:</th>             <td>css-mle</td>     <th>  S.D. of innovations</th>   <td>1.166</td>  \n",
       "</tr>\n",
       "<tr>\n",
       "  <th>Date:</th>          <td>Thu, 28 Jan 2021</td> <th>  AIC                </th> <td>15805.495</td>\n",
       "</tr>\n",
       "<tr>\n",
       "  <th>Time:</th>              <td>23:29:06</td>     <th>  BIC                </th> <td>15851.143</td>\n",
       "</tr>\n",
       "<tr>\n",
       "  <th>Sample:</th>           <td>01-10-1994</td>    <th>  HQIC               </th> <td>15821.491</td>\n",
       "</tr>\n",
       "<tr>\n",
       "  <th></th>                 <td>- 04-05-2013</td>   <th>                     </th>     <td> </td>    \n",
       "</tr>\n",
       "</table>\n",
       "<table class=\"simpletable\">\n",
       "<tr>\n",
       "        <td></td>           <th>coef</th>     <th>std err</th>      <th>z</th>      <th>P>|z|</th>  <th>[0.025</th>    <th>0.975]</th>  \n",
       "</tr>\n",
       "<tr>\n",
       "  <th>const</th>         <td>    0.0188</td> <td>    0.015</td> <td>    1.251</td> <td> 0.211</td> <td>   -0.011</td> <td>    0.048</td>\n",
       "</tr>\n",
       "<tr>\n",
       "  <th>ar.L1.returns</th> <td>   -0.6785</td> <td>    0.087</td> <td>   -7.799</td> <td> 0.000</td> <td>   -0.849</td> <td>   -0.508</td>\n",
       "</tr>\n",
       "<tr>\n",
       "  <th>ar.L2.returns</th> <td>   -0.5088</td> <td>    0.139</td> <td>   -3.670</td> <td> 0.000</td> <td>   -0.780</td> <td>   -0.237</td>\n",
       "</tr>\n",
       "<tr>\n",
       "  <th>ar.L3.returns</th> <td>   -0.1141</td> <td>    0.015</td> <td>   -7.655</td> <td> 0.000</td> <td>   -0.143</td> <td>   -0.085</td>\n",
       "</tr>\n",
       "<tr>\n",
       "  <th>ma.L1.returns</th> <td>    0.6568</td> <td>    0.087</td> <td>    7.536</td> <td> 0.000</td> <td>    0.486</td> <td>    0.828</td>\n",
       "</tr>\n",
       "<tr>\n",
       "  <th>ma.L2.returns</th> <td>    0.4474</td> <td>    0.141</td> <td>    3.175</td> <td> 0.001</td> <td>    0.171</td> <td>    0.724</td>\n",
       "</tr>\n",
       "</table>\n",
       "<table class=\"simpletable\">\n",
       "<caption>Roots</caption>\n",
       "<tr>\n",
       "    <td></td>   <th>            Real</th>  <th>         Imaginary</th> <th>         Modulus</th>  <th>        Frequency</th>\n",
       "</tr>\n",
       "<tr>\n",
       "  <th>AR.1</th> <td>          -0.4929</td> <td>          -1.5101j</td> <td>           1.5885</td> <td>          -0.3002</td>\n",
       "</tr>\n",
       "<tr>\n",
       "  <th>AR.2</th> <td>          -0.4929</td> <td>          +1.5101j</td> <td>           1.5885</td> <td>           0.3002</td>\n",
       "</tr>\n",
       "<tr>\n",
       "  <th>AR.3</th> <td>          -3.4748</td> <td>          -0.0000j</td> <td>           3.4748</td> <td>          -0.5000</td>\n",
       "</tr>\n",
       "<tr>\n",
       "  <th>MA.1</th> <td>          -0.7340</td> <td>          -1.3025j</td> <td>           1.4951</td> <td>          -0.3317</td>\n",
       "</tr>\n",
       "<tr>\n",
       "  <th>MA.2</th> <td>          -0.7340</td> <td>          +1.3025j</td> <td>           1.4951</td> <td>           0.3317</td>\n",
       "</tr>\n",
       "</table>"
      ],
      "text/plain": [
       "<class 'statsmodels.iolib.summary.Summary'>\n",
       "\"\"\"\n",
       "                              ARMA Model Results                              \n",
       "==============================================================================\n",
       "Dep. Variable:                returns   No. Observations:                 5020\n",
       "Model:                     ARMA(3, 2)   Log Likelihood               -7895.747\n",
       "Method:                       css-mle   S.D. of innovations              1.166\n",
       "Date:                Thu, 28 Jan 2021   AIC                          15805.495\n",
       "Time:                        23:29:06   BIC                          15851.143\n",
       "Sample:                    01-10-1994   HQIC                         15821.491\n",
       "                         - 04-05-2013                                         \n",
       "=================================================================================\n",
       "                    coef    std err          z      P>|z|      [0.025      0.975]\n",
       "---------------------------------------------------------------------------------\n",
       "const             0.0188      0.015      1.251      0.211      -0.011       0.048\n",
       "ar.L1.returns    -0.6785      0.087     -7.799      0.000      -0.849      -0.508\n",
       "ar.L2.returns    -0.5088      0.139     -3.670      0.000      -0.780      -0.237\n",
       "ar.L3.returns    -0.1141      0.015     -7.655      0.000      -0.143      -0.085\n",
       "ma.L1.returns     0.6568      0.087      7.536      0.000       0.486       0.828\n",
       "ma.L2.returns     0.4474      0.141      3.175      0.001       0.171       0.724\n",
       "                                    Roots                                    \n",
       "=============================================================================\n",
       "                  Real          Imaginary           Modulus         Frequency\n",
       "-----------------------------------------------------------------------------\n",
       "AR.1           -0.4929           -1.5101j            1.5885           -0.3002\n",
       "AR.2           -0.4929           +1.5101j            1.5885            0.3002\n",
       "AR.3           -3.4748           -0.0000j            3.4748           -0.5000\n",
       "MA.1           -0.7340           -1.3025j            1.4951           -0.3317\n",
       "MA.2           -0.7340           +1.3025j            1.4951            0.3317\n",
       "-----------------------------------------------------------------------------\n",
       "\"\"\""
      ]
     },
     "execution_count": 15,
     "metadata": {},
     "output_type": "execute_result"
    }
   ],
   "source": [
    "model_ret_ar_3_ma_2 = ARMA(df.returns[1:], order=(3,2))\n",
    "results_ret_ar_3_ma_2 = model_ret_ar_3_ma_2.fit()\n",
    "results_ret_ar_3_ma_2.summary()"
   ]
  },
  {
   "cell_type": "markdown",
   "metadata": {},
   "source": [
    "All of the p-values are significant except for the constant, but the returns in an efficient market should be close to 0 anyway so it shouldn't bother us. \n",
    "\n",
    "The absolute value of the coefficients decreases for the higher lags. This supports the idea that the further back in time we go, the less relevant values and errors become. It doesn't have to be the way always, but such a trend makes our predictions seem much more realistic.\n",
    "\n",
    "Plus, positive MA coefficients suggest calibration efforts. If our prediction was lower than the actual value, we get a positive residual value (error = actual - predicted). With the positive error and positive coefficient, we get a positive MA component. ($\\epsilon_t > 0$ ==> $\\theta\\epsilon_t > 0$) This results in an increase in the value of our predictions for the next period. So we try to close the gap to the actual value hoping the pattern will translate into the future. On the other hand, if the prediction was higher than the actual, the MA component will be negative (negative residual * positive coefficient). This will decrease the prediction for the next period. \n",
    "\n",
    "What about the negative AR coefficients? Those more or less match our expectations of an efficient market. If returns are positive, then multiplying the values by a negative factor will move thir effect in the opposite direction. We expect an efficient market to have a mean of zero over time. Therefore, every period of positive returns is followed by one with negative returns. The assumption is that it allows us to remain close to the mean of zero regardless of the starting and ending periods of our sample.\n",
    "\n",
    "\n",
    "Also, in this case, we don't have to test LLR test because ARMA(3, 2) satisfies the criteria and is a simpler model. \n"
   ]
  },
  {
   "cell_type": "markdown",
   "metadata": {},
   "source": [
    "# ARMA(2, 3)"
   ]
  },
  {
   "cell_type": "code",
   "execution_count": 11,
   "metadata": {},
   "outputs": [
    {
     "data": {
      "text/html": [
       "<table class=\"simpletable\">\n",
       "<caption>ARMA Model Results</caption>\n",
       "<tr>\n",
       "  <th>Dep. Variable:</th>      <td>returns</td>     <th>  No. Observations:  </th>   <td>5020</td>   \n",
       "</tr>\n",
       "<tr>\n",
       "  <th>Model:</th>            <td>ARMA(2, 3)</td>    <th>  Log Likelihood     </th> <td>-7895.587</td>\n",
       "</tr>\n",
       "<tr>\n",
       "  <th>Method:</th>             <td>css-mle</td>     <th>  S.D. of innovations</th>   <td>1.166</td>  \n",
       "</tr>\n",
       "<tr>\n",
       "  <th>Date:</th>          <td>Thu, 28 Jan 2021</td> <th>  AIC                </th> <td>15805.174</td>\n",
       "</tr>\n",
       "<tr>\n",
       "  <th>Time:</th>              <td>23:23:34</td>     <th>  BIC                </th> <td>15850.823</td>\n",
       "</tr>\n",
       "<tr>\n",
       "  <th>Sample:</th>           <td>01-10-1994</td>    <th>  HQIC               </th> <td>15821.170</td>\n",
       "</tr>\n",
       "<tr>\n",
       "  <th></th>                 <td>- 04-05-2013</td>   <th>                     </th>     <td> </td>    \n",
       "</tr>\n",
       "</table>\n",
       "<table class=\"simpletable\">\n",
       "<tr>\n",
       "        <td></td>           <th>coef</th>     <th>std err</th>      <th>z</th>      <th>P>|z|</th>  <th>[0.025</th>    <th>0.975]</th>  \n",
       "</tr>\n",
       "<tr>\n",
       "  <th>const</th>         <td>    0.0189</td> <td>    0.015</td> <td>    1.276</td> <td> 0.202</td> <td>   -0.010</td> <td>    0.048</td>\n",
       "</tr>\n",
       "<tr>\n",
       "  <th>ar.L1.returns</th> <td>   -0.5605</td> <td>    0.090</td> <td>   -6.245</td> <td> 0.000</td> <td>   -0.736</td> <td>   -0.385</td>\n",
       "</tr>\n",
       "<tr>\n",
       "  <th>ar.L2.returns</th> <td>   -0.4187</td> <td>    0.193</td> <td>   -2.172</td> <td> 0.030</td> <td>   -0.797</td> <td>   -0.041</td>\n",
       "</tr>\n",
       "<tr>\n",
       "  <th>ma.L1.returns</th> <td>    0.5378</td> <td>    0.090</td> <td>    6.000</td> <td> 0.000</td> <td>    0.362</td> <td>    0.714</td>\n",
       "</tr>\n",
       "<tr>\n",
       "  <th>ma.L2.returns</th> <td>    0.3540</td> <td>    0.195</td> <td>    1.818</td> <td> 0.069</td> <td>   -0.028</td> <td>    0.736</td>\n",
       "</tr>\n",
       "<tr>\n",
       "  <th>ma.L3.returns</th> <td>   -0.1158</td> <td>    0.016</td> <td>   -7.369</td> <td> 0.000</td> <td>   -0.147</td> <td>   -0.085</td>\n",
       "</tr>\n",
       "</table>\n",
       "<table class=\"simpletable\">\n",
       "<caption>Roots</caption>\n",
       "<tr>\n",
       "    <td></td>   <th>            Real</th>  <th>         Imaginary</th> <th>         Modulus</th>  <th>        Frequency</th>\n",
       "</tr>\n",
       "<tr>\n",
       "  <th>AR.1</th> <td>          -0.6694</td> <td>          -1.3930j</td> <td>           1.5455</td> <td>          -0.3213</td>\n",
       "</tr>\n",
       "<tr>\n",
       "  <th>AR.2</th> <td>          -0.6694</td> <td>          +1.3930j</td> <td>           1.5455</td> <td>           0.3213</td>\n",
       "</tr>\n",
       "<tr>\n",
       "  <th>MA.1</th> <td>          -0.7270</td> <td>          -1.1772j</td> <td>           1.3836</td> <td>          -0.3381</td>\n",
       "</tr>\n",
       "<tr>\n",
       "  <th>MA.2</th> <td>          -0.7270</td> <td>          +1.1772j</td> <td>           1.3836</td> <td>           0.3381</td>\n",
       "</tr>\n",
       "<tr>\n",
       "  <th>MA.3</th> <td>           4.5096</td> <td>          -0.0000j</td> <td>           4.5096</td> <td>          -0.0000</td>\n",
       "</tr>\n",
       "</table>"
      ],
      "text/plain": [
       "<class 'statsmodels.iolib.summary.Summary'>\n",
       "\"\"\"\n",
       "                              ARMA Model Results                              \n",
       "==============================================================================\n",
       "Dep. Variable:                returns   No. Observations:                 5020\n",
       "Model:                     ARMA(2, 3)   Log Likelihood               -7895.587\n",
       "Method:                       css-mle   S.D. of innovations              1.166\n",
       "Date:                Thu, 28 Jan 2021   AIC                          15805.174\n",
       "Time:                        23:23:34   BIC                          15850.823\n",
       "Sample:                    01-10-1994   HQIC                         15821.170\n",
       "                         - 04-05-2013                                         \n",
       "=================================================================================\n",
       "                    coef    std err          z      P>|z|      [0.025      0.975]\n",
       "---------------------------------------------------------------------------------\n",
       "const             0.0189      0.015      1.276      0.202      -0.010       0.048\n",
       "ar.L1.returns    -0.5605      0.090     -6.245      0.000      -0.736      -0.385\n",
       "ar.L2.returns    -0.4187      0.193     -2.172      0.030      -0.797      -0.041\n",
       "ma.L1.returns     0.5378      0.090      6.000      0.000       0.362       0.714\n",
       "ma.L2.returns     0.3540      0.195      1.818      0.069      -0.028       0.736\n",
       "ma.L3.returns    -0.1158      0.016     -7.369      0.000      -0.147      -0.085\n",
       "                                    Roots                                    \n",
       "=============================================================================\n",
       "                  Real          Imaginary           Modulus         Frequency\n",
       "-----------------------------------------------------------------------------\n",
       "AR.1           -0.6694           -1.3930j            1.5455           -0.3213\n",
       "AR.2           -0.6694           +1.3930j            1.5455            0.3213\n",
       "MA.1           -0.7270           -1.1772j            1.3836           -0.3381\n",
       "MA.2           -0.7270           +1.1772j            1.3836            0.3381\n",
       "MA.3            4.5096           -0.0000j            4.5096           -0.0000\n",
       "-----------------------------------------------------------------------------\n",
       "\"\"\""
      ]
     },
     "execution_count": 11,
     "metadata": {},
     "output_type": "execute_result"
    }
   ],
   "source": [
    "model_ret_ar_2_ma_3 = ARMA(df.returns[1:], order=(2,3))\n",
    "results_ret_ar_2_ma_3 = model_ret_ar_2_ma_3.fit()\n",
    "results_ret_ar_2_ma_3.summary()"
   ]
  },
  {
   "cell_type": "markdown",
   "metadata": {},
   "source": [
    "We shouldn't use this because of the p-value of MA(2) but we can perform LLR test. "
   ]
  },
  {
   "cell_type": "code",
   "execution_count": 14,
   "metadata": {},
   "outputs": [
    {
     "data": {
      "text/plain": [
       "0.042"
      ]
     },
     "execution_count": 14,
     "metadata": {},
     "output_type": "execute_result"
    }
   ],
   "source": [
    "LLR_test(model_ret_ar_2_ma_3, model_ret_ar_3_ma_3)"
   ]
  },
  {
   "cell_type": "markdown",
   "metadata": {},
   "source": [
    "The value suggests the difference is significant but just barely. This indicates we should opt for the ARMA(3, 3) model instead of the ARMA(2, 3) if we had to choose only between these two. "
   ]
  },
  {
   "cell_type": "markdown",
   "metadata": {},
   "source": [
    "# ARMA(3, 1)"
   ]
  },
  {
   "cell_type": "code",
   "execution_count": 16,
   "metadata": {},
   "outputs": [
    {
     "data": {
      "text/html": [
       "<table class=\"simpletable\">\n",
       "<caption>ARMA Model Results</caption>\n",
       "<tr>\n",
       "  <th>Dep. Variable:</th>      <td>returns</td>     <th>  No. Observations:  </th>   <td>5020</td>   \n",
       "</tr>\n",
       "<tr>\n",
       "  <th>Model:</th>            <td>ARMA(3, 1)</td>    <th>  Log Likelihood     </th> <td>-7899.072</td>\n",
       "</tr>\n",
       "<tr>\n",
       "  <th>Method:</th>             <td>css-mle</td>     <th>  S.D. of innovations</th>   <td>1.167</td>  \n",
       "</tr>\n",
       "<tr>\n",
       "  <th>Date:</th>          <td>Sat, 30 Jan 2021</td> <th>  AIC                </th> <td>15810.144</td>\n",
       "</tr>\n",
       "<tr>\n",
       "  <th>Time:</th>              <td>23:53:22</td>     <th>  BIC                </th> <td>15849.271</td>\n",
       "</tr>\n",
       "<tr>\n",
       "  <th>Sample:</th>           <td>01-10-1994</td>    <th>  HQIC               </th> <td>15823.855</td>\n",
       "</tr>\n",
       "<tr>\n",
       "  <th></th>                 <td>- 04-05-2013</td>   <th>                     </th>     <td> </td>    \n",
       "</tr>\n",
       "</table>\n",
       "<table class=\"simpletable\">\n",
       "<tr>\n",
       "        <td></td>           <th>coef</th>     <th>std err</th>      <th>z</th>      <th>P>|z|</th>  <th>[0.025</th>    <th>0.975]</th>  \n",
       "</tr>\n",
       "<tr>\n",
       "  <th>const</th>         <td>    0.0189</td> <td>    0.015</td> <td>    1.298</td> <td> 0.194</td> <td>   -0.010</td> <td>    0.047</td>\n",
       "</tr>\n",
       "<tr>\n",
       "  <th>ar.L1.returns</th> <td>   -0.5077</td> <td>    0.088</td> <td>   -5.769</td> <td> 0.000</td> <td>   -0.680</td> <td>   -0.335</td>\n",
       "</tr>\n",
       "<tr>\n",
       "  <th>ar.L2.returns</th> <td>   -0.0638</td> <td>    0.016</td> <td>   -4.023</td> <td> 0.000</td> <td>   -0.095</td> <td>   -0.033</td>\n",
       "</tr>\n",
       "<tr>\n",
       "  <th>ar.L3.returns</th> <td>   -0.1102</td> <td>    0.014</td> <td>   -7.850</td> <td> 0.000</td> <td>   -0.138</td> <td>   -0.083</td>\n",
       "</tr>\n",
       "<tr>\n",
       "  <th>ma.L1.returns</th> <td>    0.4839</td> <td>    0.088</td> <td>    5.500</td> <td> 0.000</td> <td>    0.311</td> <td>    0.656</td>\n",
       "</tr>\n",
       "</table>\n",
       "<table class=\"simpletable\">\n",
       "<caption>Roots</caption>\n",
       "<tr>\n",
       "    <td></td>   <th>            Real</th>  <th>         Imaginary</th> <th>         Modulus</th>  <th>        Frequency</th>\n",
       "</tr>\n",
       "<tr>\n",
       "  <th>AR.1</th> <td>          -1.5095</td> <td>          -0.0000j</td> <td>           1.5095</td> <td>          -0.5000</td>\n",
       "</tr>\n",
       "<tr>\n",
       "  <th>AR.2</th> <td>           0.4653</td> <td>          -2.4076j</td> <td>           2.4521</td> <td>          -0.2196</td>\n",
       "</tr>\n",
       "<tr>\n",
       "  <th>AR.3</th> <td>           0.4653</td> <td>          +2.4076j</td> <td>           2.4521</td> <td>           0.2196</td>\n",
       "</tr>\n",
       "<tr>\n",
       "  <th>MA.1</th> <td>          -2.0668</td> <td>          +0.0000j</td> <td>           2.0668</td> <td>           0.5000</td>\n",
       "</tr>\n",
       "</table>"
      ],
      "text/plain": [
       "<class 'statsmodels.iolib.summary.Summary'>\n",
       "\"\"\"\n",
       "                              ARMA Model Results                              \n",
       "==============================================================================\n",
       "Dep. Variable:                returns   No. Observations:                 5020\n",
       "Model:                     ARMA(3, 1)   Log Likelihood               -7899.072\n",
       "Method:                       css-mle   S.D. of innovations              1.167\n",
       "Date:                Sat, 30 Jan 2021   AIC                          15810.144\n",
       "Time:                        23:53:22   BIC                          15849.271\n",
       "Sample:                    01-10-1994   HQIC                         15823.855\n",
       "                         - 04-05-2013                                         \n",
       "=================================================================================\n",
       "                    coef    std err          z      P>|z|      [0.025      0.975]\n",
       "---------------------------------------------------------------------------------\n",
       "const             0.0189      0.015      1.298      0.194      -0.010       0.047\n",
       "ar.L1.returns    -0.5077      0.088     -5.769      0.000      -0.680      -0.335\n",
       "ar.L2.returns    -0.0638      0.016     -4.023      0.000      -0.095      -0.033\n",
       "ar.L3.returns    -0.1102      0.014     -7.850      0.000      -0.138      -0.083\n",
       "ma.L1.returns     0.4839      0.088      5.500      0.000       0.311       0.656\n",
       "                                    Roots                                    \n",
       "=============================================================================\n",
       "                  Real          Imaginary           Modulus         Frequency\n",
       "-----------------------------------------------------------------------------\n",
       "AR.1           -1.5095           -0.0000j            1.5095           -0.5000\n",
       "AR.2            0.4653           -2.4076j            2.4521           -0.2196\n",
       "AR.3            0.4653           +2.4076j            2.4521            0.2196\n",
       "MA.1           -2.0668           +0.0000j            2.0668            0.5000\n",
       "-----------------------------------------------------------------------------\n",
       "\"\"\""
      ]
     },
     "execution_count": 16,
     "metadata": {},
     "output_type": "execute_result"
    }
   ],
   "source": [
    "model_ret_ar_3_ma_1 = ARMA(df.returns[1:], order=(3,1))\n",
    "results_ret_ar_3_ma_1 = model_ret_ar_3_ma_1.fit()\n",
    "results_ret_ar_3_ma_1.summary()"
   ]
  },
  {
   "cell_type": "markdown",
   "metadata": {},
   "source": [
    "The p-values are all 0 and all AR coefficients are negative and all MA coefficients are positive, which makes sense in a financial point of view. "
   ]
  },
  {
   "cell_type": "code",
   "execution_count": 17,
   "metadata": {
    "scrolled": true
   },
   "outputs": [
    {
     "data": {
      "text/plain": [
       "0.01"
      ]
     },
     "execution_count": 17,
     "metadata": {},
     "output_type": "execute_result"
    }
   ],
   "source": [
    "LLR_test(model_ret_ar_3_ma_1, model_ret_ar_3_ma_2)"
   ]
  },
  {
   "cell_type": "markdown",
   "metadata": {},
   "source": [
    "Remember we need to put the simpler model first. \n",
    "\n",
    "P-value of 0.01 in the LLR test (lower than 0.05) means the ARMA(3, 2) is better than ARMA(3, 1)"
   ]
  },
  {
   "cell_type": "markdown",
   "metadata": {},
   "source": [
    "# ARMA(2, 2)"
   ]
  },
  {
   "cell_type": "code",
   "execution_count": 18,
   "metadata": {},
   "outputs": [
    {
     "data": {
      "text/html": [
       "<table class=\"simpletable\">\n",
       "<caption>ARMA Model Results</caption>\n",
       "<tr>\n",
       "  <th>Dep. Variable:</th>      <td>returns</td>     <th>  No. Observations:  </th>   <td>5020</td>   \n",
       "</tr>\n",
       "<tr>\n",
       "  <th>Model:</th>            <td>ARMA(2, 2)</td>    <th>  Log Likelihood     </th> <td>-7913.223</td>\n",
       "</tr>\n",
       "<tr>\n",
       "  <th>Method:</th>             <td>css-mle</td>     <th>  S.D. of innovations</th>   <td>1.170</td>  \n",
       "</tr>\n",
       "<tr>\n",
       "  <th>Date:</th>          <td>Sat, 30 Jan 2021</td> <th>  AIC                </th> <td>15838.446</td>\n",
       "</tr>\n",
       "<tr>\n",
       "  <th>Time:</th>              <td>23:55:31</td>     <th>  BIC                </th> <td>15877.573</td>\n",
       "</tr>\n",
       "<tr>\n",
       "  <th>Sample:</th>           <td>01-10-1994</td>    <th>  HQIC               </th> <td>15852.156</td>\n",
       "</tr>\n",
       "<tr>\n",
       "  <th></th>                 <td>- 04-05-2013</td>   <th>                     </th>     <td> </td>    \n",
       "</tr>\n",
       "</table>\n",
       "<table class=\"simpletable\">\n",
       "<tr>\n",
       "        <td></td>           <th>coef</th>     <th>std err</th>      <th>z</th>      <th>P>|z|</th>  <th>[0.025</th>    <th>0.975]</th>  \n",
       "</tr>\n",
       "<tr>\n",
       "  <th>const</th>         <td>    0.0189</td> <td>    0.014</td> <td>    1.394</td> <td> 0.163</td> <td>   -0.008</td> <td>    0.045</td>\n",
       "</tr>\n",
       "<tr>\n",
       "  <th>ar.L1.returns</th> <td>    0.7820</td> <td>    0.238</td> <td>    3.284</td> <td> 0.001</td> <td>    0.315</td> <td>    1.249</td>\n",
       "</tr>\n",
       "<tr>\n",
       "  <th>ar.L2.returns</th> <td>   -0.1563</td> <td>    0.177</td> <td>   -0.884</td> <td> 0.377</td> <td>   -0.503</td> <td>    0.190</td>\n",
       "</tr>\n",
       "<tr>\n",
       "  <th>ma.L1.returns</th> <td>   -0.8105</td> <td>    0.239</td> <td>   -3.388</td> <td> 0.001</td> <td>   -1.279</td> <td>   -0.342</td>\n",
       "</tr>\n",
       "<tr>\n",
       "  <th>ma.L2.returns</th> <td>    0.1177</td> <td>    0.187</td> <td>    0.628</td> <td> 0.530</td> <td>   -0.250</td> <td>    0.485</td>\n",
       "</tr>\n",
       "</table>\n",
       "<table class=\"simpletable\">\n",
       "<caption>Roots</caption>\n",
       "<tr>\n",
       "    <td></td>   <th>            Real</th>  <th>         Imaginary</th> <th>         Modulus</th>  <th>        Frequency</th>\n",
       "</tr>\n",
       "<tr>\n",
       "  <th>AR.1</th> <td>           2.5017</td> <td>          -0.3739j</td> <td>           2.5295</td> <td>          -0.0236</td>\n",
       "</tr>\n",
       "<tr>\n",
       "  <th>AR.2</th> <td>           2.5017</td> <td>          +0.3739j</td> <td>           2.5295</td> <td>           0.0236</td>\n",
       "</tr>\n",
       "<tr>\n",
       "  <th>MA.1</th> <td>           1.6107</td> <td>          +0.0000j</td> <td>           1.6107</td> <td>           0.0000</td>\n",
       "</tr>\n",
       "<tr>\n",
       "  <th>MA.2</th> <td>           5.2738</td> <td>          +0.0000j</td> <td>           5.2738</td> <td>           0.0000</td>\n",
       "</tr>\n",
       "</table>"
      ],
      "text/plain": [
       "<class 'statsmodels.iolib.summary.Summary'>\n",
       "\"\"\"\n",
       "                              ARMA Model Results                              \n",
       "==============================================================================\n",
       "Dep. Variable:                returns   No. Observations:                 5020\n",
       "Model:                     ARMA(2, 2)   Log Likelihood               -7913.223\n",
       "Method:                       css-mle   S.D. of innovations              1.170\n",
       "Date:                Sat, 30 Jan 2021   AIC                          15838.446\n",
       "Time:                        23:55:31   BIC                          15877.573\n",
       "Sample:                    01-10-1994   HQIC                         15852.156\n",
       "                         - 04-05-2013                                         \n",
       "=================================================================================\n",
       "                    coef    std err          z      P>|z|      [0.025      0.975]\n",
       "---------------------------------------------------------------------------------\n",
       "const             0.0189      0.014      1.394      0.163      -0.008       0.045\n",
       "ar.L1.returns     0.7820      0.238      3.284      0.001       0.315       1.249\n",
       "ar.L2.returns    -0.1563      0.177     -0.884      0.377      -0.503       0.190\n",
       "ma.L1.returns    -0.8105      0.239     -3.388      0.001      -1.279      -0.342\n",
       "ma.L2.returns     0.1177      0.187      0.628      0.530      -0.250       0.485\n",
       "                                    Roots                                    \n",
       "=============================================================================\n",
       "                  Real          Imaginary           Modulus         Frequency\n",
       "-----------------------------------------------------------------------------\n",
       "AR.1            2.5017           -0.3739j            2.5295           -0.0236\n",
       "AR.2            2.5017           +0.3739j            2.5295            0.0236\n",
       "MA.1            1.6107           +0.0000j            1.6107            0.0000\n",
       "MA.2            5.2738           +0.0000j            5.2738            0.0000\n",
       "-----------------------------------------------------------------------------\n",
       "\"\"\""
      ]
     },
     "execution_count": 18,
     "metadata": {},
     "output_type": "execute_result"
    }
   ],
   "source": [
    "model_ret_ar_2_ma_2 = ARMA(df.returns[1:], order=(2,2))\n",
    "results_ret_ar_2_ma_2 = model_ret_ar_2_ma_2.fit()\n",
    "results_ret_ar_2_ma_2.summary()"
   ]
  },
  {
   "cell_type": "markdown",
   "metadata": {},
   "source": [
    "Two of the coefficients have high p-values. Both happen to be the Lag 2. This leads us to believe that ARMA(2, 1) or ARMA(1, 2) would outperform ARMA(2, 2) and we would want to avoid ARMA(2, 2) at all cost."
   ]
  },
  {
   "cell_type": "markdown",
   "metadata": {},
   "source": [
    "# ARMA(3, 1)"
   ]
  },
  {
   "cell_type": "code",
   "execution_count": 19,
   "metadata": {},
   "outputs": [
    {
     "data": {
      "text/html": [
       "<table class=\"simpletable\">\n",
       "<caption>ARMA Model Results</caption>\n",
       "<tr>\n",
       "  <th>Dep. Variable:</th>      <td>returns</td>     <th>  No. Observations:  </th>   <td>5020</td>   \n",
       "</tr>\n",
       "<tr>\n",
       "  <th>Model:</th>            <td>ARMA(1, 3)</td>    <th>  Log Likelihood     </th> <td>-7896.838</td>\n",
       "</tr>\n",
       "<tr>\n",
       "  <th>Method:</th>             <td>css-mle</td>     <th>  S.D. of innovations</th>   <td>1.167</td>  \n",
       "</tr>\n",
       "<tr>\n",
       "  <th>Date:</th>          <td>Mon, 01 Feb 2021</td> <th>  AIC                </th> <td>15805.676</td>\n",
       "</tr>\n",
       "<tr>\n",
       "  <th>Time:</th>              <td>23:39:01</td>     <th>  BIC                </th> <td>15844.803</td>\n",
       "</tr>\n",
       "<tr>\n",
       "  <th>Sample:</th>           <td>01-10-1994</td>    <th>  HQIC               </th> <td>15819.386</td>\n",
       "</tr>\n",
       "<tr>\n",
       "  <th></th>                 <td>- 04-05-2013</td>   <th>                     </th>     <td> </td>    \n",
       "</tr>\n",
       "</table>\n",
       "<table class=\"simpletable\">\n",
       "<tr>\n",
       "        <td></td>           <th>coef</th>     <th>std err</th>      <th>z</th>      <th>P>|z|</th>  <th>[0.025</th>    <th>0.975]</th>  \n",
       "</tr>\n",
       "<tr>\n",
       "  <th>const</th>         <td>    0.0189</td> <td>    0.014</td> <td>    1.332</td> <td> 0.183</td> <td>   -0.009</td> <td>    0.047</td>\n",
       "</tr>\n",
       "<tr>\n",
       "  <th>ar.L1.returns</th> <td>   -0.4699</td> <td>    0.096</td> <td>   -4.901</td> <td> 0.000</td> <td>   -0.658</td> <td>   -0.282</td>\n",
       "</tr>\n",
       "<tr>\n",
       "  <th>ma.L1.returns</th> <td>    0.4474</td> <td>    0.095</td> <td>    4.691</td> <td> 0.000</td> <td>    0.260</td> <td>    0.634</td>\n",
       "</tr>\n",
       "<tr>\n",
       "  <th>ma.L2.returns</th> <td>   -0.0637</td> <td>    0.015</td> <td>   -4.113</td> <td> 0.000</td> <td>   -0.094</td> <td>   -0.033</td>\n",
       "</tr>\n",
       "<tr>\n",
       "  <th>ma.L3.returns</th> <td>   -0.1182</td> <td>    0.014</td> <td>   -8.200</td> <td> 0.000</td> <td>   -0.146</td> <td>   -0.090</td>\n",
       "</tr>\n",
       "</table>\n",
       "<table class=\"simpletable\">\n",
       "<caption>Roots</caption>\n",
       "<tr>\n",
       "    <td></td>   <th>            Real</th>  <th>         Imaginary</th> <th>         Modulus</th>  <th>        Frequency</th>\n",
       "</tr>\n",
       "<tr>\n",
       "  <th>AR.1</th> <td>          -2.1282</td> <td>          +0.0000j</td> <td>           2.1282</td> <td>           0.5000</td>\n",
       "</tr>\n",
       "<tr>\n",
       "  <th>MA.1</th> <td>          -1.4882</td> <td>          -1.1206j</td> <td>           1.8629</td> <td>          -0.3973</td>\n",
       "</tr>\n",
       "<tr>\n",
       "  <th>MA.2</th> <td>          -1.4882</td> <td>          +1.1206j</td> <td>           1.8629</td> <td>           0.3973</td>\n",
       "</tr>\n",
       "<tr>\n",
       "  <th>MA.3</th> <td>           2.4376</td> <td>          -0.0000j</td> <td>           2.4376</td> <td>          -0.0000</td>\n",
       "</tr>\n",
       "</table>"
      ],
      "text/plain": [
       "<class 'statsmodels.iolib.summary.Summary'>\n",
       "\"\"\"\n",
       "                              ARMA Model Results                              \n",
       "==============================================================================\n",
       "Dep. Variable:                returns   No. Observations:                 5020\n",
       "Model:                     ARMA(1, 3)   Log Likelihood               -7896.838\n",
       "Method:                       css-mle   S.D. of innovations              1.167\n",
       "Date:                Mon, 01 Feb 2021   AIC                          15805.676\n",
       "Time:                        23:39:01   BIC                          15844.803\n",
       "Sample:                    01-10-1994   HQIC                         15819.386\n",
       "                         - 04-05-2013                                         \n",
       "=================================================================================\n",
       "                    coef    std err          z      P>|z|      [0.025      0.975]\n",
       "---------------------------------------------------------------------------------\n",
       "const             0.0189      0.014      1.332      0.183      -0.009       0.047\n",
       "ar.L1.returns    -0.4699      0.096     -4.901      0.000      -0.658      -0.282\n",
       "ma.L1.returns     0.4474      0.095      4.691      0.000       0.260       0.634\n",
       "ma.L2.returns    -0.0637      0.015     -4.113      0.000      -0.094      -0.033\n",
       "ma.L3.returns    -0.1182      0.014     -8.200      0.000      -0.146      -0.090\n",
       "                                    Roots                                    \n",
       "=============================================================================\n",
       "                  Real          Imaginary           Modulus         Frequency\n",
       "-----------------------------------------------------------------------------\n",
       "AR.1           -2.1282           +0.0000j            2.1282            0.5000\n",
       "MA.1           -1.4882           -1.1206j            1.8629           -0.3973\n",
       "MA.2           -1.4882           +1.1206j            1.8629            0.3973\n",
       "MA.3            2.4376           -0.0000j            2.4376           -0.0000\n",
       "-----------------------------------------------------------------------------\n",
       "\"\"\""
      ]
     },
     "execution_count": 19,
     "metadata": {},
     "output_type": "execute_result"
    }
   ],
   "source": [
    "model_ret_ar_1_ma_3 = ARMA(df.returns[1:], order=(1, 3))\n",
    "results_ret_ar_1_ma_3 = model_ret_ar_1_ma_3.fit()\n",
    "results_ret_ar_1_ma_3.summary()"
   ]
  },
  {
   "cell_type": "markdown",
   "metadata": {},
   "source": [
    "All coefficients are significant based on the p-values so this has a chance to be a good predictor.\n",
    "\n",
    "Usually, we will go on to use the Log-likelihood ratio test here to compare it with the ARMA(3, 2) but ARMA(3, 2) and ARMA(1, 3) aren't nested. Of course, such an issue could never occur with strictly AR or MA models because any lower lag models are nested in more complicated ones. \n",
    "\n",
    "To elaborate this notion, suppose we have two models of interest: ARMA(P1, Q1) and ARMA(P2, Q2). The second model is \"nested\" if and only if the following conditions are satisfied:  \n",
    "1) P1 + Q1 > P2 + Q2  \n",
    "2) P1 >= P2   \n",
    "3) Q1 >= Q2   \n",
    "\n",
    "In our case, ARMA(3, 2) and ARMA(1, 3) aren't nested so the LLR test becomes void. In this case, we manually compare the log likelihoods and AICs of both models. The preferred model has higher LLR and lower AIC. \n"
   ]
  },
  {
   "cell_type": "code",
   "execution_count": 23,
   "metadata": {},
   "outputs": [
    {
     "name": "stdout",
     "output_type": "stream",
     "text": [
      "ARMA(3, 2): LL =  -7895.747458514483 \tAIC =  15805.494917028966\n",
      "ARMA(1, 3): LL =  -7896.837893752798 \tAIC =  15805.675787505596\n"
     ]
    }
   ],
   "source": [
    "print(\"ARMA(3, 2): LL = \", results_ret_ar_3_ma_2.llf, \"\\tAIC = \", results_ret_ar_3_ma_2.aic)\n",
    "print(\"ARMA(1, 3): LL = \", results_ret_ar_1_ma_3.llf, \"\\tAIC = \", results_ret_ar_1_ma_3.aic)"
   ]
  },
  {
   "cell_type": "markdown",
   "metadata": {},
   "source": [
    "ARMA(3, 2) has higher LL and lower AIC. So, ARMA(3, 2) is better than ARMA(1, 3)."
   ]
  },
  {
   "cell_type": "markdown",
   "metadata": {},
   "source": [
    "# Others"
   ]
  },
  {
   "cell_type": "markdown",
   "metadata": {},
   "source": [
    "ARMA(1, 2) and ARMA(2, 1) both yield non-significant coefficient at the 5% significance level so we don't need to bother to compare them with ARMA(3, 2). \n",
    "\n",
    "So the best model seems to be the best model as \n",
    "\n",
    "1) all coefficients are significant,  \n",
    "2) outpredicts all less-complex alternatives. \n"
   ]
  },
  {
   "cell_type": "markdown",
   "metadata": {},
   "source": [
    "# Residual for Returns\n",
    "\n",
    "Test if residuals match our expectations for white noise."
   ]
  },
  {
   "cell_type": "code",
   "execution_count": 25,
   "metadata": {},
   "outputs": [
    {
     "data": {
      "image/png": "[encoded data removed]",
      "text/plain": [
       "<Figure size 1080x360 with 1 Axes>"
      ]
     },
     "metadata": {},
     "output_type": "display_data"
    }
   ],
   "source": [
    "df['res_ret_ar_3_ma_2'] = results_ret_ar_3_ma_2.resid[1:]\n",
    "\n",
    "df.res_ret_ar_3_ma_2.plot(figsize=(15, 5))\n",
    "plt.title(\"Residuals of Returns\")\n",
    "plt.show()"
   ]
  },
  {
   "cell_type": "markdown",
   "metadata": {},
   "source": [
    "The results look similar to the AR and MA models. This suggests that the volatility in returns might not be fully comprehensible if we use only ARMA models.\n",
    "\n",
    "Let's check if residuals are random. If there is a pattern in the residuals, it means there is a factor we hadn't accounted for in our regression. "
   ]
  },
  {
   "cell_type": "code",
   "execution_count": 27,
   "metadata": {},
   "outputs": [
    {
     "data": {
      "image/png": "[encoded data removed]",
      "text/plain": [
       "<Figure size 432x288 with 1 Axes>"
      ]
     },
     "metadata": {},
     "output_type": "display_data"
    }
   ],
   "source": [
    "sgt.plot_acf(df.res_ret_ar_3_ma_2[2:], zero=False, lags=40)\n",
    "plt.title(\"ACF of Residuals for Returns\")\n",
    "plt.show()"
   ]
  },
  {
   "cell_type": "markdown",
   "metadata": {},
   "source": [
    "Having significant residual in the 5th lag suggests that the lag 5 might need to be included in the model. We can start with ARMA(5, 5) and go through the models which are ARMA(5, Q) or ARMA(P, 5). \n",
    "\n",
    "Once we find all the models with all coefficients significant, we will run the LLR test for nested ones and compare log likelihood and AIC values or the others."
   ]
  },
  {
   "cell_type": "markdown",
   "metadata": {},
   "source": [
    "# Reevaluating Model Selection"
   ]
  },
  {
   "cell_type": "markdown",
   "metadata": {},
   "source": [
    "If we test all ARMA models including ARMA(1, 5), ..., ARMA(5, 1), ..., ARMA(5,5), there are only two models that have all significant coefficients: ARMA(1, 5) and ARMA(5, 1). \n",
    "\n",
    "ARMA(1, 5) and ARMA(5, 1) are viable so we can't apply the LLR tst. Instead we must compare their log likelihood and AIC values."
   ]
  },
  {
   "cell_type": "markdown",
   "metadata": {},
   "source": [
    "## ARMA(1, 5)"
   ]
  },
  {
   "cell_type": "code",
   "execution_count": 28,
   "metadata": {
    "scrolled": false
   },
   "outputs": [
    {
     "data": {
      "text/html": [
       "<table class=\"simpletable\">\n",
       "<caption>ARMA Model Results</caption>\n",
       "<tr>\n",
       "  <th>Dep. Variable:</th>      <td>returns</td>     <th>  No. Observations:  </th>   <td>5020</td>   \n",
       "</tr>\n",
       "<tr>\n",
       "  <th>Model:</th>            <td>ARMA(1, 5)</td>    <th>  Log Likelihood     </th> <td>-7890.973</td>\n",
       "</tr>\n",
       "<tr>\n",
       "  <th>Method:</th>             <td>css-mle</td>     <th>  S.D. of innovations</th>   <td>1.165</td>  \n",
       "</tr>\n",
       "<tr>\n",
       "  <th>Date:</th>          <td>Tue, 02 Feb 2021</td> <th>  AIC                </th> <td>15797.947</td>\n",
       "</tr>\n",
       "<tr>\n",
       "  <th>Time:</th>              <td>23:29:37</td>     <th>  BIC                </th> <td>15850.116</td>\n",
       "</tr>\n",
       "<tr>\n",
       "  <th>Sample:</th>           <td>01-10-1994</td>    <th>  HQIC               </th> <td>15816.228</td>\n",
       "</tr>\n",
       "<tr>\n",
       "  <th></th>                 <td>- 04-05-2013</td>   <th>                     </th>     <td> </td>    \n",
       "</tr>\n",
       "</table>\n",
       "<table class=\"simpletable\">\n",
       "<tr>\n",
       "        <td></td>           <th>coef</th>     <th>std err</th>      <th>z</th>      <th>P>|z|</th>  <th>[0.025</th>    <th>0.975]</th>  \n",
       "</tr>\n",
       "<tr>\n",
       "  <th>const</th>         <td>    0.0189</td> <td>    0.013</td> <td>    1.419</td> <td> 0.156</td> <td>   -0.007</td> <td>    0.045</td>\n",
       "</tr>\n",
       "<tr>\n",
       "  <th>ar.L1.returns</th> <td>    0.3285</td> <td>    0.152</td> <td>    2.159</td> <td> 0.031</td> <td>    0.030</td> <td>    0.627</td>\n",
       "</tr>\n",
       "<tr>\n",
       "  <th>ma.L1.returns</th> <td>   -0.3534</td> <td>    0.152</td> <td>   -2.332</td> <td> 0.020</td> <td>   -0.650</td> <td>   -0.056</td>\n",
       "</tr>\n",
       "<tr>\n",
       "  <th>ma.L2.returns</th> <td>   -0.0404</td> <td>    0.015</td> <td>   -2.624</td> <td> 0.009</td> <td>   -0.071</td> <td>   -0.010</td>\n",
       "</tr>\n",
       "<tr>\n",
       "  <th>ma.L3.returns</th> <td>   -0.0679</td> <td>    0.017</td> <td>   -4.022</td> <td> 0.000</td> <td>   -0.101</td> <td>   -0.035</td>\n",
       "</tr>\n",
       "<tr>\n",
       "  <th>ma.L4.returns</th> <td>    0.0742</td> <td>    0.020</td> <td>    3.771</td> <td> 0.000</td> <td>    0.036</td> <td>    0.113</td>\n",
       "</tr>\n",
       "<tr>\n",
       "  <th>ma.L5.returns</th> <td>   -0.0683</td> <td>    0.015</td> <td>   -4.660</td> <td> 0.000</td> <td>   -0.097</td> <td>   -0.040</td>\n",
       "</tr>\n",
       "</table>\n",
       "<table class=\"simpletable\">\n",
       "<caption>Roots</caption>\n",
       "<tr>\n",
       "    <td></td>   <th>            Real</th>  <th>         Imaginary</th> <th>         Modulus</th>  <th>        Frequency</th>\n",
       "</tr>\n",
       "<tr>\n",
       "  <th>AR.1</th> <td>           3.0443</td> <td>          +0.0000j</td> <td>           3.0443</td> <td>           0.0000</td>\n",
       "</tr>\n",
       "<tr>\n",
       "  <th>MA.1</th> <td>          -1.1897</td> <td>          -1.1548j</td> <td>           1.6580</td> <td>          -0.3774</td>\n",
       "</tr>\n",
       "<tr>\n",
       "  <th>MA.2</th> <td>          -1.1897</td> <td>          +1.1548j</td> <td>           1.6580</td> <td>           0.3774</td>\n",
       "</tr>\n",
       "<tr>\n",
       "  <th>MA.3</th> <td>           1.5041</td> <td>          -0.0000j</td> <td>           1.5041</td> <td>          -0.0000</td>\n",
       "</tr>\n",
       "<tr>\n",
       "  <th>MA.4</th> <td>           0.9809</td> <td>          -1.6057j</td> <td>           1.8815</td> <td>          -0.1627</td>\n",
       "</tr>\n",
       "<tr>\n",
       "  <th>MA.5</th> <td>           0.9809</td> <td>          +1.6057j</td> <td>           1.8815</td> <td>           0.1627</td>\n",
       "</tr>\n",
       "</table>"
      ],
      "text/plain": [
       "<class 'statsmodels.iolib.summary.Summary'>\n",
       "\"\"\"\n",
       "                              ARMA Model Results                              \n",
       "==============================================================================\n",
       "Dep. Variable:                returns   No. Observations:                 5020\n",
       "Model:                     ARMA(1, 5)   Log Likelihood               -7890.973\n",
       "Method:                       css-mle   S.D. of innovations              1.165\n",
       "Date:                Tue, 02 Feb 2021   AIC                          15797.947\n",
       "Time:                        23:29:37   BIC                          15850.116\n",
       "Sample:                    01-10-1994   HQIC                         15816.228\n",
       "                         - 04-05-2013                                         \n",
       "=================================================================================\n",
       "                    coef    std err          z      P>|z|      [0.025      0.975]\n",
       "---------------------------------------------------------------------------------\n",
       "const             0.0189      0.013      1.419      0.156      -0.007       0.045\n",
       "ar.L1.returns     0.3285      0.152      2.159      0.031       0.030       0.627\n",
       "ma.L1.returns    -0.3534      0.152     -2.332      0.020      -0.650      -0.056\n",
       "ma.L2.returns    -0.0404      0.015     -2.624      0.009      -0.071      -0.010\n",
       "ma.L3.returns    -0.0679      0.017     -4.022      0.000      -0.101      -0.035\n",
       "ma.L4.returns     0.0742      0.020      3.771      0.000       0.036       0.113\n",
       "ma.L5.returns    -0.0683      0.015     -4.660      0.000      -0.097      -0.040\n",
       "                                    Roots                                    \n",
       "=============================================================================\n",
       "                  Real          Imaginary           Modulus         Frequency\n",
       "-----------------------------------------------------------------------------\n",
       "AR.1            3.0443           +0.0000j            3.0443            0.0000\n",
       "MA.1           -1.1897           -1.1548j            1.6580           -0.3774\n",
       "MA.2           -1.1897           +1.1548j            1.6580            0.3774\n",
       "MA.3            1.5041           -0.0000j            1.5041           -0.0000\n",
       "MA.4            0.9809           -1.6057j            1.8815           -0.1627\n",
       "MA.5            0.9809           +1.6057j            1.8815            0.1627\n",
       "-----------------------------------------------------------------------------\n",
       "\"\"\""
      ]
     },
     "execution_count": 28,
     "metadata": {},
     "output_type": "execute_result"
    }
   ],
   "source": [
    "model_ret_ar_1_ma_5 = ARMA(df.returns[1:], order=(1, 5))\n",
    "results_ret_ar_1_ma_5 = model_ret_ar_1_ma_5.fit()\n",
    "results_ret_ar_1_ma_5.summary()"
   ]
  },
  {
   "cell_type": "markdown",
   "metadata": {},
   "source": [
    "## ARMA(5, 1)"
   ]
  },
  {
   "cell_type": "code",
   "execution_count": 29,
   "metadata": {},
   "outputs": [
    {
     "data": {
      "text/html": [
       "<table class=\"simpletable\">\n",
       "<caption>ARMA Model Results</caption>\n",
       "<tr>\n",
       "  <th>Dep. Variable:</th>      <td>returns</td>     <th>  No. Observations:  </th>   <td>5020</td>   \n",
       "</tr>\n",
       "<tr>\n",
       "  <th>Model:</th>            <td>ARMA(5, 1)</td>    <th>  Log Likelihood     </th> <td>-7889.311</td>\n",
       "</tr>\n",
       "<tr>\n",
       "  <th>Method:</th>             <td>css-mle</td>     <th>  S.D. of innovations</th>   <td>1.165</td>  \n",
       "</tr>\n",
       "<tr>\n",
       "  <th>Date:</th>          <td>Tue, 02 Feb 2021</td> <th>  AIC                </th> <td>15794.623</td>\n",
       "</tr>\n",
       "<tr>\n",
       "  <th>Time:</th>              <td>23:29:57</td>     <th>  BIC                </th> <td>15846.792</td>\n",
       "</tr>\n",
       "<tr>\n",
       "  <th>Sample:</th>           <td>01-10-1994</td>    <th>  HQIC               </th> <td>15812.903</td>\n",
       "</tr>\n",
       "<tr>\n",
       "  <th></th>                 <td>- 04-05-2013</td>   <th>                     </th>     <td> </td>    \n",
       "</tr>\n",
       "</table>\n",
       "<table class=\"simpletable\">\n",
       "<tr>\n",
       "        <td></td>           <th>coef</th>     <th>std err</th>      <th>z</th>      <th>P>|z|</th>  <th>[0.025</th>    <th>0.975]</th>  \n",
       "</tr>\n",
       "<tr>\n",
       "  <th>const</th>         <td>    0.0189</td> <td>    0.013</td> <td>    1.407</td> <td> 0.159</td> <td>   -0.007</td> <td>    0.045</td>\n",
       "</tr>\n",
       "<tr>\n",
       "  <th>ar.L1.returns</th> <td>    0.3440</td> <td>    0.131</td> <td>    2.624</td> <td> 0.009</td> <td>    0.087</td> <td>    0.601</td>\n",
       "</tr>\n",
       "<tr>\n",
       "  <th>ar.L2.returns</th> <td>   -0.0458</td> <td>    0.015</td> <td>   -3.005</td> <td> 0.003</td> <td>   -0.076</td> <td>   -0.016</td>\n",
       "</tr>\n",
       "<tr>\n",
       "  <th>ar.L3.returns</th> <td>   -0.0652</td> <td>    0.016</td> <td>   -4.010</td> <td> 0.000</td> <td>   -0.097</td> <td>   -0.033</td>\n",
       "</tr>\n",
       "<tr>\n",
       "  <th>ar.L4.returns</th> <td>    0.0741</td> <td>    0.018</td> <td>    4.068</td> <td> 0.000</td> <td>    0.038</td> <td>    0.110</td>\n",
       "</tr>\n",
       "<tr>\n",
       "  <th>ar.L5.returns</th> <td>   -0.0813</td> <td>    0.014</td> <td>   -5.688</td> <td> 0.000</td> <td>   -0.109</td> <td>   -0.053</td>\n",
       "</tr>\n",
       "<tr>\n",
       "  <th>ma.L1.returns</th> <td>   -0.3673</td> <td>    0.131</td> <td>   -2.801</td> <td> 0.005</td> <td>   -0.624</td> <td>   -0.110</td>\n",
       "</tr>\n",
       "</table>\n",
       "<table class=\"simpletable\">\n",
       "<caption>Roots</caption>\n",
       "<tr>\n",
       "    <td></td>   <th>            Real</th>  <th>         Imaginary</th> <th>         Modulus</th>  <th>        Frequency</th>\n",
       "</tr>\n",
       "<tr>\n",
       "  <th>AR.1</th> <td>          -1.6158</td> <td>          -0.0000j</td> <td>           1.6158</td> <td>          -0.5000</td>\n",
       "</tr>\n",
       "<tr>\n",
       "  <th>AR.2</th> <td>           1.3793</td> <td>          -0.8613j</td> <td>           1.6261</td> <td>          -0.0888</td>\n",
       "</tr>\n",
       "<tr>\n",
       "  <th>AR.3</th> <td>           1.3793</td> <td>          +0.8613j</td> <td>           1.6261</td> <td>           0.0888</td>\n",
       "</tr>\n",
       "<tr>\n",
       "  <th>AR.4</th> <td>          -0.1156</td> <td>          -1.6929j</td> <td>           1.6968</td> <td>          -0.2608</td>\n",
       "</tr>\n",
       "<tr>\n",
       "  <th>AR.5</th> <td>          -0.1156</td> <td>          +1.6929j</td> <td>           1.6968</td> <td>           0.2608</td>\n",
       "</tr>\n",
       "<tr>\n",
       "  <th>MA.1</th> <td>           2.7223</td> <td>          +0.0000j</td> <td>           2.7223</td> <td>           0.0000</td>\n",
       "</tr>\n",
       "</table>"
      ],
      "text/plain": [
       "<class 'statsmodels.iolib.summary.Summary'>\n",
       "\"\"\"\n",
       "                              ARMA Model Results                              \n",
       "==============================================================================\n",
       "Dep. Variable:                returns   No. Observations:                 5020\n",
       "Model:                     ARMA(5, 1)   Log Likelihood               -7889.311\n",
       "Method:                       css-mle   S.D. of innovations              1.165\n",
       "Date:                Tue, 02 Feb 2021   AIC                          15794.623\n",
       "Time:                        23:29:57   BIC                          15846.792\n",
       "Sample:                    01-10-1994   HQIC                         15812.903\n",
       "                         - 04-05-2013                                         \n",
       "=================================================================================\n",
       "                    coef    std err          z      P>|z|      [0.025      0.975]\n",
       "---------------------------------------------------------------------------------\n",
       "const             0.0189      0.013      1.407      0.159      -0.007       0.045\n",
       "ar.L1.returns     0.3440      0.131      2.624      0.009       0.087       0.601\n",
       "ar.L2.returns    -0.0458      0.015     -3.005      0.003      -0.076      -0.016\n",
       "ar.L3.returns    -0.0652      0.016     -4.010      0.000      -0.097      -0.033\n",
       "ar.L4.returns     0.0741      0.018      4.068      0.000       0.038       0.110\n",
       "ar.L5.returns    -0.0813      0.014     -5.688      0.000      -0.109      -0.053\n",
       "ma.L1.returns    -0.3673      0.131     -2.801      0.005      -0.624      -0.110\n",
       "                                    Roots                                    \n",
       "=============================================================================\n",
       "                  Real          Imaginary           Modulus         Frequency\n",
       "-----------------------------------------------------------------------------\n",
       "AR.1           -1.6158           -0.0000j            1.6158           -0.5000\n",
       "AR.2            1.3793           -0.8613j            1.6261           -0.0888\n",
       "AR.3            1.3793           +0.8613j            1.6261            0.0888\n",
       "AR.4           -0.1156           -1.6929j            1.6968           -0.2608\n",
       "AR.5           -0.1156           +1.6929j            1.6968            0.2608\n",
       "MA.1            2.7223           +0.0000j            2.7223            0.0000\n",
       "-----------------------------------------------------------------------------\n",
       "\"\"\""
      ]
     },
     "execution_count": 29,
     "metadata": {},
     "output_type": "execute_result"
    }
   ],
   "source": [
    "model_ret_ar_5_ma_1 = ARMA(df.returns[1:], order=(5, 1))\n",
    "results_ret_ar_5_ma_1 = model_ret_ar_5_ma_1.fit()\n",
    "results_ret_ar_5_ma_1.summary()"
   ]
  },
  {
   "cell_type": "code",
   "execution_count": 30,
   "metadata": {},
   "outputs": [
    {
     "name": "stdout",
     "output_type": "stream",
     "text": [
      "ARMA(1, 5): LL =  -7890.973460209448 \tAIC =  15797.946920418895\n",
      "ARMA(5, 1): LL =  -7889.31128294583 \tAIC =  15794.62256589166\n"
     ]
    }
   ],
   "source": [
    "print(\"ARMA(1, 5): LL = \", results_ret_ar_1_ma_5.llf, \"\\tAIC = \", results_ret_ar_1_ma_5.aic)\n",
    "print(\"ARMA(5, 1): LL = \", results_ret_ar_5_ma_1.llf, \"\\tAIC = \", results_ret_ar_5_ma_1.aic)"
   ]
  },
  {
   "cell_type": "markdown",
   "metadata": {},
   "source": [
    "ARMA(5, 1) has higher log likelihood and lower AIC, so it's the superior choice."
   ]
  },
  {
   "cell_type": "code",
   "execution_count": 32,
   "metadata": {},
   "outputs": [
    {
     "name": "stdout",
     "output_type": "stream",
     "text": [
      "ARMA(3, 2): LL =  -7895.747458514483 \tAIC =  15805.494917028966\n",
      "ARMA(5, 1): LL =  -7889.31128294583 \tAIC =  15794.62256589166\n"
     ]
    }
   ],
   "source": [
    "print(\"ARMA(3, 2): LL = \", results_ret_ar_3_ma_2.llf, \"\\tAIC = \", results_ret_ar_3_ma_2.aic)\n",
    "print(\"ARMA(5, 1): LL = \", results_ret_ar_5_ma_1.llf, \"\\tAIC = \", results_ret_ar_5_ma_1.aic)"
   ]
  },
  {
   "cell_type": "markdown",
   "metadata": {},
   "source": [
    "ARMA(5, 1) has higher log likelihood and lower AIC, so it's the even more superior choice than ARMA(3, 2). The ARMA(3, 2) might have been way too simplistic for the task.\n",
    "\n",
    "AR and MA models have ACF and PACF that provide the suggested optimal number of lags needed. Unfortunately, ARMA models lack such functions. Therefore, we can make the mistake of starting off with a model, whose order is lower than the optimal one. This is why examining the residuals is crucial in finding the best approximate.\n",
    "\n",
    "Now we can check the residulas for ARMA(5, 1) again."
   ]
  },
  {
   "cell_type": "code",
   "execution_count": 35,
   "metadata": {},
   "outputs": [
    {
     "data": {
      "image/png": "[encoded data removed]",
      "text/plain": [
       "<Figure size 1080x360 with 1 Axes>"
      ]
     },
     "metadata": {},
     "output_type": "display_data"
    }
   ],
   "source": [
    "df['res_ret_ar_5_ma_1'] = results_ret_ar_5_ma_1.resid[1:]\n",
    "\n",
    "df.res_ret_ar_5_ma_1.plot(figsize=(15, 5))\n",
    "plt.title(\"Residuals of Returns\")\n",
    "plt.show()"
   ]
  },
  {
   "cell_type": "code",
   "execution_count": 36,
   "metadata": {},
   "outputs": [
    {
     "data": {
      "image/png": "[encoded data removed]",
      "text/plain": [
       "<Figure size 432x288 with 1 Axes>"
      ]
     },
     "metadata": {},
     "output_type": "display_data"
    }
   ],
   "source": [
    "sgt.plot_acf(df.res_ret_ar_5_ma_1[2:], zero=False, lags=40)\n",
    "plt.title(\"ACF of Residuals for Returns\")\n",
    "plt.show()"
   ]
  },
  {
   "cell_type": "markdown",
   "metadata": {},
   "source": [
    "We see that not only is the 5th lag not significant anymore but neither is the 8th nor any other lag before the 18th. If we want our model to resemble the data set more closely, we could include even more into our model. However, this will predispose the model to failture when facing unfamiliar data. Including so many lags will help us know with confidence how this specific data set moves rather than understand how the actual market returns fluctuate. \n",
    "\n",
    "So, as we stated earlier the effects of returns and errors tend to diminish. Therefore, the further back in time we go, the less relevant the values are. Since more than 10 of the first lags are not significant we can say the residuals are pretty much random, which is what we are trying to achieve. "
   ]
  },
  {
   "cell_type": "markdown",
   "metadata": {},
   "source": [
    "# ARMA for Prices\n",
    "\n",
    "How would ARMA models perform when they are fed non-stationary data? Let's reapply the same approach we used on returns and see how using non-stationary data affects our work. \n",
    "\n",
    "So far, we checked the AR and MA models fail at prediction non-stationary data on their own. Before we fit an over-parameterized model, let's quickly check ACF and PACF."
   ]
  },
  {
   "cell_type": "code",
   "execution_count": 38,
   "metadata": {},
   "outputs": [
    {
     "data": {
      "image/png": "[encoded data removed]",
      "text/plain": [
       "<Figure size 432x288 with 1 Axes>"
      ]
     },
     "metadata": {},
     "output_type": "display_data"
    }
   ],
   "source": [
    "sgt.plot_acf(df.market_value, unbiased=True, zero=False, lags=40)\n",
    "plt.title(\"ACF for Prices\")\n",
    "plt.show()"
   ]
  },
  {
   "cell_type": "code",
   "execution_count": 40,
   "metadata": {},
   "outputs": [
    {
     "data": {
      "image/png": "[encoded data removed]",
      "text/plain": [
       "<Figure size 432x288 with 1 Axes>"
      ]
     },
     "metadata": {},
     "output_type": "display_data"
    }
   ],
   "source": [
    "sgt.plot_pacf(df.market_value, zero=False, lags=40, method=('ols'))\n",
    "plt.title(\"PACF for Prices\")\n",
    "plt.show()"
   ]
  },
  {
   "cell_type": "markdown",
   "metadata": {},
   "source": [
    "All 40 ACF coefficients are significant as well as first 6 PACF coefficients. The ACF graph suggests using infinitely many components which is unrealistic. Lucky for us, the additional materials in the previous section showed how an infinite MA lag model with certain restriction is equivalent to a simple AR model. Therefore, as long as we include AR components we should be able to describe the data well by using a finite number of total lags. \n",
    "\n",
    "Let's first fit a simple ARMA model."
   ]
  },
  {
   "cell_type": "code",
   "execution_count": 41,
   "metadata": {},
   "outputs": [
    {
     "data": {
      "text/html": [
       "<table class=\"simpletable\">\n",
       "<caption>ARMA Model Results</caption>\n",
       "<tr>\n",
       "  <th>Dep. Variable:</th>   <td>market_value</td>   <th>  No. Observations:  </th>    <td>5021</td>   \n",
       "</tr>\n",
       "<tr>\n",
       "  <th>Model:</th>            <td>ARMA(1, 1)</td>    <th>  Log Likelihood     </th> <td>-27621.784</td>\n",
       "</tr>\n",
       "<tr>\n",
       "  <th>Method:</th>             <td>css-mle</td>     <th>  S.D. of innovations</th>   <td>59.248</td>  \n",
       "</tr>\n",
       "<tr>\n",
       "  <th>Date:</th>          <td>Wed, 03 Feb 2021</td> <th>  AIC                </th>  <td>55251.568</td>\n",
       "</tr>\n",
       "<tr>\n",
       "  <th>Time:</th>              <td>20:18:22</td>     <th>  BIC                </th>  <td>55277.654</td>\n",
       "</tr>\n",
       "<tr>\n",
       "  <th>Sample:</th>           <td>01-07-1994</td>    <th>  HQIC               </th>  <td>55260.709</td>\n",
       "</tr>\n",
       "<tr>\n",
       "  <th></th>                 <td>- 04-05-2013</td>   <th>                     </th>      <td> </td>    \n",
       "</tr>\n",
       "</table>\n",
       "<table class=\"simpletable\">\n",
       "<tr>\n",
       "           <td></td>             <th>coef</th>     <th>std err</th>      <th>z</th>      <th>P>|z|</th>  <th>[0.025</th>    <th>0.975]</th>  \n",
       "</tr>\n",
       "<tr>\n",
       "  <th>const</th>              <td> 5031.5678</td> <td>  496.810</td> <td>   10.128</td> <td> 0.000</td> <td> 4057.837</td> <td> 6005.298</td>\n",
       "</tr>\n",
       "<tr>\n",
       "  <th>ar.L1.market_value</th> <td>    0.9985</td> <td>    0.001</td> <td> 1324.999</td> <td> 0.000</td> <td>    0.997</td> <td>    1.000</td>\n",
       "</tr>\n",
       "<tr>\n",
       "  <th>ma.L1.market_value</th> <td>   -0.0190</td> <td>    0.015</td> <td>   -1.274</td> <td> 0.203</td> <td>   -0.048</td> <td>    0.010</td>\n",
       "</tr>\n",
       "</table>\n",
       "<table class=\"simpletable\">\n",
       "<caption>Roots</caption>\n",
       "<tr>\n",
       "    <td></td>   <th>            Real</th>  <th>         Imaginary</th> <th>         Modulus</th>  <th>        Frequency</th>\n",
       "</tr>\n",
       "<tr>\n",
       "  <th>AR.1</th> <td>           1.0015</td> <td>          +0.0000j</td> <td>           1.0015</td> <td>           0.0000</td>\n",
       "</tr>\n",
       "<tr>\n",
       "  <th>MA.1</th> <td>          52.5113</td> <td>          +0.0000j</td> <td>          52.5113</td> <td>           0.0000</td>\n",
       "</tr>\n",
       "</table>"
      ],
      "text/plain": [
       "<class 'statsmodels.iolib.summary.Summary'>\n",
       "\"\"\"\n",
       "                              ARMA Model Results                              \n",
       "==============================================================================\n",
       "Dep. Variable:           market_value   No. Observations:                 5021\n",
       "Model:                     ARMA(1, 1)   Log Likelihood              -27621.784\n",
       "Method:                       css-mle   S.D. of innovations             59.248\n",
       "Date:                Wed, 03 Feb 2021   AIC                          55251.568\n",
       "Time:                        20:18:22   BIC                          55277.654\n",
       "Sample:                    01-07-1994   HQIC                         55260.709\n",
       "                         - 04-05-2013                                         \n",
       "======================================================================================\n",
       "                         coef    std err          z      P>|z|      [0.025      0.975]\n",
       "--------------------------------------------------------------------------------------\n",
       "const               5031.5678    496.810     10.128      0.000    4057.837    6005.298\n",
       "ar.L1.market_value     0.9985      0.001   1324.999      0.000       0.997       1.000\n",
       "ma.L1.market_value    -0.0190      0.015     -1.274      0.203      -0.048       0.010\n",
       "                                    Roots                                    \n",
       "=============================================================================\n",
       "                  Real          Imaginary           Modulus         Frequency\n",
       "-----------------------------------------------------------------------------\n",
       "AR.1            1.0015           +0.0000j            1.0015            0.0000\n",
       "MA.1           52.5113           +0.0000j           52.5113            0.0000\n",
       "-----------------------------------------------------------------------------\n",
       "\"\"\""
      ]
     },
     "execution_count": 41,
     "metadata": {},
     "output_type": "execute_result"
    }
   ],
   "source": [
    "model_ar_1_ma_1 = ARMA(df.market_value, order=(1,1))\n",
    "results_ar_1_ma_1 = model_ar_1_ma_1.fit()\n",
    "results_ar_1_ma_1.summary()"
   ]
  },
  {
   "cell_type": "markdown",
   "metadata": {},
   "source": [
    "By looking at the P-values, we notice the constant and AR component is significant but not the MA component. Before choosing over parameterized models, we can examine the residuals."
   ]
  },
  {
   "cell_type": "code",
   "execution_count": 43,
   "metadata": {},
   "outputs": [],
   "source": [
    "df['res_ar_1_ma_1'] = results_ar_1_ma_1.resid"
   ]
  },
  {
   "cell_type": "code",
   "execution_count": 45,
   "metadata": {},
   "outputs": [
    {
     "data": {
      "image/png": "[encoded data removed]",
      "text/plain": [
       "<Figure size 432x288 with 1 Axes>"
      ]
     },
     "metadata": {},
     "output_type": "display_data"
    }
   ],
   "source": [
    "sgt.plot_acf(df.res_ar_1_ma_1, zero=False, lags=40)\n",
    "plt.title(\"ACF of Residuals for Prices\")\n",
    "plt.show()"
   ]
  },
  {
   "cell_type": "markdown",
   "metadata": {},
   "source": [
    "We can see that five of the first six lags are significant. So we must amend this by accounting for up to that many lags in our model."
   ]
  },
  {
   "cell_type": "markdown",
   "metadata": {},
   "source": [
    "## ARMA(6, 6)"
   ]
  },
  {
   "cell_type": "code",
   "execution_count": 46,
   "metadata": {},
   "outputs": [
    {
     "ename": "ValueError",
     "evalue": "The computed initial AR coefficients are not stationary\nYou should induce stationarity, choose a different model order, or you can\npass your own start_params.",
     "output_type": "error",
     "traceback": [
      "\u001b[0;31m---------------------------------------------------------------------------\u001b[0m",
      "\u001b[0;31mValueError\u001b[0m                                Traceback (most recent call last)",
      "\u001b[0;32m<ipython-input-46-744782017283>\u001b[0m in \u001b[0;36m<module>\u001b[0;34m\u001b[0m\n\u001b[1;32m      1\u001b[0m \u001b[0mmodel_ar_6_ma_6\u001b[0m \u001b[0;34m=\u001b[0m \u001b[0mARMA\u001b[0m\u001b[0;34m(\u001b[0m\u001b[0mdf\u001b[0m\u001b[0;34m.\u001b[0m\u001b[0mmarket_value\u001b[0m\u001b[0;34m,\u001b[0m \u001b[0morder\u001b[0m\u001b[0;34m=\u001b[0m\u001b[0;34m(\u001b[0m\u001b[0;36m6\u001b[0m\u001b[0;34m,\u001b[0m \u001b[0;36m6\u001b[0m\u001b[0;34m)\u001b[0m\u001b[0;34m)\u001b[0m\u001b[0;34m\u001b[0m\u001b[0;34m\u001b[0m\u001b[0m\n\u001b[0;32m----> 2\u001b[0;31m \u001b[0mresults_ar_6_ma_6\u001b[0m \u001b[0;34m=\u001b[0m \u001b[0mmodel_ar_6_ma_6\u001b[0m\u001b[0;34m.\u001b[0m\u001b[0mfit\u001b[0m\u001b[0;34m(\u001b[0m\u001b[0;34m)\u001b[0m\u001b[0;34m\u001b[0m\u001b[0;34m\u001b[0m\u001b[0m\n\u001b[0m\u001b[1;32m      3\u001b[0m \u001b[0mresults_ar_6_ma_6\u001b[0m\u001b[0;34m.\u001b[0m\u001b[0msummary\u001b[0m\u001b[0;34m(\u001b[0m\u001b[0;34m)\u001b[0m\u001b[0;34m\u001b[0m\u001b[0;34m\u001b[0m\u001b[0m\n",
      "\u001b[0;32m~/Dropbox/mk-personal-repo/snp500-analysis/venv-snp/lib/python3.9/site-packages/statsmodels/tsa/arima_model.py\u001b[0m in \u001b[0;36mfit\u001b[0;34m(self, start_params, trend, method, transparams, solver, maxiter, full_output, disp, callback, start_ar_lags, **kwargs)\u001b[0m\n\u001b[1;32m   1014\u001b[0m             \u001b[0mstart_params\u001b[0m \u001b[0;34m=\u001b[0m \u001b[0marray_like\u001b[0m\u001b[0;34m(\u001b[0m\u001b[0mstart_params\u001b[0m\u001b[0;34m,\u001b[0m \u001b[0;34m'start_params'\u001b[0m\u001b[0;34m)\u001b[0m\u001b[0;34m\u001b[0m\u001b[0;34m\u001b[0m\u001b[0m\n\u001b[1;32m   1015\u001b[0m         \u001b[0;32melse\u001b[0m\u001b[0;34m:\u001b[0m  \u001b[0;31m# estimate starting parameters\u001b[0m\u001b[0;34m\u001b[0m\u001b[0;34m\u001b[0m\u001b[0m\n\u001b[0;32m-> 1016\u001b[0;31m             start_params = self._fit_start_params((k_ar, k_ma, k), method,\n\u001b[0m\u001b[1;32m   1017\u001b[0m                                                   start_ar_lags)\n\u001b[1;32m   1018\u001b[0m \u001b[0;34m\u001b[0m\u001b[0m\n",
      "\u001b[0;32m~/Dropbox/mk-personal-repo/snp500-analysis/venv-snp/lib/python3.9/site-packages/statsmodels/tsa/arima_model.py\u001b[0m in \u001b[0;36m_fit_start_params\u001b[0;34m(self, order, method, start_ar_lags)\u001b[0m\n\u001b[1;32m    606\u001b[0m                 \u001b[0;32mreturn\u001b[0m \u001b[0;34m-\u001b[0m\u001b[0mself\u001b[0m\u001b[0;34m.\u001b[0m\u001b[0mloglike_css\u001b[0m\u001b[0;34m(\u001b[0m\u001b[0mparams\u001b[0m\u001b[0;34m)\u001b[0m\u001b[0;34m\u001b[0m\u001b[0;34m\u001b[0m\u001b[0m\n\u001b[1;32m    607\u001b[0m \u001b[0;34m\u001b[0m\u001b[0m\n\u001b[0;32m--> 608\u001b[0;31m             \u001b[0mstart_params\u001b[0m \u001b[0;34m=\u001b[0m \u001b[0mself\u001b[0m\u001b[0;34m.\u001b[0m\u001b[0m_fit_start_params_hr\u001b[0m\u001b[0;34m(\u001b[0m\u001b[0morder\u001b[0m\u001b[0;34m,\u001b[0m \u001b[0mstart_ar_lags\u001b[0m\u001b[0;34m)\u001b[0m\u001b[0;34m\u001b[0m\u001b[0;34m\u001b[0m\u001b[0m\n\u001b[0m\u001b[1;32m    609\u001b[0m             \u001b[0;32mif\u001b[0m \u001b[0mself\u001b[0m\u001b[0;34m.\u001b[0m\u001b[0mtransparams\u001b[0m\u001b[0;34m:\u001b[0m\u001b[0;34m\u001b[0m\u001b[0;34m\u001b[0m\u001b[0m\n\u001b[1;32m    610\u001b[0m                 \u001b[0mstart_params\u001b[0m \u001b[0;34m=\u001b[0m \u001b[0mself\u001b[0m\u001b[0;34m.\u001b[0m\u001b[0m_invtransparams\u001b[0m\u001b[0;34m(\u001b[0m\u001b[0mstart_params\u001b[0m\u001b[0;34m)\u001b[0m\u001b[0;34m\u001b[0m\u001b[0;34m\u001b[0m\u001b[0m\n",
      "\u001b[0;32m~/Dropbox/mk-personal-repo/snp500-analysis/venv-snp/lib/python3.9/site-packages/statsmodels/tsa/arima_model.py\u001b[0m in \u001b[0;36m_fit_start_params_hr\u001b[0;34m(self, order, start_ar_lags)\u001b[0m\n\u001b[1;32m    584\u001b[0m         if p and not np.all(np.abs(np.roots(np.r_[1, -start_params[k:k + p]]\n\u001b[1;32m    585\u001b[0m                                             )) < 1):\n\u001b[0;32m--> 586\u001b[0;31m             raise ValueError(\"The computed initial AR coefficients are not \"\n\u001b[0m\u001b[1;32m    587\u001b[0m                              \u001b[0;34m\"stationary\\nYou should induce stationarity, \"\u001b[0m\u001b[0;34m\u001b[0m\u001b[0;34m\u001b[0m\u001b[0m\n\u001b[1;32m    588\u001b[0m                              \u001b[0;34m\"choose a different model order, or you can\\n\"\u001b[0m\u001b[0;34m\u001b[0m\u001b[0;34m\u001b[0m\u001b[0m\n",
      "\u001b[0;31mValueError\u001b[0m: The computed initial AR coefficients are not stationary\nYou should induce stationarity, choose a different model order, or you can\npass your own start_params."
     ]
    }
   ],
   "source": [
    "model_ar_6_ma_6 = ARMA(df.market_value, order=(6, 6))\n",
    "results_ar_6_ma_6 = model_ar_6_ma_6.fit()\n",
    "results_ar_6_ma_6.summary()"
   ]
  },
  {
   "cell_type": "markdown",
   "metadata": {},
   "source": [
    "This throws an error that the initial AR coefficients are not stationary. To fix the problem, we can take one of the three approaches;\n",
    "\n",
    "1) Induce stationary by transforming the data into returns: we do not want to do this here  \n",
    "2) Choose a different model order: we want to avoid this because we are interested in the coefficients of 6th lag  \n",
    "3) Setting initial parameters: we will use this method.  \n",
    "\n",
    "\n",
    "We set the `start_ar_lags` parameter to `fit` method. We can increase the lag until we do not see the error, which turns out to be 11. "
   ]
  },
  {
   "cell_type": "code",
   "execution_count": 47,
   "metadata": {},
   "outputs": [
    {
     "data": {
      "text/html": [
       "<table class=\"simpletable\">\n",
       "<caption>ARMA Model Results</caption>\n",
       "<tr>\n",
       "  <th>Dep. Variable:</th>   <td>market_value</td>   <th>  No. Observations:  </th>    <td>5021</td>   \n",
       "</tr>\n",
       "<tr>\n",
       "  <th>Model:</th>            <td>ARMA(6, 6)</td>    <th>  Log Likelihood     </th> <td>-27587.932</td>\n",
       "</tr>\n",
       "<tr>\n",
       "  <th>Method:</th>             <td>css-mle</td>     <th>  S.D. of innovations</th>   <td>58.849</td>  \n",
       "</tr>\n",
       "<tr>\n",
       "  <th>Date:</th>          <td>Wed, 03 Feb 2021</td> <th>  AIC                </th>  <td>55203.864</td>\n",
       "</tr>\n",
       "<tr>\n",
       "  <th>Time:</th>              <td>20:30:33</td>     <th>  BIC                </th>  <td>55295.164</td>\n",
       "</tr>\n",
       "<tr>\n",
       "  <th>Sample:</th>           <td>01-07-1994</td>    <th>  HQIC               </th>  <td>55235.856</td>\n",
       "</tr>\n",
       "<tr>\n",
       "  <th></th>                 <td>- 04-05-2013</td>   <th>                     </th>      <td> </td>    \n",
       "</tr>\n",
       "</table>\n",
       "<table class=\"simpletable\">\n",
       "<tr>\n",
       "           <td></td>             <th>coef</th>     <th>std err</th>      <th>z</th>      <th>P>|z|</th>  <th>[0.025</th>    <th>0.975]</th>  \n",
       "</tr>\n",
       "<tr>\n",
       "  <th>const</th>              <td> 5089.6496</td> <td>  568.515</td> <td>    8.953</td> <td> 0.000</td> <td> 3975.380</td> <td> 6203.919</td>\n",
       "</tr>\n",
       "<tr>\n",
       "  <th>ar.L1.market_value</th> <td>    1.9270</td> <td>    0.032</td> <td>   59.946</td> <td> 0.000</td> <td>    1.864</td> <td>    1.990</td>\n",
       "</tr>\n",
       "<tr>\n",
       "  <th>ar.L2.market_value</th> <td>   -1.7355</td> <td>    0.040</td> <td>  -43.395</td> <td> 0.000</td> <td>   -1.814</td> <td>   -1.657</td>\n",
       "</tr>\n",
       "<tr>\n",
       "  <th>ar.L3.market_value</th> <td>    1.2678</td> <td>    0.034</td> <td>   36.864</td> <td> 0.000</td> <td>    1.200</td> <td>    1.335</td>\n",
       "</tr>\n",
       "<tr>\n",
       "  <th>ar.L4.market_value</th> <td>   -0.2376</td> <td>    0.156</td> <td>   -1.524</td> <td> 0.127</td> <td>   -0.543</td> <td>    0.068</td>\n",
       "</tr>\n",
       "<tr>\n",
       "  <th>ar.L5.market_value</th> <td>   -0.4056</td> <td>    0.163</td> <td>   -2.486</td> <td> 0.013</td> <td>   -0.725</td> <td>   -0.086</td>\n",
       "</tr>\n",
       "<tr>\n",
       "  <th>ar.L6.market_value</th> <td>    0.1834</td> <td>    0.049</td> <td>    3.760</td> <td> 0.000</td> <td>    0.088</td> <td>    0.279</td>\n",
       "</tr>\n",
       "<tr>\n",
       "  <th>ma.L1.market_value</th> <td>   -0.9481</td> <td>    0.035</td> <td>  -27.039</td> <td> 0.000</td> <td>   -1.017</td> <td>   -0.879</td>\n",
       "</tr>\n",
       "<tr>\n",
       "  <th>ma.L2.market_value</th> <td>    0.7800</td> <td>    0.032</td> <td>   24.216</td> <td> 0.000</td> <td>    0.717</td> <td>    0.843</td>\n",
       "</tr>\n",
       "<tr>\n",
       "  <th>ma.L3.market_value</th> <td>   -0.5085</td> <td>    0.031</td> <td>  -16.336</td> <td> 0.000</td> <td>   -0.570</td> <td>   -0.447</td>\n",
       "</tr>\n",
       "<tr>\n",
       "  <th>ma.L4.market_value</th> <td>   -0.1560</td> <td>    0.157</td> <td>   -0.997</td> <td> 0.319</td> <td>   -0.463</td> <td>    0.151</td>\n",
       "</tr>\n",
       "<tr>\n",
       "  <th>ma.L5.market_value</th> <td>    0.0947</td> <td>    0.057</td> <td>    1.672</td> <td> 0.094</td> <td>   -0.016</td> <td>    0.206</td>\n",
       "</tr>\n",
       "<tr>\n",
       "  <th>ma.L6.market_value</th> <td>    0.0670</td> <td>    0.024</td> <td>    2.825</td> <td> 0.005</td> <td>    0.021</td> <td>    0.113</td>\n",
       "</tr>\n",
       "</table>\n",
       "<table class=\"simpletable\">\n",
       "<caption>Roots</caption>\n",
       "<tr>\n",
       "    <td></td>   <th>            Real</th>  <th>         Imaginary</th> <th>         Modulus</th>  <th>        Frequency</th>\n",
       "</tr>\n",
       "<tr>\n",
       "  <th>AR.1</th> <td>           0.0857</td> <td>          -1.0502j</td> <td>           1.0537</td> <td>          -0.2370</td>\n",
       "</tr>\n",
       "<tr>\n",
       "  <th>AR.2</th> <td>           0.0857</td> <td>          +1.0502j</td> <td>           1.0537</td> <td>           0.2370</td>\n",
       "</tr>\n",
       "<tr>\n",
       "  <th>AR.3</th> <td>          -2.0271</td> <td>          -0.0000j</td> <td>           2.0271</td> <td>          -0.5000</td>\n",
       "</tr>\n",
       "<tr>\n",
       "  <th>AR.4</th> <td>           1.0011</td> <td>          -0.0000j</td> <td>           1.0011</td> <td>          -0.0000</td>\n",
       "</tr>\n",
       "<tr>\n",
       "  <th>AR.5</th> <td>           1.5328</td> <td>          -0.2647j</td> <td>           1.5555</td> <td>          -0.0272</td>\n",
       "</tr>\n",
       "<tr>\n",
       "  <th>AR.6</th> <td>           1.5328</td> <td>          +0.2647j</td> <td>           1.5555</td> <td>           0.0272</td>\n",
       "</tr>\n",
       "<tr>\n",
       "  <th>MA.1</th> <td>           0.1028</td> <td>          -1.0612j</td> <td>           1.0661</td> <td>          -0.2346</td>\n",
       "</tr>\n",
       "<tr>\n",
       "  <th>MA.2</th> <td>           0.1028</td> <td>          +1.0612j</td> <td>           1.0661</td> <td>           0.2346</td>\n",
       "</tr>\n",
       "<tr>\n",
       "  <th>MA.3</th> <td>           1.3634</td> <td>          -0.2787j</td> <td>           1.3916</td> <td>          -0.0321</td>\n",
       "</tr>\n",
       "<tr>\n",
       "  <th>MA.4</th> <td>           1.3634</td> <td>          +0.2787j</td> <td>           1.3916</td> <td>           0.0321</td>\n",
       "</tr>\n",
       "<tr>\n",
       "  <th>MA.5</th> <td>          -2.1727</td> <td>          -1.4351j</td> <td>           2.6039</td> <td>          -0.4071</td>\n",
       "</tr>\n",
       "<tr>\n",
       "  <th>MA.6</th> <td>          -2.1727</td> <td>          +1.4351j</td> <td>           2.6039</td> <td>           0.4071</td>\n",
       "</tr>\n",
       "</table>"
      ],
      "text/plain": [
       "<class 'statsmodels.iolib.summary.Summary'>\n",
       "\"\"\"\n",
       "                              ARMA Model Results                              \n",
       "==============================================================================\n",
       "Dep. Variable:           market_value   No. Observations:                 5021\n",
       "Model:                     ARMA(6, 6)   Log Likelihood              -27587.932\n",
       "Method:                       css-mle   S.D. of innovations             58.849\n",
       "Date:                Wed, 03 Feb 2021   AIC                          55203.864\n",
       "Time:                        20:30:33   BIC                          55295.164\n",
       "Sample:                    01-07-1994   HQIC                         55235.856\n",
       "                         - 04-05-2013                                         \n",
       "======================================================================================\n",
       "                         coef    std err          z      P>|z|      [0.025      0.975]\n",
       "--------------------------------------------------------------------------------------\n",
       "const               5089.6496    568.515      8.953      0.000    3975.380    6203.919\n",
       "ar.L1.market_value     1.9270      0.032     59.946      0.000       1.864       1.990\n",
       "ar.L2.market_value    -1.7355      0.040    -43.395      0.000      -1.814      -1.657\n",
       "ar.L3.market_value     1.2678      0.034     36.864      0.000       1.200       1.335\n",
       "ar.L4.market_value    -0.2376      0.156     -1.524      0.127      -0.543       0.068\n",
       "ar.L5.market_value    -0.4056      0.163     -2.486      0.013      -0.725      -0.086\n",
       "ar.L6.market_value     0.1834      0.049      3.760      0.000       0.088       0.279\n",
       "ma.L1.market_value    -0.9481      0.035    -27.039      0.000      -1.017      -0.879\n",
       "ma.L2.market_value     0.7800      0.032     24.216      0.000       0.717       0.843\n",
       "ma.L3.market_value    -0.5085      0.031    -16.336      0.000      -0.570      -0.447\n",
       "ma.L4.market_value    -0.1560      0.157     -0.997      0.319      -0.463       0.151\n",
       "ma.L5.market_value     0.0947      0.057      1.672      0.094      -0.016       0.206\n",
       "ma.L6.market_value     0.0670      0.024      2.825      0.005       0.021       0.113\n",
       "                                    Roots                                    \n",
       "=============================================================================\n",
       "                  Real          Imaginary           Modulus         Frequency\n",
       "-----------------------------------------------------------------------------\n",
       "AR.1            0.0857           -1.0502j            1.0537           -0.2370\n",
       "AR.2            0.0857           +1.0502j            1.0537            0.2370\n",
       "AR.3           -2.0271           -0.0000j            2.0271           -0.5000\n",
       "AR.4            1.0011           -0.0000j            1.0011           -0.0000\n",
       "AR.5            1.5328           -0.2647j            1.5555           -0.0272\n",
       "AR.6            1.5328           +0.2647j            1.5555            0.0272\n",
       "MA.1            0.1028           -1.0612j            1.0661           -0.2346\n",
       "MA.2            0.1028           +1.0612j            1.0661            0.2346\n",
       "MA.3            1.3634           -0.2787j            1.3916           -0.0321\n",
       "MA.4            1.3634           +0.2787j            1.3916            0.0321\n",
       "MA.5           -2.1727           -1.4351j            2.6039           -0.4071\n",
       "MA.6           -2.1727           +1.4351j            2.6039            0.4071\n",
       "-----------------------------------------------------------------------------\n",
       "\"\"\""
      ]
     },
     "execution_count": 47,
     "metadata": {},
     "output_type": "execute_result"
    }
   ],
   "source": [
    "model_ar_6_ma_6 = ARMA(df.market_value, order=(6, 6))\n",
    "results_ar_6_ma_6 = model_ar_6_ma_6.fit(start_ar_lags=11)\n",
    "results_ar_6_ma_6.summary()"
   ]
  },
  {
   "cell_type": "markdown",
   "metadata": {},
   "source": [
    "We can also change ARMA order until we have all significant coefficients. "
   ]
  },
  {
   "cell_type": "code",
   "execution_count": 50,
   "metadata": {},
   "outputs": [
    {
     "data": {
      "text/html": [
       "<table class=\"simpletable\">\n",
       "<caption>ARMA Model Results</caption>\n",
       "<tr>\n",
       "  <th>Dep. Variable:</th>   <td>market_value</td>   <th>  No. Observations:  </th>    <td>5021</td>   \n",
       "</tr>\n",
       "<tr>\n",
       "  <th>Model:</th>            <td>ARMA(5, 6)</td>    <th>  Log Likelihood     </th> <td>-27587.863</td>\n",
       "</tr>\n",
       "<tr>\n",
       "  <th>Method:</th>             <td>css-mle</td>     <th>  S.D. of innovations</th>   <td>58.849</td>  \n",
       "</tr>\n",
       "<tr>\n",
       "  <th>Date:</th>          <td>Wed, 03 Feb 2021</td> <th>  AIC                </th>  <td>55201.726</td>\n",
       "</tr>\n",
       "<tr>\n",
       "  <th>Time:</th>              <td>20:35:04</td>     <th>  BIC                </th>  <td>55286.504</td>\n",
       "</tr>\n",
       "<tr>\n",
       "  <th>Sample:</th>           <td>01-07-1994</td>    <th>  HQIC               </th>  <td>55231.433</td>\n",
       "</tr>\n",
       "<tr>\n",
       "  <th></th>                 <td>- 04-05-2013</td>   <th>                     </th>      <td> </td>    \n",
       "</tr>\n",
       "</table>\n",
       "<table class=\"simpletable\">\n",
       "<tr>\n",
       "           <td></td>             <th>coef</th>     <th>std err</th>      <th>z</th>      <th>P>|z|</th>  <th>[0.025</th>    <th>0.975]</th>  \n",
       "</tr>\n",
       "<tr>\n",
       "  <th>const</th>              <td> 5089.6480</td> <td>  580.839</td> <td>    8.763</td> <td> 0.000</td> <td> 3951.224</td> <td> 6228.072</td>\n",
       "</tr>\n",
       "<tr>\n",
       "  <th>ar.L1.market_value</th> <td>    1.3584</td> <td>    0.178</td> <td>    7.651</td> <td> 0.000</td> <td>    1.010</td> <td>    1.706</td>\n",
       "</tr>\n",
       "<tr>\n",
       "  <th>ar.L2.market_value</th> <td>   -1.1289</td> <td>    0.237</td> <td>   -4.759</td> <td> 0.000</td> <td>   -1.594</td> <td>   -0.664</td>\n",
       "</tr>\n",
       "<tr>\n",
       "  <th>ar.L3.market_value</th> <td>    0.9147</td> <td>    0.229</td> <td>    3.999</td> <td> 0.000</td> <td>    0.466</td> <td>    1.363</td>\n",
       "</tr>\n",
       "<tr>\n",
       "  <th>ar.L4.market_value</th> <td>    0.0159</td> <td>    0.204</td> <td>    0.078</td> <td> 0.938</td> <td>   -0.383</td> <td>    0.415</td>\n",
       "</tr>\n",
       "<tr>\n",
       "  <th>ar.L5.market_value</th> <td>   -0.1613</td> <td>    0.119</td> <td>   -1.352</td> <td> 0.176</td> <td>   -0.395</td> <td>    0.073</td>\n",
       "</tr>\n",
       "<tr>\n",
       "  <th>ma.L1.market_value</th> <td>   -0.3796</td> <td>    0.178</td> <td>   -2.132</td> <td> 0.033</td> <td>   -0.729</td> <td>   -0.031</td>\n",
       "</tr>\n",
       "<tr>\n",
       "  <th>ma.L2.market_value</th> <td>    0.7294</td> <td>    0.125</td> <td>    5.829</td> <td> 0.000</td> <td>    0.484</td> <td>    0.975</td>\n",
       "</tr>\n",
       "<tr>\n",
       "  <th>ma.L3.market_value</th> <td>   -0.2198</td> <td>    0.153</td> <td>   -1.437</td> <td> 0.151</td> <td>   -0.520</td> <td>    0.080</td>\n",
       "</tr>\n",
       "<tr>\n",
       "  <th>ma.L4.market_value</th> <td>   -0.1387</td> <td>    0.114</td> <td>   -1.215</td> <td> 0.224</td> <td>   -0.362</td> <td>    0.085</td>\n",
       "</tr>\n",
       "<tr>\n",
       "  <th>ma.L5.market_value</th> <td>   -0.0879</td> <td>    0.017</td> <td>   -5.325</td> <td> 0.000</td> <td>   -0.120</td> <td>   -0.056</td>\n",
       "</tr>\n",
       "<tr>\n",
       "  <th>ma.L6.market_value</th> <td>    0.0265</td> <td>    0.024</td> <td>    1.128</td> <td> 0.259</td> <td>   -0.020</td> <td>    0.073</td>\n",
       "</tr>\n",
       "</table>\n",
       "<table class=\"simpletable\">\n",
       "<caption>Roots</caption>\n",
       "<tr>\n",
       "    <td></td>   <th>            Real</th>  <th>         Imaginary</th> <th>         Modulus</th>  <th>        Frequency</th>\n",
       "</tr>\n",
       "<tr>\n",
       "  <th>AR.1</th> <td>           0.0917</td> <td>          -1.0418j</td> <td>           1.0458</td> <td>          -0.2360</td>\n",
       "</tr>\n",
       "<tr>\n",
       "  <th>AR.2</th> <td>           0.0917</td> <td>          +1.0418j</td> <td>           1.0458</td> <td>           0.2360</td>\n",
       "</tr>\n",
       "<tr>\n",
       "  <th>AR.3</th> <td>           1.0010</td> <td>          -0.0000j</td> <td>           1.0010</td> <td>          -0.0000</td>\n",
       "</tr>\n",
       "<tr>\n",
       "  <th>AR.4</th> <td>           1.8980</td> <td>          -0.0000j</td> <td>           1.8980</td> <td>          -0.0000</td>\n",
       "</tr>\n",
       "<tr>\n",
       "  <th>AR.5</th> <td>          -2.9839</td> <td>          -0.0000j</td> <td>           2.9839</td> <td>          -0.5000</td>\n",
       "</tr>\n",
       "<tr>\n",
       "  <th>MA.1</th> <td>           0.1071</td> <td>          -1.0487j</td> <td>           1.0542</td> <td>          -0.2338</td>\n",
       "</tr>\n",
       "<tr>\n",
       "  <th>MA.2</th> <td>           0.1071</td> <td>          +1.0487j</td> <td>           1.0542</td> <td>           0.2338</td>\n",
       "</tr>\n",
       "<tr>\n",
       "  <th>MA.3</th> <td>          -1.5353</td> <td>          -1.5157j</td> <td>           2.1574</td> <td>          -0.3760</td>\n",
       "</tr>\n",
       "<tr>\n",
       "  <th>MA.4</th> <td>          -1.5353</td> <td>          +1.5157j</td> <td>           2.1574</td> <td>           0.3760</td>\n",
       "</tr>\n",
       "<tr>\n",
       "  <th>MA.5</th> <td>           1.5919</td> <td>          -0.0000j</td> <td>           1.5919</td> <td>          -0.0000</td>\n",
       "</tr>\n",
       "<tr>\n",
       "  <th>MA.6</th> <td>           4.5787</td> <td>          -0.0000j</td> <td>           4.5787</td> <td>          -0.0000</td>\n",
       "</tr>\n",
       "</table>"
      ],
      "text/plain": [
       "<class 'statsmodels.iolib.summary.Summary'>\n",
       "\"\"\"\n",
       "                              ARMA Model Results                              \n",
       "==============================================================================\n",
       "Dep. Variable:           market_value   No. Observations:                 5021\n",
       "Model:                     ARMA(5, 6)   Log Likelihood              -27587.863\n",
       "Method:                       css-mle   S.D. of innovations             58.849\n",
       "Date:                Wed, 03 Feb 2021   AIC                          55201.726\n",
       "Time:                        20:35:04   BIC                          55286.504\n",
       "Sample:                    01-07-1994   HQIC                         55231.433\n",
       "                         - 04-05-2013                                         \n",
       "======================================================================================\n",
       "                         coef    std err          z      P>|z|      [0.025      0.975]\n",
       "--------------------------------------------------------------------------------------\n",
       "const               5089.6480    580.839      8.763      0.000    3951.224    6228.072\n",
       "ar.L1.market_value     1.3584      0.178      7.651      0.000       1.010       1.706\n",
       "ar.L2.market_value    -1.1289      0.237     -4.759      0.000      -1.594      -0.664\n",
       "ar.L3.market_value     0.9147      0.229      3.999      0.000       0.466       1.363\n",
       "ar.L4.market_value     0.0159      0.204      0.078      0.938      -0.383       0.415\n",
       "ar.L5.market_value    -0.1613      0.119     -1.352      0.176      -0.395       0.073\n",
       "ma.L1.market_value    -0.3796      0.178     -2.132      0.033      -0.729      -0.031\n",
       "ma.L2.market_value     0.7294      0.125      5.829      0.000       0.484       0.975\n",
       "ma.L3.market_value    -0.2198      0.153     -1.437      0.151      -0.520       0.080\n",
       "ma.L4.market_value    -0.1387      0.114     -1.215      0.224      -0.362       0.085\n",
       "ma.L5.market_value    -0.0879      0.017     -5.325      0.000      -0.120      -0.056\n",
       "ma.L6.market_value     0.0265      0.024      1.128      0.259      -0.020       0.073\n",
       "                                    Roots                                    \n",
       "=============================================================================\n",
       "                  Real          Imaginary           Modulus         Frequency\n",
       "-----------------------------------------------------------------------------\n",
       "AR.1            0.0917           -1.0418j            1.0458           -0.2360\n",
       "AR.2            0.0917           +1.0418j            1.0458            0.2360\n",
       "AR.3            1.0010           -0.0000j            1.0010           -0.0000\n",
       "AR.4            1.8980           -0.0000j            1.8980           -0.0000\n",
       "AR.5           -2.9839           -0.0000j            2.9839           -0.5000\n",
       "MA.1            0.1071           -1.0487j            1.0542           -0.2338\n",
       "MA.2            0.1071           +1.0487j            1.0542            0.2338\n",
       "MA.3           -1.5353           -1.5157j            2.1574           -0.3760\n",
       "MA.4           -1.5353           +1.5157j            2.1574            0.3760\n",
       "MA.5            1.5919           -0.0000j            1.5919           -0.0000\n",
       "MA.6            4.5787           -0.0000j            4.5787           -0.0000\n",
       "-----------------------------------------------------------------------------\n",
       "\"\"\""
      ]
     },
     "execution_count": 50,
     "metadata": {},
     "output_type": "execute_result"
    }
   ],
   "source": [
    "model_ar_5_ma_6 = ARMA(df.market_value, order=(5, 6))\n",
    "results_ar_5_ma_6 = model_ar_5_ma_6.fit(start_ar_lags=7)\n",
    "results_ar_5_ma_6.summary()"
   ]
  },
  {
   "cell_type": "code",
   "execution_count": 51,
   "metadata": {},
   "outputs": [
    {
     "data": {
      "text/html": [
       "<table class=\"simpletable\">\n",
       "<caption>ARMA Model Results</caption>\n",
       "<tr>\n",
       "  <th>Dep. Variable:</th>   <td>market_value</td>   <th>  No. Observations:  </th>    <td>5021</td>   \n",
       "</tr>\n",
       "<tr>\n",
       "  <th>Model:</th>            <td>ARMA(6, 1)</td>    <th>  Log Likelihood     </th> <td>-27594.195</td>\n",
       "</tr>\n",
       "<tr>\n",
       "  <th>Method:</th>             <td>css-mle</td>     <th>  S.D. of innovations</th>   <td>58.923</td>  \n",
       "</tr>\n",
       "<tr>\n",
       "  <th>Date:</th>          <td>Wed, 03 Feb 2021</td> <th>  AIC                </th>  <td>55206.389</td>\n",
       "</tr>\n",
       "<tr>\n",
       "  <th>Time:</th>              <td>20:35:08</td>     <th>  BIC                </th>  <td>55265.082</td>\n",
       "</tr>\n",
       "<tr>\n",
       "  <th>Sample:</th>           <td>01-07-1994</td>    <th>  HQIC               </th>  <td>55226.956</td>\n",
       "</tr>\n",
       "<tr>\n",
       "  <th></th>                 <td>- 04-05-2013</td>   <th>                     </th>      <td> </td>    \n",
       "</tr>\n",
       "</table>\n",
       "<table class=\"simpletable\">\n",
       "<tr>\n",
       "           <td></td>             <th>coef</th>     <th>std err</th>      <th>z</th>      <th>P>|z|</th>  <th>[0.025</th>    <th>0.975]</th>  \n",
       "</tr>\n",
       "<tr>\n",
       "  <th>const</th>              <td> 5089.6420</td> <td>  586.493</td> <td>    8.678</td> <td> 0.000</td> <td> 3940.137</td> <td> 6239.147</td>\n",
       "</tr>\n",
       "<tr>\n",
       "  <th>ar.L1.market_value</th> <td>    1.3921</td> <td>    0.058</td> <td>   23.929</td> <td> 0.000</td> <td>    1.278</td> <td>    1.506</td>\n",
       "</tr>\n",
       "<tr>\n",
       "  <th>ar.L2.market_value</th> <td>   -0.4369</td> <td>    0.059</td> <td>   -7.400</td> <td> 0.000</td> <td>   -0.553</td> <td>   -0.321</td>\n",
       "</tr>\n",
       "<tr>\n",
       "  <th>ar.L3.market_value</th> <td>   -0.0101</td> <td>    0.025</td> <td>   -0.409</td> <td> 0.683</td> <td>   -0.059</td> <td>    0.038</td>\n",
       "</tr>\n",
       "<tr>\n",
       "  <th>ar.L4.market_value</th> <td>    0.1126</td> <td>    0.025</td> <td>    4.527</td> <td> 0.000</td> <td>    0.064</td> <td>    0.161</td>\n",
       "</tr>\n",
       "<tr>\n",
       "  <th>ar.L5.market_value</th> <td>   -0.1158</td> <td>    0.025</td> <td>   -4.717</td> <td> 0.000</td> <td>   -0.164</td> <td>   -0.068</td>\n",
       "</tr>\n",
       "<tr>\n",
       "  <th>ar.L6.market_value</th> <td>    0.0573</td> <td>    0.014</td> <td>    4.067</td> <td> 0.000</td> <td>    0.030</td> <td>    0.085</td>\n",
       "</tr>\n",
       "<tr>\n",
       "  <th>ma.L1.market_value</th> <td>   -0.4127</td> <td>    0.060</td> <td>   -6.925</td> <td> 0.000</td> <td>   -0.529</td> <td>   -0.296</td>\n",
       "</tr>\n",
       "</table>\n",
       "<table class=\"simpletable\">\n",
       "<caption>Roots</caption>\n",
       "<tr>\n",
       "    <td></td>   <th>            Real</th>  <th>         Imaginary</th> <th>         Modulus</th>  <th>        Frequency</th>\n",
       "</tr>\n",
       "<tr>\n",
       "  <th>AR.1</th> <td>           1.0010</td> <td>          -0.0000j</td> <td>           1.0010</td> <td>          -0.0000</td>\n",
       "</tr>\n",
       "<tr>\n",
       "  <th>AR.2</th> <td>          -1.7608</td> <td>          -0.0000j</td> <td>           1.7608</td> <td>          -0.5000</td>\n",
       "</tr>\n",
       "<tr>\n",
       "  <th>AR.3</th> <td>          -0.0803</td> <td>          -1.8407j</td> <td>           1.8425</td> <td>          -0.2569</td>\n",
       "</tr>\n",
       "<tr>\n",
       "  <th>AR.4</th> <td>          -0.0803</td> <td>          +1.8407j</td> <td>           1.8425</td> <td>           0.2569</td>\n",
       "</tr>\n",
       "<tr>\n",
       "  <th>AR.5</th> <td>           1.4694</td> <td>          -0.8691j</td> <td>           1.7072</td> <td>          -0.0850</td>\n",
       "</tr>\n",
       "<tr>\n",
       "  <th>AR.6</th> <td>           1.4694</td> <td>          +0.8691j</td> <td>           1.7072</td> <td>           0.0850</td>\n",
       "</tr>\n",
       "<tr>\n",
       "  <th>MA.1</th> <td>           2.4233</td> <td>          +0.0000j</td> <td>           2.4233</td> <td>           0.0000</td>\n",
       "</tr>\n",
       "</table>"
      ],
      "text/plain": [
       "<class 'statsmodels.iolib.summary.Summary'>\n",
       "\"\"\"\n",
       "                              ARMA Model Results                              \n",
       "==============================================================================\n",
       "Dep. Variable:           market_value   No. Observations:                 5021\n",
       "Model:                     ARMA(6, 1)   Log Likelihood              -27594.195\n",
       "Method:                       css-mle   S.D. of innovations             58.923\n",
       "Date:                Wed, 03 Feb 2021   AIC                          55206.389\n",
       "Time:                        20:35:08   BIC                          55265.082\n",
       "Sample:                    01-07-1994   HQIC                         55226.956\n",
       "                         - 04-05-2013                                         \n",
       "======================================================================================\n",
       "                         coef    std err          z      P>|z|      [0.025      0.975]\n",
       "--------------------------------------------------------------------------------------\n",
       "const               5089.6420    586.493      8.678      0.000    3940.137    6239.147\n",
       "ar.L1.market_value     1.3921      0.058     23.929      0.000       1.278       1.506\n",
       "ar.L2.market_value    -0.4369      0.059     -7.400      0.000      -0.553      -0.321\n",
       "ar.L3.market_value    -0.0101      0.025     -0.409      0.683      -0.059       0.038\n",
       "ar.L4.market_value     0.1126      0.025      4.527      0.000       0.064       0.161\n",
       "ar.L5.market_value    -0.1158      0.025     -4.717      0.000      -0.164      -0.068\n",
       "ar.L6.market_value     0.0573      0.014      4.067      0.000       0.030       0.085\n",
       "ma.L1.market_value    -0.4127      0.060     -6.925      0.000      -0.529      -0.296\n",
       "                                    Roots                                    \n",
       "=============================================================================\n",
       "                  Real          Imaginary           Modulus         Frequency\n",
       "-----------------------------------------------------------------------------\n",
       "AR.1            1.0010           -0.0000j            1.0010           -0.0000\n",
       "AR.2           -1.7608           -0.0000j            1.7608           -0.5000\n",
       "AR.3           -0.0803           -1.8407j            1.8425           -0.2569\n",
       "AR.4           -0.0803           +1.8407j            1.8425            0.2569\n",
       "AR.5            1.4694           -0.8691j            1.7072           -0.0850\n",
       "AR.6            1.4694           +0.8691j            1.7072            0.0850\n",
       "MA.1            2.4233           +0.0000j            2.4233            0.0000\n",
       "-----------------------------------------------------------------------------\n",
       "\"\"\""
      ]
     },
     "execution_count": 51,
     "metadata": {},
     "output_type": "execute_result"
    }
   ],
   "source": [
    "model_ar_6_ma_1 = ARMA(df.market_value, order=(6, 1))\n",
    "results_ar_6_ma_1 = model_ar_6_ma_1.fit(start_ar_lags=7)\n",
    "results_ar_6_ma_1.summary()"
   ]
  },
  {
   "cell_type": "code",
   "execution_count": 53,
   "metadata": {},
   "outputs": [
    {
     "name": "stdout",
     "output_type": "stream",
     "text": [
      "ARMA(5, 6): LL =  -27587.862948592527 \tAIC =  55201.72589718505\n",
      "ARMA(6, 1): LL =  -27594.19457097668 \tAIC =  55206.38914195336\n"
     ]
    }
   ],
   "source": [
    "print(\"ARMA(5, 6): LL = \", results_ar_5_ma_6.llf, \"\\tAIC = \", results_ar_5_ma_6.aic)\n",
    "print(\"ARMA(6, 1): LL = \", results_ar_6_ma_1.llf, \"\\tAIC = \", results_ar_6_ma_1.aic)"
   ]
  },
  {
   "cell_type": "markdown",
   "metadata": {},
   "source": [
    "In this case, we want to use ARMA(5, 6)."
   ]
  },
  {
   "cell_type": "code",
   "execution_count": 54,
   "metadata": {},
   "outputs": [
    {
     "data": {
      "image/png": "[encoded data removed]",
      "text/plain": [
       "<Figure size 432x288 with 1 Axes>"
      ]
     },
     "metadata": {},
     "output_type": "display_data"
    }
   ],
   "source": [
    "df['res_ar_5_ma_6'] = results_ar_5_ma_6.resid\n",
    "sgt.plot_acf(df.res_ar_5_ma_6, zero=False, lags=40)\n",
    "plt.title(\"ACF of Residuals for Prices\")\n",
    "plt.show()"
   ]
  },
  {
   "cell_type": "markdown",
   "metadata": {},
   "source": [
    "This looks like a good residual ACF for white noise."
   ]
  },
  {
   "cell_type": "markdown",
   "metadata": {},
   "source": [
    "# ARMA for Returns vs. ARMA for Prices"
   ]
  },
  {
   "cell_type": "code",
   "execution_count": 56,
   "metadata": {},
   "outputs": [
    {
     "name": "stdout",
     "output_type": "stream",
     "text": [
      "ARMA(5, 6): LL =  -27587.862948592527 \tAIC =  55201.72589718505\n",
      "ARMA(5, 1): LL =  -7889.31128294583 \tAIC =  15794.62256589166\n"
     ]
    }
   ],
   "source": [
    "print(\"ARMA(5, 6): LL = \", results_ar_5_ma_6.llf, \"\\tAIC = \", results_ar_5_ma_6.aic)\n",
    "print(\"ARMA(5, 1): LL = \", results_ret_ar_5_ma_1.llf, \"\\tAIC = \", results_ret_ar_5_ma_1.aic)"
   ]
  },
  {
   "cell_type": "markdown",
   "metadata": {},
   "source": [
    "This suggests that even though we can model prices using ARMA models, they perform much worse compared to their ability to estimate stationary data."
   ]
  },
  {
   "cell_type": "code",
   "execution_count": null,
   "metadata": {},
   "outputs": [],
   "source": []
  }
 ],
 "metadata": {
  "kernelspec": {
   "display_name": "venv-snp",
   "language": "python",
   "name": "venv-snp"
  },
  "language_info": {
   "codemirror_mode": {
    "name": "ipython",
    "version": 3
   },
   "file_extension": ".py",
   "mimetype": "text/x-python",
   "name": "python",
   "nbconvert_exporter": "python",
   "pygments_lexer": "ipython3",
   "version": "3.9.1"
  }
 },
 "nbformat": 4,
 "nbformat_minor": 4
}

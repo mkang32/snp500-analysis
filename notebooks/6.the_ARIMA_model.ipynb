{
 "cells": [
  {
   "cell_type": "markdown",
   "metadata": {},
   "source": [
    "# Modeling Non-Stationary Data: The ARIMA Model\n",
    "\n",
    "* The need for ARIMA \n",
    "  * ARMA models perform subpar when computing non-stationary data \n",
    "  * ARIMA = Autoregressive Integrated Moving Average Model\n",
    "  * \"Integrated\" accounts for the number of non-seasonal differences we need to examine to establish stationarity \n",
    "  * Such a model targets the difference between the values in period T and the one preceding it\n",
    "  * It essentially estimates the jumps between prices rather than the actual prices\n",
    "  * In a sense it assumes a sort of random walk element to our data set and models the differences from one period to the next instead of the values themselves \n",
    "  * The purpose behind this complication of the model is to ensure staionarity no matter the underlying data. \n",
    "  * For some types of data including a single factor of integration is enough to reach stationarity. \n",
    "    * transforming prices into price returns is a way of brute integration \n",
    "\n",
    "* ARIMA notation\n",
    "\n",
    "  * ARIMA(p, d, q); three orders to define\n",
    "    * p: AR lags\n",
    "    * q: MA lags \n",
    "    * d: integration order \n",
    "  * d: Integration\n",
    "    * The number of times we need to integrate the time-series to ensure stationarity \n",
    "    * ARIMA(p, 0, q) = ARMA(p, q)\n",
    "    * ARIMA(0, 0, q) = AR(q)\n",
    "    * ARIMA(p, 0, 0) = MA(q)\n",
    "\n",
    "* ARMA intuition \n",
    "\n",
    "  * \"accounting for the non-seasonal difference between periods  to establish stationarity\"\n",
    "  * Hence, even the AR components in the model should be price differences rather than prices \n",
    "  * In a sense, we are integrating D many times to construct a new time series and then fitting said series into an ARIMA(p, q) model. \n",
    "\n",
    "* Equation\n",
    "\n",
    "  * ARIMA(1, 1, 1):\n",
    "\n",
    "    * $$\n",
    "      \\Delta P_t = c + \\varphi_1\\Delta P_{t-1} + \\theta_1\\epsilon_{t-1} + \\epsilon_t\n",
    "      $$\n",
    "\n",
    "    * $P_t, P_{t-1}$: Values in the current period and 1 period ago \n",
    "\n",
    "    * $\\epsilon_t, \\epsilon_{t-1}$: Error terms for the same two periods \n",
    "\n",
    "    * $c$: Baseline constant factor \n",
    "\n",
    "    * $\\varphi_1$: What part of the value last period is relevant in explaining the current one \n",
    "\n",
    "    * $\\theta_1$: What part of the error last period is relevant in explaining the currnet value\n",
    "\n",
    "    * $\\Delta P_t = P_t - P_{t-1}$\n",
    "\n",
    "  * ARIMA(p, d, q) is an ARMA(p, q) model for a newly generated time-series\n",
    "\n",
    "* Process\n",
    "\n",
    "  * Cannot use ACF or PACF directly using the raw data \n",
    "  * Instead, examine the ACF of the residuals \n",
    "  * Note that we will lose a single observation for any integration \n",
    "\n",
    "* Why we would avoid using ARIMA for staionary data \n",
    "\n",
    "    * ARIMA models are more computationally expensive than regular ARMA models\n",
    "      * e.g. generate every layer of integration one by one (p -> dP -> d'P -> d''P)\n",
    "      * e.g. also try to fit the new data using any of the regular ARMA models \n",
    "    * Data attrition \n",
    "      * We lose observations because of the conversion \n",
    "      * The more unnecessary layers we add, the more our model suffers \n",
    "    * Values become small for each differntiation \n",
    "      * The margin of something being significant or insignificant becomes really narrow\n",
    "      * This leas models to fail to converge \n",
    "      * It also causes numerical instability (computer approximates a small number to 0, losing information)\n",
    "    * Hard to interprete \n",
    "      * e.g. ARIMA(p, 4, q). The coefficients would be for 4th differentiate of the original time series"
   ]
  },
  {
   "cell_type": "code",
   "execution_count": 1,
   "metadata": {},
   "outputs": [],
   "source": [
    "import pandas as pd\n",
    "import numpy as np\n",
    "import matplotlib.pyplot as plt\n",
    "import statsmodels.graphics.tsaplots as sgt\n",
    "import statsmodels.tsa.stattools as sts\n",
    "from statsmodels.tsa.arima_model import ARIMA\n",
    "from scipy.stats.distributions import chi2\n",
    "from math import sqrt\n",
    "import seaborn as sns\n",
    "sns.set()\n",
    "\n",
    "import warnings\n",
    "warnings.filterwarnings('ignore')"
   ]
  },
  {
   "cell_type": "markdown",
   "metadata": {},
   "source": [
    "# Importing the data and pre-processing"
   ]
  },
  {
   "cell_type": "code",
   "execution_count": 2,
   "metadata": {},
   "outputs": [],
   "source": [
    "raw_csv_data = pd.read_csv('../data/Index2018.csv')\n",
    "df_comp = raw_csv_data.copy()\n",
    "df_comp.date = pd.to_datetime(df_comp.date, dayfirst=True)\n",
    "df_comp.set_index(\"date\", inplace=True)\n",
    "df_comp = df_comp.asfreq('b')\n",
    "df_comp = df_comp.fillna(method='ffill')"
   ]
  },
  {
   "cell_type": "code",
   "execution_count": 3,
   "metadata": {},
   "outputs": [],
   "source": [
    "df_comp['market_value'] = df_comp.ftse"
   ]
  },
  {
   "cell_type": "code",
   "execution_count": 4,
   "metadata": {},
   "outputs": [],
   "source": [
    "size = int(len(df_comp) * 0.8)\n",
    "df, df_test = df_comp.iloc[:size].copy(), df_comp.iloc[size:].copy()"
   ]
  },
  {
   "cell_type": "code",
   "execution_count": 5,
   "metadata": {},
   "outputs": [],
   "source": [
    "df['returns'] = df.market_value.pct_change(1) * 100"
   ]
  },
  {
   "cell_type": "markdown",
   "metadata": {},
   "source": [
    "# LLR Test"
   ]
  },
  {
   "cell_type": "code",
   "execution_count": 6,
   "metadata": {},
   "outputs": [],
   "source": [
    "def LLR_test(mod_1, mod_2, DF=1):\n",
    "    # DF: degrees of freedom\n",
    "    \n",
    "    # log likelihood\n",
    "    L1 = mod_1.fit().llf\n",
    "    L2 = mod_2.fit().llf\n",
    "    \n",
    "    # test statistic\n",
    "    LR = (2 * (L2 - L1))\n",
    "    p = chi2.sf(LR, DF).round(3)\n",
    "    \n",
    "    return p"
   ]
  },
  {
   "cell_type": "markdown",
   "metadata": {},
   "source": [
    "# ARIMA(1, 1, 1) "
   ]
  },
  {
   "cell_type": "code",
   "execution_count": 7,
   "metadata": {},
   "outputs": [
    {
     "data": {
      "text/plain": [
       "date\n",
       "1994-01-07    3445.98\n",
       "1994-01-10    3440.58\n",
       "1994-01-11    3413.77\n",
       "1994-01-12    3372.02\n",
       "1994-01-13    3360.01\n",
       "Freq: B, Name: market_value, dtype: float64"
      ]
     },
     "execution_count": 7,
     "metadata": {},
     "output_type": "execute_result"
    }
   ],
   "source": [
    "df.market_value.head()"
   ]
  },
  {
   "cell_type": "code",
   "execution_count": 8,
   "metadata": {},
   "outputs": [
    {
     "data": {
      "image/png": "[encoded data removed]",
      "text/plain": [
       "<Figure size 1080x360 with 1 Axes>"
      ]
     },
     "metadata": {},
     "output_type": "display_data"
    }
   ],
   "source": [
    "df.market_value.plot(figsize=(15, 5))\n",
    "plt.title(\"Market Price (ftse)\")\n",
    "plt.show()"
   ]
  },
  {
   "cell_type": "code",
   "execution_count": 9,
   "metadata": {},
   "outputs": [
    {
     "data": {
      "text/html": [
       "<table class=\"simpletable\">\n",
       "<caption>ARIMA Model Results</caption>\n",
       "<tr>\n",
       "  <th>Dep. Variable:</th>  <td>D.market_value</td>  <th>  No. Observations:  </th>    <td>5020</td>   \n",
       "</tr>\n",
       "<tr>\n",
       "  <th>Model:</th>          <td>ARIMA(1, 1, 1)</td>  <th>  Log Likelihood     </th> <td>-27603.666</td>\n",
       "</tr>\n",
       "<tr>\n",
       "  <th>Method:</th>             <td>css-mle</td>     <th>  S.D. of innovations</th>   <td>59.134</td>  \n",
       "</tr>\n",
       "<tr>\n",
       "  <th>Date:</th>          <td>Tue, 09 Feb 2021</td> <th>  AIC                </th>  <td>55215.333</td>\n",
       "</tr>\n",
       "<tr>\n",
       "  <th>Time:</th>              <td>22:58:38</td>     <th>  BIC                </th>  <td>55241.418</td>\n",
       "</tr>\n",
       "<tr>\n",
       "  <th>Sample:</th>           <td>01-10-1994</td>    <th>  HQIC               </th>  <td>55224.473</td>\n",
       "</tr>\n",
       "<tr>\n",
       "  <th></th>                 <td>- 04-05-2013</td>   <th>                     </th>      <td> </td>    \n",
       "</tr>\n",
       "</table>\n",
       "<table class=\"simpletable\">\n",
       "<tr>\n",
       "            <td></td>              <th>coef</th>     <th>std err</th>      <th>z</th>      <th>P>|z|</th>  <th>[0.025</th>    <th>0.975]</th>  \n",
       "</tr>\n",
       "<tr>\n",
       "  <th>const</th>                <td>    0.5656</td> <td>    0.682</td> <td>    0.829</td> <td> 0.407</td> <td>   -0.772</td> <td>    1.903</td>\n",
       "</tr>\n",
       "<tr>\n",
       "  <th>ar.L1.D.market_value</th> <td>    0.7475</td> <td>    0.070</td> <td>   10.651</td> <td> 0.000</td> <td>    0.610</td> <td>    0.885</td>\n",
       "</tr>\n",
       "<tr>\n",
       "  <th>ma.L1.D.market_value</th> <td>   -0.7936</td> <td>    0.064</td> <td>  -12.377</td> <td> 0.000</td> <td>   -0.919</td> <td>   -0.668</td>\n",
       "</tr>\n",
       "</table>\n",
       "<table class=\"simpletable\">\n",
       "<caption>Roots</caption>\n",
       "<tr>\n",
       "    <td></td>   <th>            Real</th>  <th>         Imaginary</th> <th>         Modulus</th>  <th>        Frequency</th>\n",
       "</tr>\n",
       "<tr>\n",
       "  <th>AR.1</th> <td>           1.3378</td> <td>          +0.0000j</td> <td>           1.3378</td> <td>           0.0000</td>\n",
       "</tr>\n",
       "<tr>\n",
       "  <th>MA.1</th> <td>           1.2601</td> <td>          +0.0000j</td> <td>           1.2601</td> <td>           0.0000</td>\n",
       "</tr>\n",
       "</table>"
      ],
      "text/plain": [
       "<class 'statsmodels.iolib.summary.Summary'>\n",
       "\"\"\"\n",
       "                             ARIMA Model Results                              \n",
       "==============================================================================\n",
       "Dep. Variable:         D.market_value   No. Observations:                 5020\n",
       "Model:                 ARIMA(1, 1, 1)   Log Likelihood              -27603.666\n",
       "Method:                       css-mle   S.D. of innovations             59.134\n",
       "Date:                Tue, 09 Feb 2021   AIC                          55215.333\n",
       "Time:                        22:58:38   BIC                          55241.418\n",
       "Sample:                    01-10-1994   HQIC                         55224.473\n",
       "                         - 04-05-2013                                         \n",
       "========================================================================================\n",
       "                           coef    std err          z      P>|z|      [0.025      0.975]\n",
       "----------------------------------------------------------------------------------------\n",
       "const                    0.5656      0.682      0.829      0.407      -0.772       1.903\n",
       "ar.L1.D.market_value     0.7475      0.070     10.651      0.000       0.610       0.885\n",
       "ma.L1.D.market_value    -0.7936      0.064    -12.377      0.000      -0.919      -0.668\n",
       "                                    Roots                                    \n",
       "=============================================================================\n",
       "                  Real          Imaginary           Modulus         Frequency\n",
       "-----------------------------------------------------------------------------\n",
       "AR.1            1.3378           +0.0000j            1.3378            0.0000\n",
       "MA.1            1.2601           +0.0000j            1.2601            0.0000\n",
       "-----------------------------------------------------------------------------\n",
       "\"\"\""
      ]
     },
     "execution_count": 9,
     "metadata": {},
     "output_type": "execute_result"
    }
   ],
   "source": [
    "model_ar_1_i_1_ma_1 = ARIMA(df.market_value, order=(1,1,1))\n",
    "results_ar_1_i_1_ma_1 = model_ar_1_i_1_ma_1.fit()\n",
    "results_ar_1_i_1_ma_1.summary()"
   ]
  },
  {
   "cell_type": "markdown",
   "metadata": {},
   "source": [
    "Note that there are only two coefficients to estimate; one for AR and the other for MA. The integration part of the ARIMA order is for transforming the underlying data, not to estimate.\n",
    "$$ \\text{ARIMA}(1, 1, 1) = \\Delta P_t = c + \\varphi_1\\Delta P_{t-1} + \\theta_1\\epsilon_{t-1} + \\epsilon_t$$\n",
    "\n",
    "The p-value for the constant is 0.407, suggesting that it is not significantly different from 0. So far, constant was zero for returns, and non-zero for prices. This suggests that ARIMA model with prices is close to ARMA with returns. "
   ]
  },
  {
   "cell_type": "markdown",
   "metadata": {},
   "source": [
    "# Residuals of the ARIMA(1, 1, 1)"
   ]
  },
  {
   "cell_type": "code",
   "execution_count": 10,
   "metadata": {},
   "outputs": [
    {
     "ename": "KeyError",
     "evalue": "'res_ar_1_i_1_ma_1'",
     "output_type": "error",
     "traceback": [
      "\u001b[0;31m---------------------------------------------------------------------------\u001b[0m",
      "\u001b[0;31mKeyError\u001b[0m                                  Traceback (most recent call last)",
      "\u001b[0;32m~/Dropbox/mk-personal-repo/snp500-analysis/venv-snp/lib/python3.9/site-packages/pandas/core/indexes/base.py\u001b[0m in \u001b[0;36mget_loc\u001b[0;34m(self, key, method, tolerance)\u001b[0m\n\u001b[1;32m   3079\u001b[0m             \u001b[0;32mtry\u001b[0m\u001b[0;34m:\u001b[0m\u001b[0;34m\u001b[0m\u001b[0;34m\u001b[0m\u001b[0m\n\u001b[0;32m-> 3080\u001b[0;31m                 \u001b[0;32mreturn\u001b[0m \u001b[0mself\u001b[0m\u001b[0;34m.\u001b[0m\u001b[0m_engine\u001b[0m\u001b[0;34m.\u001b[0m\u001b[0mget_loc\u001b[0m\u001b[0;34m(\u001b[0m\u001b[0mcasted_key\u001b[0m\u001b[0;34m)\u001b[0m\u001b[0;34m\u001b[0m\u001b[0;34m\u001b[0m\u001b[0m\n\u001b[0m\u001b[1;32m   3081\u001b[0m             \u001b[0;32mexcept\u001b[0m \u001b[0mKeyError\u001b[0m \u001b[0;32mas\u001b[0m \u001b[0merr\u001b[0m\u001b[0;34m:\u001b[0m\u001b[0;34m\u001b[0m\u001b[0;34m\u001b[0m\u001b[0m\n",
      "\u001b[0;32mpandas/_libs/index.pyx\u001b[0m in \u001b[0;36mpandas._libs.index.IndexEngine.get_loc\u001b[0;34m()\u001b[0m\n",
      "\u001b[0;32mpandas/_libs/index.pyx\u001b[0m in \u001b[0;36mpandas._libs.index.IndexEngine.get_loc\u001b[0;34m()\u001b[0m\n",
      "\u001b[0;32mpandas/_libs/hashtable_class_helper.pxi\u001b[0m in \u001b[0;36mpandas._libs.hashtable.PyObjectHashTable.get_item\u001b[0;34m()\u001b[0m\n",
      "\u001b[0;32mpandas/_libs/hashtable_class_helper.pxi\u001b[0m in \u001b[0;36mpandas._libs.hashtable.PyObjectHashTable.get_item\u001b[0;34m()\u001b[0m\n",
      "\u001b[0;31mKeyError\u001b[0m: 'res_ar_1_i_1_ma_1'",
      "\nThe above exception was the direct cause of the following exception:\n",
      "\u001b[0;31mKeyError\u001b[0m                                  Traceback (most recent call last)",
      "\u001b[0;32m<ipython-input-10-7c44e8a2ba51>\u001b[0m in \u001b[0;36m<module>\u001b[0;34m\u001b[0m\n\u001b[0;32m----> 1\u001b[0;31m \u001b[0mdf\u001b[0m\u001b[0;34m[\u001b[0m\u001b[0;34m'res_ar_1_i_1_ma_1'\u001b[0m\u001b[0;34m]\u001b[0m\u001b[0;34m\u001b[0m\u001b[0;34m\u001b[0m\u001b[0m\n\u001b[0m",
      "\u001b[0;32m~/Dropbox/mk-personal-repo/snp500-analysis/venv-snp/lib/python3.9/site-packages/pandas/core/frame.py\u001b[0m in \u001b[0;36m__getitem__\u001b[0;34m(self, key)\u001b[0m\n\u001b[1;32m   3022\u001b[0m             \u001b[0;32mif\u001b[0m \u001b[0mself\u001b[0m\u001b[0;34m.\u001b[0m\u001b[0mcolumns\u001b[0m\u001b[0;34m.\u001b[0m\u001b[0mnlevels\u001b[0m \u001b[0;34m>\u001b[0m \u001b[0;36m1\u001b[0m\u001b[0;34m:\u001b[0m\u001b[0;34m\u001b[0m\u001b[0;34m\u001b[0m\u001b[0m\n\u001b[1;32m   3023\u001b[0m                 \u001b[0;32mreturn\u001b[0m \u001b[0mself\u001b[0m\u001b[0;34m.\u001b[0m\u001b[0m_getitem_multilevel\u001b[0m\u001b[0;34m(\u001b[0m\u001b[0mkey\u001b[0m\u001b[0;34m)\u001b[0m\u001b[0;34m\u001b[0m\u001b[0;34m\u001b[0m\u001b[0m\n\u001b[0;32m-> 3024\u001b[0;31m             \u001b[0mindexer\u001b[0m \u001b[0;34m=\u001b[0m \u001b[0mself\u001b[0m\u001b[0;34m.\u001b[0m\u001b[0mcolumns\u001b[0m\u001b[0;34m.\u001b[0m\u001b[0mget_loc\u001b[0m\u001b[0;34m(\u001b[0m\u001b[0mkey\u001b[0m\u001b[0;34m)\u001b[0m\u001b[0;34m\u001b[0m\u001b[0;34m\u001b[0m\u001b[0m\n\u001b[0m\u001b[1;32m   3025\u001b[0m             \u001b[0;32mif\u001b[0m \u001b[0mis_integer\u001b[0m\u001b[0;34m(\u001b[0m\u001b[0mindexer\u001b[0m\u001b[0;34m)\u001b[0m\u001b[0;34m:\u001b[0m\u001b[0;34m\u001b[0m\u001b[0;34m\u001b[0m\u001b[0m\n\u001b[1;32m   3026\u001b[0m                 \u001b[0mindexer\u001b[0m \u001b[0;34m=\u001b[0m \u001b[0;34m[\u001b[0m\u001b[0mindexer\u001b[0m\u001b[0;34m]\u001b[0m\u001b[0;34m\u001b[0m\u001b[0;34m\u001b[0m\u001b[0m\n",
      "\u001b[0;32m~/Dropbox/mk-personal-repo/snp500-analysis/venv-snp/lib/python3.9/site-packages/pandas/core/indexes/base.py\u001b[0m in \u001b[0;36mget_loc\u001b[0;34m(self, key, method, tolerance)\u001b[0m\n\u001b[1;32m   3080\u001b[0m                 \u001b[0;32mreturn\u001b[0m \u001b[0mself\u001b[0m\u001b[0;34m.\u001b[0m\u001b[0m_engine\u001b[0m\u001b[0;34m.\u001b[0m\u001b[0mget_loc\u001b[0m\u001b[0;34m(\u001b[0m\u001b[0mcasted_key\u001b[0m\u001b[0;34m)\u001b[0m\u001b[0;34m\u001b[0m\u001b[0;34m\u001b[0m\u001b[0m\n\u001b[1;32m   3081\u001b[0m             \u001b[0;32mexcept\u001b[0m \u001b[0mKeyError\u001b[0m \u001b[0;32mas\u001b[0m \u001b[0merr\u001b[0m\u001b[0;34m:\u001b[0m\u001b[0;34m\u001b[0m\u001b[0;34m\u001b[0m\u001b[0m\n\u001b[0;32m-> 3082\u001b[0;31m                 \u001b[0;32mraise\u001b[0m \u001b[0mKeyError\u001b[0m\u001b[0;34m(\u001b[0m\u001b[0mkey\u001b[0m\u001b[0;34m)\u001b[0m \u001b[0;32mfrom\u001b[0m \u001b[0merr\u001b[0m\u001b[0;34m\u001b[0m\u001b[0;34m\u001b[0m\u001b[0m\n\u001b[0m\u001b[1;32m   3083\u001b[0m \u001b[0;34m\u001b[0m\u001b[0m\n\u001b[1;32m   3084\u001b[0m         \u001b[0;32mif\u001b[0m \u001b[0mtolerance\u001b[0m \u001b[0;32mis\u001b[0m \u001b[0;32mnot\u001b[0m \u001b[0;32mNone\u001b[0m\u001b[0;34m:\u001b[0m\u001b[0;34m\u001b[0m\u001b[0;34m\u001b[0m\u001b[0m\n",
      "\u001b[0;31mKeyError\u001b[0m: 'res_ar_1_i_1_ma_1'"
     ]
    }
   ],
   "source": [
    "df['res_ar_1_i_1_ma_1']"
   ]
  },
  {
   "cell_type": "code",
   "execution_count": null,
   "metadata": {},
   "outputs": [],
   "source": [
    "df['res_ar_1_i_1_ma_1'] = results_ar_1_i_1_ma_1.resid\n",
    "sgt.plot_acf(df.res_ar_1_i_1_ma_1, zero=False, lags=40)\n",
    "plt.title(\"ACF of Residuals for ARIMA(1, 1, 1)\")\n",
    "plt.show()"
   ]
  },
  {
   "cell_type": "markdown",
   "metadata": {},
   "source": [
    "The ACF failed to compute due to the missing value at the first element. Since the ACF starts by trying to compare elements from the very first one going foward, a missing value at the very beginning causes it to break. The easiest solution to this is to remove the first element. "
   ]
  },
  {
   "cell_type": "code",
   "execution_count": null,
   "metadata": {},
   "outputs": [],
   "source": [
    "sgt.plot_acf(df.res_ar_1_i_1_ma_1[1:], zero=False, lags=40)\n",
    "plt.title(\"ACF of Residuals for ARIMA(1, 1, 1)\")\n",
    "plt.show()"
   ]
  },
  {
   "cell_type": "markdown",
   "metadata": {},
   "source": [
    "The third and forth lags seems significant. Incorporating thses lags into our model might significantly improve the model performance."
   ]
  },
  {
   "cell_type": "markdown",
   "metadata": {},
   "source": [
    "# Higher-Lag ARIMA Models"
   ]
  },
  {
   "cell_type": "markdown",
   "metadata": {},
   "source": [
    "We will avoid doing all the unncessary trial and error steps we did for the ARMA model.\n",
    "\n",
    "Based on the fact that the third and fourth lags are significant, it leads us to experiment all from ARIMA(1, 1, 1) to ARIMA(4, 1, 4). Among those 15 models, these are the 5 models that yield all significant coefficients at the 5 percent level:\n",
    "- ARIMA(1, 1, 2)\n",
    "- ARIMA(1, 1, 3)\n",
    "- ARIMA(2, 1, 1)\n",
    "- ARIMA(3, 1, 2)\n",
    "- ARIMA(3, 1, 2)\n"
   ]
  },
  {
   "cell_type": "code",
   "execution_count": null,
   "metadata": {
    "scrolled": true
   },
   "outputs": [],
   "source": [
    "model_ar_1_i_1_ma_2 = ARIMA(df.market_value, order=(1,1,2))\n",
    "results_ar_1_i_1_ma_2 = model_ar_1_i_1_ma_2.fit()\n",
    "model_ar_1_i_1_ma_3 = ARIMA(df.market_value, order=(1,1,3))\n",
    "results_ar_1_i_1_ma_3 = model_ar_1_i_1_ma_3.fit()\n",
    "model_ar_2_i_1_ma_1 = ARIMA(df.market_value, order=(2,1,1))\n",
    "results_ar_2_i_1_ma_1 = model_ar_2_i_1_ma_1.fit()\n",
    "model_ar_3_i_1_ma_1 = ARIMA(df.market_value, order=(3,1,1))\n",
    "results_ar_3_i_1_ma_1 = model_ar_3_i_1_ma_1.fit()\n",
    "model_ar_3_i_1_ma_2 = ARIMA(df.market_value, order=(3,1,2))\n",
    "results_ar_3_i_1_ma_2 = model_ar_3_i_1_ma_2.fit(start_ar_lags=5)\n"
   ]
  },
  {
   "cell_type": "markdown",
   "metadata": {},
   "source": [
    "As always, make sure to provide enough starting AR lags for each model to allow the execution of the fit method without crashing by simply giving a numeric value greater than the AR order. We do that only for ARIMA(3,1,2) but remember to account for them with more complicated models. "
   ]
  },
  {
   "cell_type": "code",
   "execution_count": null,
   "metadata": {},
   "outputs": [],
   "source": [
    "print(\"ARIMA(1, 1, 1): LL = \", results_ar_1_i_1_ma_1.llf, \"\\tAIC = \", results_ar_1_i_1_ma_1.aic)\n",
    "print(\"ARIMA(1, 1, 2): LL = \", results_ar_1_i_1_ma_2.llf, \"\\tAIC = \", results_ar_1_i_1_ma_2.aic)\n",
    "print(\"ARIMA(1, 1, 3): LL = \", results_ar_1_i_1_ma_3.llf, \"\\tAIC = \", results_ar_1_i_1_ma_3.aic)\n",
    "print(\"ARIMA(2, 1, 1): LL = \", results_ar_2_i_1_ma_1.llf, \"\\tAIC = \", results_ar_2_i_1_ma_1.aic)\n",
    "print(\"ARIMA(3, 1, 1): LL = \", results_ar_3_i_1_ma_1.llf, \"\\tAIC = \", results_ar_3_i_1_ma_1.aic)\n",
    "print(\"ARIMA(3, 1, 2): LL = \", results_ar_3_i_1_ma_2.llf, \"\\tAIC = \", results_ar_3_i_1_ma_2.aic)\n"
   ]
  },
  {
   "cell_type": "markdown",
   "metadata": {},
   "source": [
    "This result shows that ARIMA(1, 1, 3) yields the highest log likelihood and the lowest AIC. However, since ARIMA(1, 1, 1) and ARIMA(1, 1, 2) are nested of ARIMA(1, 1, 3), we need to run the LLR test to see if ARIMA(1, 1, 3) significantly outperforms them. "
   ]
  },
  {
   "cell_type": "code",
   "execution_count": null,
   "metadata": {
    "scrolled": true
   },
   "outputs": [],
   "source": [
    "print(\"ARIMA(1, 1, 2) vs ARIMA(1, 1, 3):\", LLR_test(model_ar_1_i_1_ma_2, model_ar_1_i_1_ma_3))\n",
    "print(\"ARIMA(1, 1, 1) vs ARIMA(1, 1, 3):\", LLR_test(model_ar_1_i_1_ma_1, model_ar_1_i_1_ma_3, DF=2))\n"
   ]
  },
  {
   "cell_type": "markdown",
   "metadata": {},
   "source": [
    "The zero indicates that the higher complexity is necessary. So, looks like ARIMA(1, 1, 3) is the best model so far."
   ]
  },
  {
   "cell_type": "markdown",
   "metadata": {},
   "source": [
    "# Residuals of ARIMA(1, 1, 3)"
   ]
  },
  {
   "cell_type": "code",
   "execution_count": null,
   "metadata": {},
   "outputs": [],
   "source": [
    "df['res_ar_1_i_1_ma_3'] = results_ar_1_i_1_ma_3.resid.iloc[:]\n",
    "sgt.plot_acf(df.res_ar_1_i_1_ma_3[1:], zero=False, lags=40)\n",
    "plt.title(\"ACF for Residuals of ARIMA(1, 1, 3)\")\n",
    "plt.show()"
   ]
  },
  {
   "cell_type": "markdown",
   "metadata": {},
   "source": [
    "There seems to be a pattern at the 6th lag. Therefore, we need to examine models that include 6th lag - from ARIMA(1, 1, 1) to ARIMA(6, 1, 6). There are 6 x 6 = 36 models to check. After going through them, there are only two models that yielded significant values. \n",
    "- ARIMA(6, 1, 3)\n",
    "- ARIMA(5, 1, 1)\n",
    "\n",
    "Note that previously, we saw that ARMA(5, 1) was our preferred choice for price returns. so the fact that ARIMA(5, 1, 1) is a good estimator isn't all that surprising. "
   ]
  },
  {
   "cell_type": "code",
   "execution_count": null,
   "metadata": {},
   "outputs": [],
   "source": [
    "model_ar_5_i_1_ma_1 = ARIMA(df.market_value, order=(5,1,1))\n",
    "results_ar_5_i_1_ma_1 = model_ar_5_i_1_ma_1.fit()\n",
    "model_ar_6_i_1_ma_3 = ARIMA(df.market_value, order=(6,1,3))\n",
    "results_ar_6_i_1_ma_3 = model_ar_6_i_1_ma_3.fit()"
   ]
  },
  {
   "cell_type": "code",
   "execution_count": null,
   "metadata": {},
   "outputs": [],
   "source": [
    "print(\"ARIMA(1, 1, 3): LL = \", results_ar_1_i_1_ma_3.llf, \"\\tAIC = \", results_ar_1_i_1_ma_3.aic)\n",
    "print(\"ARIMA(5, 1, 1): LL = \", results_ar_5_i_1_ma_1.llf, \"\\tAIC = \", results_ar_5_i_1_ma_1.aic)\n",
    "print(\"ARIMA(6, 1, 3): LL = \", results_ar_6_i_1_ma_3.llf, \"\\tAIC = \", results_ar_6_i_1_ma_3.aic)\n"
   ]
  },
  {
   "cell_type": "markdown",
   "metadata": {},
   "source": [
    "Looks like ARIMA(6, 1, 3) has the highest log likelihood and the lowest AIC so it is the best estimator. Is the additional complexity worth it?"
   ]
  },
  {
   "cell_type": "code",
   "execution_count": null,
   "metadata": {},
   "outputs": [],
   "source": [
    "print(\"ARIMA(1, 1, 3) vs ARIMA(6, 1, 3):\", LLR_test(model_ar_1_i_1_ma_3, model_ar_6_i_1_ma_3, DF=5))\n",
    "print(\"ARIMA(5, 1, 1) vs ARIMA(6, 1, 3):\", LLR_test(model_ar_5_i_1_ma_1, model_ar_6_i_1_ma_3, DF=3))\n"
   ]
  },
  {
   "cell_type": "code",
   "execution_count": null,
   "metadata": {},
   "outputs": [],
   "source": [
    "df['res_ar_5_i_1_ma_1'] = results_ar_5_i_1_ma_1.resid.iloc[:]\n",
    "sgt.plot_acf(df.res_ar_5_i_1_ma_1[1:], zero=False, lags=40)\n",
    "plt.title(\"ACF for Residuals of ARIMA(5, 1, 1)\")\n",
    "plt.show()"
   ]
  },
  {
   "cell_type": "markdown",
   "metadata": {},
   "source": [
    "We can see none of the first 15 residuals have significant coefficients. This is great because we capture the 6th lag effect without directly incorporating the lag. We see some significant coefficients many lags into the past but we know that the further back the time we go, the less relevant the values become. \n",
    "\n",
    "If we include 35 lags the residuals will be white noise. It's important to remember that we want this model to be able to predict other time series data as well. Taking 35 lags will result in the model parameters become too dependent on the data set which will in turn take away from its predictive power. \n",
    "\n",
    "So, we decide ARIMA(5, 1, 1) is the best fitting model."
   ]
  },
  {
   "cell_type": "markdown",
   "metadata": {},
   "source": [
    "# Higher Levels of Integration"
   ]
  },
  {
   "cell_type": "markdown",
   "metadata": {},
   "source": [
    "We only rely on integration, when our time-series doesn't come from a stationary process. If a single layer of integration can accomplishes this, any additional integrations are unnecessary. How do we know if the integrated data set is stationary? 1) Manually create an integrated version of the original time-sereis and 2) use the Augmented Dickey-Fuller test. \n",
    "\n",
    "ARIMA(1, 1, 1) if prices is equivalent to ARMA(1, 1) of delta prices  \n",
    "ARIMA(1, 0, 1) is equipvalent to ARMA(1, 1)"
   ]
  },
  {
   "cell_type": "code",
   "execution_count": null,
   "metadata": {},
   "outputs": [],
   "source": [
    "df['delta_prices'] = df.market_value.diff(1)"
   ]
  },
  {
   "cell_type": "code",
   "execution_count": null,
   "metadata": {},
   "outputs": [],
   "source": [
    "# check ARIMA(1, 0, 1) of delta to see if \n",
    "# it is equivalent of ARIMA(1, 1, 1) of prices\n",
    "model_delta_ar_1_ma_1 = ARIMA(df.delta_prices[1:], order=(1, 0, 1))\n",
    "results_delta_ar_1_ma_1 = model_delta_ar_1_ma_1.fit()\n",
    "results_delta_ar_1_ma_1.summary()"
   ]
  },
  {
   "cell_type": "markdown",
   "metadata": {},
   "source": [
    "The coefficients and the p values are equivalent with those from ARIMA(1, 1, 1) of prices."
   ]
  },
  {
   "cell_type": "code",
   "execution_count": null,
   "metadata": {},
   "outputs": [],
   "source": [
    "sts.adfuller(df.delta_prices[1:])"
   ]
  },
  {
   "cell_type": "markdown",
   "metadata": {},
   "source": [
    "This verifies stationarity, and it means we do not need additional integration."
   ]
  },
  {
   "cell_type": "code",
   "execution_count": null,
   "metadata": {},
   "outputs": [],
   "source": []
  }
 ],
 "metadata": {
  "kernelspec": {
   "display_name": "venv-snp",
   "language": "python",
   "name": "venv-snp"
  },
  "language_info": {
   "codemirror_mode": {
    "name": "ipython",
    "version": 3
   },
   "file_extension": ".py",
   "mimetype": "text/x-python",
   "name": "python",
   "nbconvert_exporter": "python",
   "pygments_lexer": "ipython3",
   "version": "3.9.1"
  }
 },
 "nbformat": 4,
 "nbformat_minor": 4
}

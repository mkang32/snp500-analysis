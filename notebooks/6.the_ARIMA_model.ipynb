{
 "cells": [
  {
   "cell_type": "markdown",
   "metadata": {},
   "source": [
    "# Modeling Non-Stationary Data: The ARIMA Model\n",
    "\n",
    "* The need for ARIMA \n",
    "  * ARMA models perform subpar when computing non-stationary data \n",
    "  * ARIMA = Autoregressive Integrated Moving Average Model\n",
    "  * \"Integrated\" accounts for the number of non-seasonal differences we need to examine to establish stationarity \n",
    "  * Such a model targets the difference between the values in period T and the one preceding it\n",
    "  * It essentially estimates the jumps between prices rather than the actual prices\n",
    "  * In a sense it assumes a sort of random walk element to our data set and models the differences from one period to the next instead of the values themselves \n",
    "  * The purpose behind this complication of the model is to ensure staionarity no matter the underlying data. \n",
    "  * For some types of data including a single factor of integration is enough to reach stationarity. \n",
    "    * transforming prices into price returns is a way of brute integration \n",
    "\n",
    "* ARIMA notation\n",
    "\n",
    "  * ARIMA(p, d, q); three orders to define\n",
    "    * p: AR lags\n",
    "    * q: MA lags \n",
    "    * d: integration order \n",
    "  * d: Integration\n",
    "    * The number of times we need to integrate the time-series to ensure stationarity \n",
    "    * ARIMA(p, 0, q) = ARMA(p, q)\n",
    "    * ARIMA(0, 0, q) = AR(q)\n",
    "    * ARIMA(p, 0, 0) = MA(q)\n",
    "\n",
    "* ARMA intuition \n",
    "\n",
    "  * \"accounting for the non-seasonal difference between periods  to establish stationarity\"\n",
    "  * Hence, even the AR components in the model should be price differences rather than prices \n",
    "  * In a sense, we are integrating D many times to construct a new time series and then fitting said series into an ARIMA(p, q) model. \n",
    "\n",
    "* Equation\n",
    "\n",
    "  * ARIMA(1, 1, 1):\n",
    "\n",
    "    * $$\n",
    "      \\Delta P_t = c + \\varphi_1\\Delta P_{t-1} + \\theta_1\\epsilon_{t-1} + \\epsilon_t\n",
    "      $$\n",
    "\n",
    "    * $P_t, P_{t-1}$: Values in the current period and 1 period ago \n",
    "\n",
    "    * $\\epsilon_t, \\epsilon_{t-1}$: Error terms for the same two periods \n",
    "\n",
    "    * $c$: Baseline constant factor \n",
    "\n",
    "    * $\\varphi_1$: What part of the value last period is relevant in explaining the current one \n",
    "\n",
    "    * $\\theta_1$: What part of the error last period is relevant in explaining the currnet value\n",
    "\n",
    "    * $\\Delta P_t = P_t - P_{t-1}$\n",
    "\n",
    "  * ARIMA(p, d, q) is an ARMA(p, q) model for a newly generated time-series\n",
    "\n",
    "* Process\n",
    "\n",
    "  * Cannot use ACF or PACF directly using the raw data \n",
    "  * Instead, examine the ACF of the residuals \n",
    "  * Note that we will lose a single observation for any integration \n",
    "\n"
   ]
  },
  {
   "cell_type": "code",
   "execution_count": null,
   "metadata": {},
   "outputs": [],
   "source": []
  }
 ],
 "metadata": {
  "kernelspec": {
   "display_name": "venv-snp",
   "language": "python",
   "name": "venv-snp"
  },
  "language_info": {
   "codemirror_mode": {
    "name": "ipython",
    "version": 3
   },
   "file_extension": ".py",
   "mimetype": "text/x-python",
   "name": "python",
   "nbconvert_exporter": "python",
   "pygments_lexer": "ipython3",
   "version": "3.9.1"
  }
 },
 "nbformat": 4,
 "nbformat_minor": 4
}

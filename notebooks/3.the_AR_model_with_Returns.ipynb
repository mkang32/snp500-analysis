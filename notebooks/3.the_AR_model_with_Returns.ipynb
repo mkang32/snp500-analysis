{
 "cells": [
  {
   "cell_type": "code",
   "execution_count": 1,
   "metadata": {},
   "outputs": [],
   "source": [
    "import pandas as pd \n",
    "import numpy as np\n",
    "import matplotlib.pyplot as plt \n",
    "import statsmodels.tsa.stattools as sts\n",
    "import statsmodels.graphics.tsaplots as sgt \n",
    "from scipy.stats.distributions import chi2\n",
    "from statsmodels.tsa.arima_model import ARMA\n",
    "import seaborn as sns\n",
    "sns.set()\n",
    "\n",
    "import warnings\n",
    "warnings.filterwarnings('ignore', 'statsmodels.tsa.arima_model.ARMA',\n",
    "                        FutureWarning)\n",
    "warnings.filterwarnings('ignore', 'statsmodels.tsa.arima_model.ARIMA',\n",
    "                        FutureWarning)"
   ]
  },
  {
   "cell_type": "code",
   "execution_count": 2,
   "metadata": {},
   "outputs": [],
   "source": [
    "raw_data = pd.read_csv(\"../data/Index2018.csv\")\n",
    "df_comp = raw_data.copy()\n",
    "df_comp.date = pd.to_datetime(df_comp.date, dayfirst=True)\n",
    "df_comp.set_index(\"date\", inplace=True)\n",
    "df_comp = df_comp.asfreq('b')\n",
    "df_comp = df_comp.fillna(method='ffill')"
   ]
  },
  {
   "cell_type": "code",
   "execution_count": 3,
   "metadata": {},
   "outputs": [],
   "source": [
    "df_comp['market_value'] = df_comp.ftse\n",
    "del df_comp['spx']\n",
    "del df_comp['dax']\n",
    "del df_comp['ftse']\n",
    "del df_comp['nikkei']\n",
    "\n",
    "size = int(len(df_comp)*0.8)\n",
    "df, df_test = df_comp.iloc[:size].copy(), df_comp.iloc[size:].copy()"
   ]
  },
  {
   "cell_type": "markdown",
   "metadata": {},
   "source": [
    "# LLR Test"
   ]
  },
  {
   "cell_type": "code",
   "execution_count": 4,
   "metadata": {},
   "outputs": [],
   "source": [
    "def LLR_test(mod_1, mod_2, DF=1):\n",
    "    # DF: degrees of freedom\n",
    "    \n",
    "    # log likelihood\n",
    "    L1 = mod_1.fit().llf\n",
    "    L2 = mod_2.fit().llf\n",
    "    \n",
    "    # test statistic\n",
    "    LR = (2 * (L2 - L1))\n",
    "    p = chi2.sf(LR, DF).round(3)\n",
    "    \n",
    "    return p"
   ]
  },
  {
   "cell_type": "markdown",
   "metadata": {},
   "source": [
    "# The DF-Test"
   ]
  },
  {
   "cell_type": "code",
   "execution_count": 5,
   "metadata": {},
   "outputs": [
    {
     "data": {
      "text/plain": [
       "(-1.904155141883687,\n",
       " 0.330108932770283,\n",
       " 6,\n",
       " 5014,\n",
       " {'1%': -3.4316548765428174,\n",
       "  '5%': -2.8621166146845334,\n",
       "  '10%': -2.5670769326348926},\n",
       " 54854.15304507557)"
      ]
     },
     "execution_count": 5,
     "metadata": {},
     "output_type": "execute_result"
    }
   ],
   "source": [
    "sts.adfuller(df.market_value)"
   ]
  },
  {
   "cell_type": "markdown",
   "metadata": {},
   "source": [
    "The p-value of 0.33 indicates that ftse does not come from a stationary process. We cannot use AR models to non-stationary process. Therefore, we introduce a new concept called Return which is more likely to be stationary."
   ]
  },
  {
   "cell_type": "markdown",
   "metadata": {},
   "source": [
    "# Using Returns\n",
    "\n",
    "Returns in finance means the percentage change between two consecutive periods.\n",
    "\n",
    "$$\n",
    "\\frac{P_t - P_{t-1}}{P_{t-1}} \\times 100\n",
    "$$\n",
    "\n",
    "We can use this instead of the raw data to apply the AR models."
   ]
  },
  {
   "cell_type": "code",
   "execution_count": 6,
   "metadata": {},
   "outputs": [],
   "source": [
    "df['returns'] = df.market_value.pct_change(1).mul(100)\n",
    "df = df.iloc[1:] # because the first value in returns is null"
   ]
  },
  {
   "cell_type": "code",
   "execution_count": 7,
   "metadata": {},
   "outputs": [
    {
     "data": {
      "text/plain": [
       "(-12.770265719497232,\n",
       " 7.79805833603833e-24,\n",
       " 32,\n",
       " 4987,\n",
       " {'1%': -3.431661944885779,\n",
       "  '5%': -2.8621197374408225,\n",
       "  '10%': -2.5670785949998973},\n",
       " 15696.767245697501)"
      ]
     },
     "execution_count": 7,
     "metadata": {},
     "output_type": "execute_result"
    }
   ],
   "source": [
    "sts.adfuller(df.returns)"
   ]
  },
  {
   "cell_type": "markdown",
   "metadata": {},
   "source": [
    "Given the p-value of 7.798e-24, we can say the new series 'returns' is a stationary process."
   ]
  },
  {
   "cell_type": "markdown",
   "metadata": {},
   "source": [
    "# ACF and PACF of Returns"
   ]
  },
  {
   "cell_type": "code",
   "execution_count": 8,
   "metadata": {},
   "outputs": [
    {
     "data": {
      "image/png": "[encoded data removed]",
      "text/plain": [
       "<Figure size 432x288 with 1 Axes>"
      ]
     },
     "metadata": {},
     "output_type": "display_data"
    }
   ],
   "source": [
    "sgt.plot_acf(df.returns, zero=False)\n",
    "plt.title(\"ACF FTSE Returns\")\n",
    "plt.show()"
   ]
  },
  {
   "cell_type": "markdown",
   "metadata": {},
   "source": [
    "First we can notice that values for returns are greatly different from the ones for raw ftse data. Whereas the autocorrelation for the raw data was high throughout the all 40 lags, this only shows only a few (5 out of the first 6 lags) are significant. \n",
    "\n",
    "Also, we can notice consecutive values move different direction, from negative to positive or positive to negative. This indicates some form of natural adjustment occuring in the market. \n"
   ]
  },
  {
   "cell_type": "code",
   "execution_count": 9,
   "metadata": {},
   "outputs": [
    {
     "data": {
      "image/png": "[encoded data removed]",
      "text/plain": [
       "<Figure size 432x288 with 1 Axes>"
      ]
     },
     "metadata": {},
     "output_type": "display_data"
    }
   ],
   "source": [
    "sgt.plot_pacf(df.returns, zero=False, method=('ols'))\n",
    "plt.title(\"PACF FTSE Returns\")\n",
    "plt.show()"
   ]
  },
  {
   "cell_type": "markdown",
   "metadata": {},
   "source": [
    "This looks very similar to the ACF."
   ]
  },
  {
   "cell_type": "markdown",
   "metadata": {},
   "source": [
    "# AR(1) for Returns"
   ]
  },
  {
   "cell_type": "code",
   "execution_count": 11,
   "metadata": {},
   "outputs": [
    {
     "name": "stderr",
     "output_type": "stream",
     "text": [
      "/Users/minkyung/Dropbox/mk-personal-repo/snp500-analysis/venv-snp/lib/python3.9/site-packages/statsmodels/tsa/arima_model.py:472: FutureWarning: \n",
      "statsmodels.tsa.arima_model.ARMA and statsmodels.tsa.arima_model.ARIMA have\n",
      "been deprecated in favor of statsmodels.tsa.arima.model.ARIMA (note the .\n",
      "between arima and model) and\n",
      "statsmodels.tsa.SARIMAX. These will be removed after the 0.12 release.\n",
      "\n",
      "statsmodels.tsa.arima.model.ARIMA makes use of the statespace framework and\n",
      "is both well tested and maintained.\n",
      "\n",
      "To silence this warning and continue using ARMA and ARIMA until they are\n",
      "removed, use:\n",
      "\n",
      "import warnings\n",
      "warnings.filterwarnings('ignore', 'statsmodels.tsa.arima_model.ARMA',\n",
      "                        FutureWarning)\n",
      "warnings.filterwarnings('ignore', 'statsmodels.tsa.arima_model.ARIMA',\n",
      "                        FutureWarning)\n",
      "\n",
      "  warnings.warn(ARIMA_DEPRECATION_WARN, FutureWarning)\n"
     ]
    },
    {
     "data": {
      "text/html": [
       "<table class=\"simpletable\">\n",
       "<caption>ARMA Model Results</caption>\n",
       "<tr>\n",
       "  <th>Dep. Variable:</th>      <td>returns</td>     <th>  No. Observations:  </th>   <td>5020</td>   \n",
       "</tr>\n",
       "<tr>\n",
       "  <th>Model:</th>            <td>ARMA(1, 0)</td>    <th>  Log Likelihood     </th> <td>-7929.749</td>\n",
       "</tr>\n",
       "<tr>\n",
       "  <th>Method:</th>             <td>css-mle</td>     <th>  S.D. of innovations</th>   <td>1.174</td>  \n",
       "</tr>\n",
       "<tr>\n",
       "  <th>Date:</th>          <td>Thu, 14 Jan 2021</td> <th>  AIC                </th> <td>15865.497</td>\n",
       "</tr>\n",
       "<tr>\n",
       "  <th>Time:</th>              <td>23:08:17</td>     <th>  BIC                </th> <td>15885.061</td>\n",
       "</tr>\n",
       "<tr>\n",
       "  <th>Sample:</th>           <td>01-10-1994</td>    <th>  HQIC               </th> <td>15872.353</td>\n",
       "</tr>\n",
       "<tr>\n",
       "  <th></th>                 <td>- 04-05-2013</td>   <th>                     </th>     <td> </td>    \n",
       "</tr>\n",
       "</table>\n",
       "<table class=\"simpletable\">\n",
       "<tr>\n",
       "        <td></td>           <th>coef</th>     <th>std err</th>      <th>z</th>      <th>P>|z|</th>  <th>[0.025</th>    <th>0.975]</th>  \n",
       "</tr>\n",
       "<tr>\n",
       "  <th>const</th>         <td>    0.0188</td> <td>    0.016</td> <td>    1.159</td> <td> 0.247</td> <td>   -0.013</td> <td>    0.051</td>\n",
       "</tr>\n",
       "<tr>\n",
       "  <th>ar.L1.returns</th> <td>   -0.0230</td> <td>    0.014</td> <td>   -1.631</td> <td> 0.103</td> <td>   -0.051</td> <td>    0.005</td>\n",
       "</tr>\n",
       "</table>\n",
       "<table class=\"simpletable\">\n",
       "<caption>Roots</caption>\n",
       "<tr>\n",
       "    <td></td>   <th>            Real</th>  <th>         Imaginary</th> <th>         Modulus</th>  <th>        Frequency</th>\n",
       "</tr>\n",
       "<tr>\n",
       "  <th>AR.1</th> <td>         -43.4386</td> <td>          +0.0000j</td> <td>          43.4386</td> <td>           0.5000</td>\n",
       "</tr>\n",
       "</table>"
      ],
      "text/plain": [
       "<class 'statsmodels.iolib.summary.Summary'>\n",
       "\"\"\"\n",
       "                              ARMA Model Results                              \n",
       "==============================================================================\n",
       "Dep. Variable:                returns   No. Observations:                 5020\n",
       "Model:                     ARMA(1, 0)   Log Likelihood               -7929.749\n",
       "Method:                       css-mle   S.D. of innovations              1.174\n",
       "Date:                Thu, 14 Jan 2021   AIC                          15865.497\n",
       "Time:                        23:08:17   BIC                          15885.061\n",
       "Sample:                    01-10-1994   HQIC                         15872.353\n",
       "                         - 04-05-2013                                         \n",
       "=================================================================================\n",
       "                    coef    std err          z      P>|z|      [0.025      0.975]\n",
       "---------------------------------------------------------------------------------\n",
       "const             0.0188      0.016      1.159      0.247      -0.013       0.051\n",
       "ar.L1.returns    -0.0230      0.014     -1.631      0.103      -0.051       0.005\n",
       "                                    Roots                                    \n",
       "=============================================================================\n",
       "                  Real          Imaginary           Modulus         Frequency\n",
       "-----------------------------------------------------------------------------\n",
       "AR.1          -43.4386           +0.0000j           43.4386            0.5000\n",
       "-----------------------------------------------------------------------------\n",
       "\"\"\""
      ]
     },
     "execution_count": 11,
     "metadata": {},
     "output_type": "execute_result"
    }
   ],
   "source": [
    "model_ret_ar_1 = ARMA(df.returns, order=(1, 0))\n",
    "results_ret_ar_1 = model_ret_ar_1.fit()\n",
    "results_ret_ar_1.summary()"
   ]
  },
  {
   "cell_type": "markdown",
   "metadata": {},
   "source": [
    "The both p-values are greater than 0.05, meaning neither of them is significantly different from 0 and this model has no predictive power. So, we would want to test higher lag models serve as a better predictor. \n",
    "\n",
    "Keep in mind that the more easily yesterday's price is affected by higher lags, the more inaccurate its coefficient becomes, and less predictive power it has."
   ]
  },
  {
   "cell_type": "markdown",
   "metadata": {},
   "source": [
    "# Higher-Lag AR Models for Returns"
   ]
  },
  {
   "cell_type": "code",
   "execution_count": 13,
   "metadata": {},
   "outputs": [
    {
     "name": "stderr",
     "output_type": "stream",
     "text": [
      "/Users/minkyung/Dropbox/mk-personal-repo/snp500-analysis/venv-snp/lib/python3.9/site-packages/statsmodels/tsa/arima_model.py:472: FutureWarning: \n",
      "statsmodels.tsa.arima_model.ARMA and statsmodels.tsa.arima_model.ARIMA have\n",
      "been deprecated in favor of statsmodels.tsa.arima.model.ARIMA (note the .\n",
      "between arima and model) and\n",
      "statsmodels.tsa.SARIMAX. These will be removed after the 0.12 release.\n",
      "\n",
      "statsmodels.tsa.arima.model.ARIMA makes use of the statespace framework and\n",
      "is both well tested and maintained.\n",
      "\n",
      "To silence this warning and continue using ARMA and ARIMA until they are\n",
      "removed, use:\n",
      "\n",
      "import warnings\n",
      "warnings.filterwarnings('ignore', 'statsmodels.tsa.arima_model.ARMA',\n",
      "                        FutureWarning)\n",
      "warnings.filterwarnings('ignore', 'statsmodels.tsa.arima_model.ARIMA',\n",
      "                        FutureWarning)\n",
      "\n",
      "  warnings.warn(ARIMA_DEPRECATION_WARN, FutureWarning)\n"
     ]
    },
    {
     "data": {
      "text/html": [
       "<table class=\"simpletable\">\n",
       "<caption>ARMA Model Results</caption>\n",
       "<tr>\n",
       "  <th>Dep. Variable:</th>      <td>returns</td>     <th>  No. Observations:  </th>   <td>5020</td>   \n",
       "</tr>\n",
       "<tr>\n",
       "  <th>Model:</th>            <td>ARMA(2, 0)</td>    <th>  Log Likelihood     </th> <td>-7923.456</td>\n",
       "</tr>\n",
       "<tr>\n",
       "  <th>Method:</th>             <td>css-mle</td>     <th>  S.D. of innovations</th>   <td>1.173</td>  \n",
       "</tr>\n",
       "<tr>\n",
       "  <th>Date:</th>          <td>Thu, 14 Jan 2021</td> <th>  AIC                </th> <td>15854.911</td>\n",
       "</tr>\n",
       "<tr>\n",
       "  <th>Time:</th>              <td>23:15:51</td>     <th>  BIC                </th> <td>15880.996</td>\n",
       "</tr>\n",
       "<tr>\n",
       "  <th>Sample:</th>           <td>01-10-1994</td>    <th>  HQIC               </th> <td>15864.052</td>\n",
       "</tr>\n",
       "<tr>\n",
       "  <th></th>                 <td>- 04-05-2013</td>   <th>                     </th>     <td> </td>    \n",
       "</tr>\n",
       "</table>\n",
       "<table class=\"simpletable\">\n",
       "<tr>\n",
       "        <td></td>           <th>coef</th>     <th>std err</th>      <th>z</th>      <th>P>|z|</th>  <th>[0.025</th>    <th>0.975]</th>  \n",
       "</tr>\n",
       "<tr>\n",
       "  <th>const</th>         <td>    0.0188</td> <td>    0.015</td> <td>    1.220</td> <td> 0.222</td> <td>   -0.011</td> <td>    0.049</td>\n",
       "</tr>\n",
       "<tr>\n",
       "  <th>ar.L1.returns</th> <td>   -0.0242</td> <td>    0.014</td> <td>   -1.716</td> <td> 0.086</td> <td>   -0.052</td> <td>    0.003</td>\n",
       "</tr>\n",
       "<tr>\n",
       "  <th>ar.L2.returns</th> <td>   -0.0500</td> <td>    0.014</td> <td>   -3.550</td> <td> 0.000</td> <td>   -0.078</td> <td>   -0.022</td>\n",
       "</tr>\n",
       "</table>\n",
       "<table class=\"simpletable\">\n",
       "<caption>Roots</caption>\n",
       "<tr>\n",
       "    <td></td>   <th>            Real</th>  <th>         Imaginary</th> <th>         Modulus</th>  <th>        Frequency</th>\n",
       "</tr>\n",
       "<tr>\n",
       "  <th>AR.1</th> <td>          -0.2417</td> <td>          -4.4635j</td> <td>           4.4701</td> <td>          -0.2586</td>\n",
       "</tr>\n",
       "<tr>\n",
       "  <th>AR.2</th> <td>          -0.2417</td> <td>          +4.4635j</td> <td>           4.4701</td> <td>           0.2586</td>\n",
       "</tr>\n",
       "</table>"
      ],
      "text/plain": [
       "<class 'statsmodels.iolib.summary.Summary'>\n",
       "\"\"\"\n",
       "                              ARMA Model Results                              \n",
       "==============================================================================\n",
       "Dep. Variable:                returns   No. Observations:                 5020\n",
       "Model:                     ARMA(2, 0)   Log Likelihood               -7923.456\n",
       "Method:                       css-mle   S.D. of innovations              1.173\n",
       "Date:                Thu, 14 Jan 2021   AIC                          15854.911\n",
       "Time:                        23:15:51   BIC                          15880.996\n",
       "Sample:                    01-10-1994   HQIC                         15864.052\n",
       "                         - 04-05-2013                                         \n",
       "=================================================================================\n",
       "                    coef    std err          z      P>|z|      [0.025      0.975]\n",
       "---------------------------------------------------------------------------------\n",
       "const             0.0188      0.015      1.220      0.222      -0.011       0.049\n",
       "ar.L1.returns    -0.0242      0.014     -1.716      0.086      -0.052       0.003\n",
       "ar.L2.returns    -0.0500      0.014     -3.550      0.000      -0.078      -0.022\n",
       "                                    Roots                                    \n",
       "=============================================================================\n",
       "                  Real          Imaginary           Modulus         Frequency\n",
       "-----------------------------------------------------------------------------\n",
       "AR.1           -0.2417           -4.4635j            4.4701           -0.2586\n",
       "AR.2           -0.2417           +4.4635j            4.4701            0.2586\n",
       "-----------------------------------------------------------------------------\n",
       "\"\"\""
      ]
     },
     "execution_count": 13,
     "metadata": {},
     "output_type": "execute_result"
    }
   ],
   "source": [
    "model_ret_ar_2 = ARMA(df.returns, order=(2, 0))\n",
    "results_ret_ar_2 = model_ret_ar_2.fit()\n",
    "results_ret_ar_2.summary()"
   ]
  },
  {
   "cell_type": "code",
   "execution_count": 14,
   "metadata": {},
   "outputs": [
    {
     "data": {
      "text/plain": [
       "0.0"
      ]
     },
     "execution_count": 14,
     "metadata": {},
     "output_type": "execute_result"
    }
   ],
   "source": [
    "LLR_test(model_ret_ar_1, model_ret_ar_2, DF=1)"
   ]
  },
  {
   "cell_type": "markdown",
   "metadata": {},
   "source": [
    "AR(2) is better than AR(1) because \n",
    "- (1) the last coefficient is significant \n",
    "- (2) Log likelihood test passes (<0.05)\n",
    "- (3) Information criteria (AIC, BIC) are lower\n",
    "\n",
    "We keep increasing the number of lags until we find a model that does not meet the above criteria. It "
   ]
  },
  {
   "cell_type": "code",
   "execution_count": 15,
   "metadata": {},
   "outputs": [
    {
     "name": "stderr",
     "output_type": "stream",
     "text": [
      "/Users/minkyung/Dropbox/mk-personal-repo/snp500-analysis/venv-snp/lib/python3.9/site-packages/statsmodels/tsa/arima_model.py:472: FutureWarning: \n",
      "statsmodels.tsa.arima_model.ARMA and statsmodels.tsa.arima_model.ARIMA have\n",
      "been deprecated in favor of statsmodels.tsa.arima.model.ARIMA (note the .\n",
      "between arima and model) and\n",
      "statsmodels.tsa.SARIMAX. These will be removed after the 0.12 release.\n",
      "\n",
      "statsmodels.tsa.arima.model.ARIMA makes use of the statespace framework and\n",
      "is both well tested and maintained.\n",
      "\n",
      "To silence this warning and continue using ARMA and ARIMA until they are\n",
      "removed, use:\n",
      "\n",
      "import warnings\n",
      "warnings.filterwarnings('ignore', 'statsmodels.tsa.arima_model.ARMA',\n",
      "                        FutureWarning)\n",
      "warnings.filterwarnings('ignore', 'statsmodels.tsa.arima_model.ARIMA',\n",
      "                        FutureWarning)\n",
      "\n",
      "  warnings.warn(ARIMA_DEPRECATION_WARN, FutureWarning)\n"
     ]
    },
    {
     "data": {
      "text/html": [
       "<table class=\"simpletable\">\n",
       "<caption>ARMA Model Results</caption>\n",
       "<tr>\n",
       "  <th>Dep. Variable:</th>      <td>returns</td>     <th>  No. Observations:  </th>   <td>5020</td>   \n",
       "</tr>\n",
       "<tr>\n",
       "  <th>Model:</th>            <td>ARMA(6, 0)</td>    <th>  Log Likelihood     </th> <td>-7886.945</td>\n",
       "</tr>\n",
       "<tr>\n",
       "  <th>Method:</th>             <td>css-mle</td>     <th>  S.D. of innovations</th>   <td>1.164</td>  \n",
       "</tr>\n",
       "<tr>\n",
       "  <th>Date:</th>          <td>Thu, 14 Jan 2021</td> <th>  AIC                </th> <td>15789.890</td>\n",
       "</tr>\n",
       "<tr>\n",
       "  <th>Time:</th>              <td>23:20:23</td>     <th>  BIC                </th> <td>15842.059</td>\n",
       "</tr>\n",
       "<tr>\n",
       "  <th>Sample:</th>           <td>01-10-1994</td>    <th>  HQIC               </th> <td>15808.170</td>\n",
       "</tr>\n",
       "<tr>\n",
       "  <th></th>                 <td>- 04-05-2013</td>   <th>                     </th>     <td> </td>    \n",
       "</tr>\n",
       "</table>\n",
       "<table class=\"simpletable\">\n",
       "<tr>\n",
       "        <td></td>           <th>coef</th>     <th>std err</th>      <th>z</th>      <th>P>|z|</th>  <th>[0.025</th>    <th>0.975]</th>  \n",
       "</tr>\n",
       "<tr>\n",
       "  <th>const</th>         <td>    0.0189</td> <td>    0.013</td> <td>    1.414</td> <td> 0.157</td> <td>   -0.007</td> <td>    0.045</td>\n",
       "</tr>\n",
       "<tr>\n",
       "  <th>ar.L1.returns</th> <td>   -0.0245</td> <td>    0.014</td> <td>   -1.740</td> <td> 0.082</td> <td>   -0.052</td> <td>    0.003</td>\n",
       "</tr>\n",
       "<tr>\n",
       "  <th>ar.L2.returns</th> <td>   -0.0523</td> <td>    0.014</td> <td>   -3.716</td> <td> 0.000</td> <td>   -0.080</td> <td>   -0.025</td>\n",
       "</tr>\n",
       "<tr>\n",
       "  <th>ar.L3.returns</th> <td>   -0.0870</td> <td>    0.014</td> <td>   -6.174</td> <td> 0.000</td> <td>   -0.115</td> <td>   -0.059</td>\n",
       "</tr>\n",
       "<tr>\n",
       "  <th>ar.L4.returns</th> <td>    0.0424</td> <td>    0.014</td> <td>    3.009</td> <td> 0.003</td> <td>    0.015</td> <td>    0.070</td>\n",
       "</tr>\n",
       "<tr>\n",
       "  <th>ar.L5.returns</th> <td>   -0.0607</td> <td>    0.014</td> <td>   -4.309</td> <td> 0.000</td> <td>   -0.088</td> <td>   -0.033</td>\n",
       "</tr>\n",
       "<tr>\n",
       "  <th>ar.L6.returns</th> <td>   -0.0466</td> <td>    0.014</td> <td>   -3.302</td> <td> 0.001</td> <td>   -0.074</td> <td>   -0.019</td>\n",
       "</tr>\n",
       "</table>\n",
       "<table class=\"simpletable\">\n",
       "<caption>Roots</caption>\n",
       "<tr>\n",
       "    <td></td>   <th>            Real</th>  <th>         Imaginary</th> <th>         Modulus</th>  <th>        Frequency</th>\n",
       "</tr>\n",
       "<tr>\n",
       "  <th>AR.1</th> <td>           1.2869</td> <td>          -0.9022j</td> <td>           1.5716</td> <td>          -0.0973</td>\n",
       "</tr>\n",
       "<tr>\n",
       "  <th>AR.2</th> <td>           1.2869</td> <td>          +0.9022j</td> <td>           1.5716</td> <td>           0.0973</td>\n",
       "</tr>\n",
       "<tr>\n",
       "  <th>AR.3</th> <td>          -0.0727</td> <td>          -1.5282j</td> <td>           1.5299</td> <td>          -0.2576</td>\n",
       "</tr>\n",
       "<tr>\n",
       "  <th>AR.4</th> <td>          -0.0727</td> <td>          +1.5282j</td> <td>           1.5299</td> <td>           0.2576</td>\n",
       "</tr>\n",
       "<tr>\n",
       "  <th>AR.5</th> <td>          -1.8659</td> <td>          -0.4836j</td> <td>           1.9275</td> <td>          -0.4596</td>\n",
       "</tr>\n",
       "<tr>\n",
       "  <th>AR.6</th> <td>          -1.8659</td> <td>          +0.4836j</td> <td>           1.9275</td> <td>           0.4596</td>\n",
       "</tr>\n",
       "</table>"
      ],
      "text/plain": [
       "<class 'statsmodels.iolib.summary.Summary'>\n",
       "\"\"\"\n",
       "                              ARMA Model Results                              \n",
       "==============================================================================\n",
       "Dep. Variable:                returns   No. Observations:                 5020\n",
       "Model:                     ARMA(6, 0)   Log Likelihood               -7886.945\n",
       "Method:                       css-mle   S.D. of innovations              1.164\n",
       "Date:                Thu, 14 Jan 2021   AIC                          15789.890\n",
       "Time:                        23:20:23   BIC                          15842.059\n",
       "Sample:                    01-10-1994   HQIC                         15808.170\n",
       "                         - 04-05-2013                                         \n",
       "=================================================================================\n",
       "                    coef    std err          z      P>|z|      [0.025      0.975]\n",
       "---------------------------------------------------------------------------------\n",
       "const             0.0189      0.013      1.414      0.157      -0.007       0.045\n",
       "ar.L1.returns    -0.0245      0.014     -1.740      0.082      -0.052       0.003\n",
       "ar.L2.returns    -0.0523      0.014     -3.716      0.000      -0.080      -0.025\n",
       "ar.L3.returns    -0.0870      0.014     -6.174      0.000      -0.115      -0.059\n",
       "ar.L4.returns     0.0424      0.014      3.009      0.003       0.015       0.070\n",
       "ar.L5.returns    -0.0607      0.014     -4.309      0.000      -0.088      -0.033\n",
       "ar.L6.returns    -0.0466      0.014     -3.302      0.001      -0.074      -0.019\n",
       "                                    Roots                                    \n",
       "=============================================================================\n",
       "                  Real          Imaginary           Modulus         Frequency\n",
       "-----------------------------------------------------------------------------\n",
       "AR.1            1.2869           -0.9022j            1.5716           -0.0973\n",
       "AR.2            1.2869           +0.9022j            1.5716            0.0973\n",
       "AR.3           -0.0727           -1.5282j            1.5299           -0.2576\n",
       "AR.4           -0.0727           +1.5282j            1.5299            0.2576\n",
       "AR.5           -1.8659           -0.4836j            1.9275           -0.4596\n",
       "AR.6           -1.8659           +0.4836j            1.9275            0.4596\n",
       "-----------------------------------------------------------------------------\n",
       "\"\"\""
      ]
     },
     "execution_count": 15,
     "metadata": {},
     "output_type": "execute_result"
    }
   ],
   "source": [
    "model_ret_ar_6 = ARMA(df.returns, order=(6, 0))\n",
    "results_ret_ar_6 = model_ret_ar_6.fit()\n",
    "results_ret_ar_6.summary()"
   ]
  },
  {
   "cell_type": "code",
   "execution_count": null,
   "metadata": {},
   "outputs": [],
   "source": []
  }
 ],
 "metadata": {
  "kernelspec": {
   "display_name": "venv-snp",
   "language": "python",
   "name": "venv-snp"
  },
  "language_info": {
   "codemirror_mode": {
    "name": "ipython",
    "version": 3
   },
   "file_extension": ".py",
   "mimetype": "text/x-python",
   "name": "python",
   "nbconvert_exporter": "python",
   "pygments_lexer": "ipython3",
   "version": "3.9.1"
  }
 },
 "nbformat": 4,
 "nbformat_minor": 4
}
